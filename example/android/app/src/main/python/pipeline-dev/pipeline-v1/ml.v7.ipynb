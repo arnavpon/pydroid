{
 "cells": [
  {
   "cell_type": "code",
   "execution_count": 1,
   "metadata": {},
   "outputs": [],
   "source": [
    "import copy\n",
    "from datetime import datetime\n",
    "from joblib import Parallel, delayed\n",
    "import lightgbm as lgb\n",
    "from lightgbm.callback import early_stopping, log_evaluation\n",
    "import numpy as np\n",
    "import pandas as pd\n",
    "import random\n",
    "from scipy.signal import resample\n",
    "from sdtw import SoftDTW\n",
    "from sdtw.distance import SquaredEuclidean\n",
    "\n",
    "from skopt import gp_minimize\n",
    "from skopt.space import Real, Integer\n",
    "from skopt.utils import use_named_args"
   ]
  },
  {
   "cell_type": "code",
   "execution_count": 2,
   "metadata": {},
   "outputs": [],
   "source": [
    "import matplotlib.pyplot as plt\n",
    "\n",
    "%matplotlib inline\n",
    "plt.rcParams['figure.figsize'] = [18, 6]"
   ]
  },
  {
   "cell_type": "code",
   "execution_count": 3,
   "metadata": {},
   "outputs": [],
   "source": [
    "from truth import IeeeGroundTruth\n",
    "from wavelet import apply_wavelet\n",
    "from peaks import get_peaks_v2\n",
    "from signal_pross import (\n",
    "    normalize_signal,\n",
    "    detrend_w_poly,\n",
    "    normalize_amplitude_to_1,\n",
    "    n_moving_avg,\n",
    "    min_max_scale,\n",
    "    bandpass,\n",
    "    get_hr\n",
    ")"
   ]
  },
  {
   "cell_type": "code",
   "execution_count": 4,
   "metadata": {},
   "outputs": [],
   "source": [
    "truths = []\n",
    "for subject in range(1, 8):\n",
    "\n",
    "    truth = IeeeGroundTruth(subject, 1, directory = 'channel_data3')\n",
    "    truth.align_rgb_bvp()\n",
    "    truth.fill_nans()\n",
    "    truth.process_rgb()\n",
    "    truth.process_bvp()\n",
    "\n",
    "    truths.append(truth)"
   ]
  },
  {
   "cell_type": "code",
   "execution_count": 5,
   "metadata": {},
   "outputs": [],
   "source": [
    "class LossFactory:\n",
    "\n",
    "    def __init__(self, split_size, loss_type = 'mse', gamma = 1.0, mse_weight = None, dtw_weight = None):\n",
    "        \n",
    "        if loss_type not in ['mse', 'dtw', 'combined']:\n",
    "            raise ValueError(f'Loss type [{loss_type}] not supported')\n",
    "        \n",
    "        self.split_size = split_size\n",
    "        self.gamma = gamma\n",
    "        self.mse_weight = mse_weight\n",
    "        self.dtw_weight = dtw_weight\n",
    "\n",
    "        if loss_type == 'mse':\n",
    "            self.loss_function = self.mse_loss\n",
    "        elif loss_type == 'dtw':\n",
    "            self.loss_function = self.soft_dtw_loss\n",
    "        elif loss_type == 'combined':\n",
    "            self.loss_function = self.combined_loss\n",
    "        \n",
    "    def __call__(self, y_pred, data):\n",
    "        return self.loss_function(y_pred, data)\n",
    "\n",
    "    def mse_loss(self, y_pred, data):\n",
    "        \n",
    "        y_true = data.get_label()\n",
    "        num_batches = int(len(y_pred) / self.split_size)\n",
    "        errs = np.zeros_like(y_true)\n",
    "\n",
    "        for i in range(num_batches):\n",
    "\n",
    "            y_true_curr = y_true[i * self.split_size: (i + 1) * self.split_size]\n",
    "            y_pred_curr = y_pred[i * self.split_size: (i + 1) * self.split_size]\n",
    "            \n",
    "            err = y_true_curr - y_pred_curr\n",
    "            errs[i * self.split_size: (i + 1) * self.split_size] = err\n",
    "\n",
    "        grad = -2 * errs\n",
    "        hess = 2 * np.ones_like(y_true)\n",
    "        return grad, hess\n",
    "\n",
    "    def soft_dtw_loss(self, y_pred, data):\n",
    "\n",
    "        y_true = data.get_label()\n",
    "        num_batches = int(len(y_pred) / self.split_size)\n",
    "        grads = np.zeros_like(y_true)\n",
    "        hesses = np.zeros_like(y_true)\n",
    "\n",
    "        for i in range(num_batches):\n",
    "\n",
    "            y_true_curr = y_true[i * self.split_size: (i + 1) * self.split_size]\n",
    "            y_pred_curr = y_pred[i * self.split_size: (i + 1) * self.split_size]\n",
    "            \n",
    "            grad_curr, hess_curr = self.soft_dtw_loss_helper(y_true_curr, y_pred_curr)\n",
    "            grad_curr = grad_curr.flatten()\n",
    "            hess_curr = hess_curr.flatten()\n",
    "\n",
    "            grads[i * self.split_size: (i + 1) * self.split_size] = grad_curr\n",
    "            hesses[i * self.split_size: (i + 1) * self.split_size] = hess_curr\n",
    "\n",
    "        return grads, hesses\n",
    "    \n",
    "    def soft_dtw_loss_helper(self, y_true, y_pred):\n",
    "        x = y_true.reshape(-1, 1)\n",
    "        y = y_pred.reshape(-1, 1)\n",
    "        D = SquaredEuclidean(x, y)\n",
    "        sdtw = SoftDTW(D, gamma = self.gamma)\n",
    "        sdtw.compute()\n",
    "        E = sdtw.grad()\n",
    "        G = D.jacobian_product(E)\n",
    "        return G, np.ones(len(G))\n",
    "    \n",
    "    def combined_loss(self, y_pred, data):\n",
    "\n",
    "        if self.mse_weight is None or self.dtw_weight is None:\n",
    "            raise ValueError('mse_weight and dtw_weight must be set before calling combined_loss')\n",
    "\n",
    "        mse_grads, mse_hesses = self.mse_loss(y_pred, data)\n",
    "        dtw_grads, dtw_hesses = self.soft_dtw_loss(y_pred, data)\n",
    "\n",
    "        combined_grad = self.mse_weight * mse_grads + self.dtw_weight * dtw_grads\n",
    "        combined_hess = self.mse_weight * mse_hesses + self.dtw_weight * dtw_hesses\n",
    "\n",
    "        return combined_grad, combined_hess"
   ]
  },
  {
   "cell_type": "code",
   "execution_count": 6,
   "metadata": {},
   "outputs": [],
   "source": [
    "class LonePineGBM:\n",
    "    \n",
    "    def __init__(self, truths, label_col = 'bvp', subject_col = 'subject',\n",
    "                # model customization\n",
    "                model_type = 'gbdt', random_state = None, loss_type = 'mse', excluded_subject = None,\n",
    "                # hyperparameters\n",
    "                n_estimators = 100, split_size = 1280, learning_rate = 0.1, test_size = 0.3, early_stopping_rounds = 50,\n",
    "                mse_weight = None, dtw_weight = None, data_beg = 1000, data_end = 10000, batches = 1, finetune = True,\n",
    "                min_bandpass_freq = 0.67, max_bandpass_freq = 3.0, bandpass_order = 4,\n",
    "                predicted_peaks_prominence = 0.22, true_peaks_prominence = 0.15,\n",
    "                # hyperparams from LightGBM docs\n",
    "                max_depth = 7, num_leaves = 75, max_bin = 255,\n",
    "                num_feats_per_channel = 3, skip_amount = 15):\n",
    "        \n",
    "        if model_type not in ['gbdt', 'rf']:\n",
    "            raise ValueError(f'Model type [{model_type}] not supported')\n",
    "        \n",
    "        self.label_col = label_col\n",
    "        self.subject_col = subject_col\n",
    "\n",
    "        self.model_type = model_type\n",
    "        self.random_state = random_state\n",
    "        self.excluded_subject = excluded_subject\n",
    "\n",
    "        self.n_estimators = n_estimators\n",
    "        self.split_size = split_size\n",
    "        self.learning_rate = learning_rate\n",
    "        self.test_size = test_size\n",
    "        self.early_stopping_rounds = early_stopping_rounds\n",
    "\n",
    "        self.data_beg = data_beg\n",
    "        self.data_end = data_end\n",
    "        self.finetune = finetune\n",
    "\n",
    "        self.min_bandpass_freq = min_bandpass_freq\n",
    "        self.max_bandpass_freq = max_bandpass_freq\n",
    "        self.bandpass_order = bandpass_order\n",
    "        self.predicted_peaks_prominence = predicted_peaks_prominence\n",
    "        self.true_peaks_prominence = true_peaks_prominence\n",
    "\n",
    "        self.max_depth = max_depth\n",
    "        self.num_leaves = num_leaves\n",
    "        self.max_bin = max_bin\n",
    "\n",
    "        self.num_feats_per_channel = num_feats_per_channel\n",
    "        self.skip_amount = skip_amount\n",
    "\n",
    "        self.gbm = None\n",
    "        self.training_loss = None\n",
    "        self.test_loss = None\n",
    "\n",
    "        self.given_data = self.prepare_dataset_from_subjects(truths, data_beg = data_beg, data_end = data_end)\n",
    "        self.features = list(self.given_data.drop(columns = [self.label_col, self.subject_col]).columns)\n",
    "        if self.excluded_subject is not None:\n",
    "            self.given_data = self.given_data[self.given_data[self.subject_col] != self.excluded_subject]\n",
    "\n",
    "        if self.random_state is not None:\n",
    "            random.seed(self.random_state)\n",
    "        splits = self.split_data()\n",
    "        self.train_split_indices = random.sample(range(len(splits)), int(len(splits) * (1 - self.test_size)))\n",
    "        self.train_splits = [splits[i] for i in self.train_split_indices]\n",
    "        self.test_splits = [splits[i] for i in range(len(splits)) if i not in self.train_split_indices]\n",
    "        \n",
    "        self.train_data = []\n",
    "        batch_size = len(self.train_splits) // batches\n",
    "        print(f'Rows per batch: {batch_size * self.split_size}')\n",
    "        for batch_num in range(batches):\n",
    "            batch_split_idxs = random.sample(range(len(self.train_splits)), batch_size)\n",
    "            batch_splits = [self.train_splits[i] for i in batch_split_idxs]\n",
    "            self.train_splits = [self.train_splits[i] for i in range(len(self.train_splits)) if i not in batch_split_idxs]\n",
    "\n",
    "            train_indices = [idx for split in batch_splits for idx in split]\n",
    "            training_rows = self.given_data.iloc[train_indices].drop(columns = [self.subject_col])\n",
    "            train_X = training_rows.drop(columns = [self.label_col]).to_numpy()\n",
    "            train_y = training_rows[self.label_col].to_numpy()\n",
    "\n",
    "            batch_data = lgb.Dataset(train_X, train_y, free_raw_data = False)\n",
    "            self.train_data.append(batch_data)\n",
    "\n",
    "        test_indices = [idx for split in self.test_splits for idx in split]\n",
    "        test_rows = self.given_data.iloc[test_indices].drop(columns = [self.subject_col])\n",
    "        test_X = test_rows.drop(columns = [self.label_col]).to_numpy()\n",
    "        test_y = test_rows[self.label_col].to_numpy()\n",
    "        self.test_data = lgb.Dataset(test_X, test_y, free_raw_data = False)\n",
    "\n",
    "        self.loss = LossFactory(self.split_size, loss_type = loss_type, mse_weight = mse_weight, dtw_weight = dtw_weight)\n",
    "    \n",
    "    def split_data(self, to_exclude = None):\n",
    "        \n",
    "        data_in_use = self.given_data if to_exclude is None else self.given_data[~self.given_data[self.subject_col].isin(to_exclude)]\n",
    "\n",
    "        subject_indices = data_in_use.groupby(self.subject_col).indices\n",
    "        splits = []\n",
    "        for _, indices in subject_indices.items():\n",
    "            \n",
    "            n_splits = len(indices) // self.split_size\n",
    "            if n_splits > 0:\n",
    "\n",
    "                subject_splits = []\n",
    "                for i in range(n_splits):\n",
    "                    split_start = i * self.split_size\n",
    "                    split_end = (i + 1) * self.split_size\n",
    "                    subject_split = indices[split_start: split_end]\n",
    "                    subject_splits.append(subject_split)\n",
    "                \n",
    "                splits.extend(subject_splits)\n",
    "        \n",
    "        return splits\n",
    "\n",
    "    def fit(self):\n",
    "        t1 = datetime.today()\n",
    "        \n",
    "        params = {\n",
    "            'metric': 'None',\n",
    "            'verbosity': -1,\n",
    "            'learning_rate': self.learning_rate,\n",
    "            'objective': 'regression',\n",
    "            'boosting': self.model_type,\n",
    "            'max_depth': self.max_depth,\n",
    "            'num_leaves': self.num_leaves,\n",
    "            'max_bin': self.max_bin,\n",
    "        }\n",
    "    \n",
    "        if self.model_type == 'rf':\n",
    "            params['bagging_freq'] = 1\n",
    "            params['bagging_fraction'] = 0.8\n",
    "\n",
    "\n",
    "        training_loss_key = 'hr_err'\n",
    "        feval = self.hr_error_eval_metric\n",
    "        \n",
    "        training_meta = {}\n",
    "\n",
    "        for train_data in self.train_data:\n",
    "            \n",
    "            if self.model_type == 'gbdt':\n",
    "                self.gbm = lgb.train(\n",
    "                    params,\n",
    "                    train_data,\n",
    "                    valid_sets = [train_data, self.test_data],\n",
    "                    valid_names=['train', 'test'],\n",
    "                    fobj = self.loss,\n",
    "                    num_boost_round = self.n_estimators,\n",
    "                    feval=feval,\n",
    "                    callbacks=[\n",
    "                        early_stopping(stopping_rounds = self.early_stopping_rounds),\n",
    "                        log_evaluation(period=5)\n",
    "                    ],\n",
    "                    evals_result = training_meta,\n",
    "                    init_model = self.gbm\n",
    "                )\n",
    "            else:\n",
    "                self.gbm = lgb.train(\n",
    "                    params,\n",
    "                    train_data,\n",
    "                    valid_sets = [train_data, self.test_data],\n",
    "                    valid_names=['train', 'test'],\n",
    "                    num_boost_round = self.n_estimators,\n",
    "                    feval=feval,\n",
    "                    callbacks=[\n",
    "                        early_stopping(stopping_rounds = self.early_stopping_rounds),\n",
    "                        log_evaluation(period=5)\n",
    "                    ],\n",
    "                    evals_result = training_meta,\n",
    "                )\n",
    "\n",
    "            mse, hr_err, hr_err_sq = self.eval()\n",
    "            print(f'Before fine-tuning: MSE = {mse}, HR error = {hr_err}, HR error (squared) = {hr_err_sq}')\n",
    "\n",
    "            if self.model_type == 'gbdt' and self.finetune:\n",
    "                \n",
    "                print('\\n\\nFine-tuning...')\n",
    "                gbm_copy = copy.deepcopy(self.gbm)\n",
    "                pred = gbm_copy.predict(train_data.get_data())\n",
    "                \n",
    "                # new_targ = train_data.get_label() - pred\n",
    "                new_targ = np.ones(len(pred))\n",
    "                nsplits = len(pred) // self.split_size\n",
    "                labels = train_data.get_label()\n",
    "                for i in range(nsplits):\n",
    "                    pred_curr = pred[i * self.split_size: (i + 1) * self.split_size]\n",
    "                    label_curr = labels[i * self.split_size: (i + 1) * self.split_size]\n",
    "                    hr_err = self.get_hr_error(pred_curr, label_curr, square = True)\n",
    "                    new_targ[i * self.split_size: (i + 1) * self.split_size] = hr_err\n",
    "                \n",
    "                new_train_data = lgb.Dataset(train_data.get_data(), label = new_targ)\n",
    "\n",
    "                self.gbm = lgb.train(\n",
    "                    params,\n",
    "                    new_train_data,\n",
    "                    valid_sets = [new_train_data, self.test_data],\n",
    "                    valid_names=['train', 'test'],\n",
    "                    fobj = self.loss,\n",
    "                    num_boost_round = self.n_estimators // 2,\n",
    "                    feval=feval,\n",
    "                    callbacks=[\n",
    "                        early_stopping(stopping_rounds = self.early_stopping_rounds // 2),\n",
    "                        log_evaluation(period=5)\n",
    "                    ],\n",
    "                    evals_result = training_meta,\n",
    "                    init_model = gbm_copy\n",
    "                )\n",
    "\n",
    "            \n",
    "\n",
    "        self.training_loss = training_meta['train'][training_loss_key]\n",
    "        self.test_loss = training_meta['test'][training_loss_key]\n",
    "        print(f'Finished training in {datetime.today() - t1}')\n",
    "\n",
    "    def predict(self, X):\n",
    "        return self.gbm.predict(X)\n",
    "\n",
    "    def eval(self):\n",
    "        \n",
    "        test_X = self.test_data.get_data()\n",
    "        test_y = self.test_data.get_label()\n",
    "        nsplits = int(len(test_X) / self.split_size)\n",
    "        errs = []\n",
    "        mses = np.zeros(len(test_X))\n",
    "        \n",
    "        for i in range(nsplits):\n",
    "\n",
    "            curr_pred = self.predict(test_X[i * self.split_size: (i + 1) * self.split_size, :])\n",
    "            curr_true = test_y[i * self.split_size: (i + 1) * self.split_size]\n",
    "            curr_true, curr_pred = self.process_signal(curr_true, curr_pred, smoothing_window = 5, use_bandpass = True)\n",
    "            \n",
    "            mses[i * self.split_size: (i + 1) * self.split_size] = curr_true - curr_pred\n",
    "            hr_err = self.get_hr_error(curr_true, curr_pred, square = False)\n",
    "            errs.append(hr_err)\n",
    "        \n",
    "        return np.mean(np.square(mses)), np.mean(errs), np.mean(np.square(errs))\n",
    "\n",
    "    def plot_loss(self):\n",
    "        if self.training_loss is not None and self.test_loss is not None:\n",
    "            training_loss_normed = min_max_scale(self.training_loss)\n",
    "            test_loss_normed = min_max_scale(self.test_loss)\n",
    "            plt.plot(training_loss_normed, label = 'training loss')\n",
    "            plt.plot(test_loss_normed, label = 'test loss')\n",
    "            plt.legend()\n",
    "        \n",
    "    def get_model_stats(self):\n",
    "\n",
    "        model_info = self.gbm.dump_model()\n",
    "        tree_depths = []\n",
    "\n",
    "        for tree_info in model_info['tree_info']:\n",
    "            tree_structure = tree_info['tree_structure']\n",
    "            \n",
    "            # Recursive function to compute the depth of a tree\n",
    "            def calculate_depth(node, current_depth=0):\n",
    "                if 'leaf_value' in node:\n",
    "                    return current_depth\n",
    "                else:\n",
    "                    left_depth = calculate_depth(node['left_child'], current_depth + 1)\n",
    "                    right_depth = calculate_depth(node['right_child'], current_depth + 1)\n",
    "                    return max(left_depth, right_depth)\n",
    "\n",
    "            tree_depth = calculate_depth(tree_structure)\n",
    "            tree_depths.append(tree_depth)\n",
    "        \n",
    "\n",
    "        print(f'Best test loss: {min(self.test_loss)}\\n')\n",
    "        print('Tree depth stats:')\n",
    "        print('Min tree depth:', min(tree_depths))\n",
    "        print('Max tree depth:', max(tree_depths))\n",
    "        print('Avg tree depth:', np.mean(tree_depths))\n",
    "        print('\\nFeature importances:')\n",
    "        display(self.get_feature_importances())\n",
    "    \n",
    "    def get_feature_importances(self):\n",
    "        importances = self.gbm.feature_importance(importance_type='gain')\n",
    "        feature_importances = pd.DataFrame({'feature': self.features, 'importance': importances})\n",
    "        feature_importances = feature_importances.sort_values('importance', ascending=False)\n",
    "        return feature_importances\n",
    "    \n",
    "    def hr_error_eval_metric(self, y_pred, eval_data):\n",
    "        y_true = eval_data.get_label()\n",
    "        nsplits = int(len(y_pred) / self.split_size)\n",
    "        hr_err = []\n",
    "        for i in range(nsplits):\n",
    "            curr_pred = y_pred[i * self.split_size: (i + 1) * self.split_size]\n",
    "            curr_true = y_true[i * self.split_size: (i + 1) * self.split_size]\n",
    "            curr_true, curr_pred = self.process_signal(curr_true, curr_pred, smoothing_window = 10, use_bandpass = True)\n",
    "            hr_err.append(self.get_hr_error(curr_true, curr_pred, square = False))\n",
    "        return 'hr_err', np.mean(hr_err), False\n",
    "    \n",
    "    def get_hr_error(self, y_true, y_pred, square = True):\n",
    "\n",
    "        true_peaks, _ = self.get_true_peaks(y_true)\n",
    "        pred_peaks, _ = self.get_predicted_peaks(y_pred)\n",
    "\n",
    "        if len(true_peaks) >= 2:\n",
    "            true_ibis = np.diff(true_peaks) / 64\n",
    "            true_hr = 60 / np.mean(true_ibis)\n",
    "        else:\n",
    "            true_hr = 0\n",
    "\n",
    "        if len(pred_peaks) >= 2:\n",
    "            pred_ibis = np.diff(pred_peaks) / 64\n",
    "            pred_hr = 60 / np.mean(pred_ibis)\n",
    "        else:\n",
    "            pred_hr = 0\n",
    "        \n",
    "        if square:\n",
    "            return np.power(true_hr - pred_hr, 2)\n",
    "        return abs(true_hr - pred_hr)\n",
    "    \n",
    "    def process_signal(self, y_true, y_pred, smoothing_window = 10, use_bandpass = False):\n",
    "    \n",
    "        orig_len = len(y_pred)\n",
    "        y_pred = n_moving_avg(y_pred, smoothing_window)\n",
    "        y_pred = resample(y_pred, orig_len)\n",
    "        if use_bandpass:\n",
    "            y_pred = bandpass(y_pred, 64, [self.min_bandpass_freq, self.max_bandpass_freq], self.bandpass_order)\n",
    "        y_pred = min_max_scale(y_pred)\n",
    "        \n",
    "        y_true = n_moving_avg(y_true, 20)\n",
    "        y_true = resample(y_true, orig_len)\n",
    "        if use_bandpass:\n",
    "            y_true = bandpass(y_true, 64, [self.min_bandpass_freq, self.max_bandpass_freq], self.bandpass_order)\n",
    "        y_true = min_max_scale(y_true)\n",
    "        \n",
    "        return y_true, y_pred\n",
    "    \n",
    "    def get_predicted_peaks(self, signal):\n",
    "        return get_peaks_v2(signal, 64, 3.0, -1, prominence = self.predicted_peaks_prominence, with_min_dist = True, with_valleys = False)\n",
    "    def get_true_peaks(self, signal):\n",
    "        return get_peaks_v2(signal, 64, 3.0, -1, prominence = self.true_peaks_prominence, with_min_dist = True, with_valleys = False)\n",
    "\n",
    "    def prepare_dataset_from_subjects(self, truths, data_beg = 1000, data_end = 2000):\n",
    "        data_arr = []\n",
    "        for i in range(len(truths)):    \n",
    "            truth = truths[i]\n",
    "            data = truth.prepare_data_for_ml(self.num_feats_per_channel, self.skip_amount)\n",
    "            data = data.iloc[data_beg: data_end, :]\n",
    "            data['subject'] = i + 1\n",
    "            data_arr.append(data)\n",
    "        return pd.concat(data_arr)\n"
   ]
  },
  {
   "cell_type": "code",
   "execution_count": 9,
   "metadata": {},
   "outputs": [],
   "source": [
    "def subjectwise_kfold(truths, model_type = 'gbdt', random_state = None, loss_type = 'mse',\n",
    "                    n_estimators = 100, split_size = 1280, learning_rate = 0.1, test_size = 0.3, early_stopping_rounds = 50,\n",
    "                    mse_weight = None, dtw_weight = None, data_beg = 1000, data_end = 10000, batches = 1, finetune = True, \n",
    "                    min_bandpass_freq = 0.67, max_bandpass_freq = 3.0, bandpass_order = 4,\n",
    "                    predicted_peaks_prominence = 0.22, true_peaks_prominence = 0.15,\n",
    "                    max_depth = 7, num_leaves = 75, max_bin = 255, num_feats_per_channel = 3, skip_amount = 15,\n",
    "                    rounds_per_model = 1):\n",
    "        \n",
    "        models = {}\n",
    "        for subj_idx in range(len(truths)):\n",
    "            models[subj_idx + 1] = []\n",
    "            for i in range(rounds_per_model):\n",
    "                \n",
    "                print(f'\\n\\nTraining excluding subject {subj_idx + 1}...\\n')\n",
    "                mod = LonePineGBM(\n",
    "                    truths = truths,\n",
    "                    model_type = model_type,\n",
    "                    random_state = random_state,\n",
    "                    loss_type = loss_type,\n",
    "                    n_estimators = n_estimators,\n",
    "                    split_size = split_size,\n",
    "                    learning_rate = learning_rate,\n",
    "                    test_size = test_size,\n",
    "                    early_stopping_rounds = early_stopping_rounds,\n",
    "                    mse_weight = mse_weight,\n",
    "                    dtw_weight = dtw_weight,\n",
    "                    data_beg = data_beg,\n",
    "                    data_end = data_end,\n",
    "                    batches = batches,\n",
    "                    finetune = finetune,\n",
    "                    min_bandpass_freq = min_bandpass_freq,\n",
    "                    max_bandpass_freq = max_bandpass_freq,\n",
    "                    bandpass_order = bandpass_order,\n",
    "                    predicted_peaks_prominence = predicted_peaks_prominence,\n",
    "                    true_peaks_prominence = true_peaks_prominence,\n",
    "                    max_depth = max_depth,\n",
    "                    num_leaves = num_leaves,\n",
    "                    max_bin = max_bin,\n",
    "                    num_feats_per_channel = num_feats_per_channel,\n",
    "                    skip_amount = skip_amount,\n",
    "                    excluded_subject = subj_idx + 1\n",
    "                )\n",
    "                mod.fit()\n",
    "                models[subj_idx + 1].append(mod)\n",
    "        \n",
    "        model_performances = {}\n",
    "        for subj_idx in models:\n",
    "            model_performances[subj_idx] = []\n",
    "            for i in range(rounds_per_model):\n",
    "                mod = models[subj_idx][i]\n",
    "                model_performances[subj_idx].append(mod.eval())\n",
    "        \n",
    "        mean_hr_score = np.mean([model_performances[subj_idx][i][1] for subj_idx in model_performances for i in range(rounds_per_model)])\n",
    "        return mean_hr_score, models, model_performances\n",
    "    \n",
    "\n",
    "class LonePineOptimizer:\n",
    "\n",
    "    def __init__(self, truths):\n",
    "        self.truths = truths\n",
    "    \n",
    "    def objective(self, n_estimators = 100, split_size = 1280, learning_rate = 0.1, test_size = 0.3, early_stopping_rounds = 50,\n",
    "                    mse_weight = None, dtw_weight = None, data_beg = 1000, data_end = 2000, batches = 1, finetune = True, \n",
    "                    min_bandpass_freq = 0.67, max_bandpass_freq = 3.0, bandpass_order = 4,\n",
    "                    predicted_peaks_prominence = 0.22, true_peaks_prominence = 0.15,\n",
    "                    max_depth = 7, num_leaves = 75, max_bin = 255, num_feats_per_channel = 3, skip_amount = 15):\n",
    "\n",
    "        hr_score, _, _ = subjectwise_kfold(\n",
    "            self.truths,\n",
    "            model_type = 'gbdt',\n",
    "            random_state = None,\n",
    "            loss_type = 'combined',\n",
    "            n_estimators = n_estimators,\n",
    "            split_size = split_size,\n",
    "            learning_rate = learning_rate,\n",
    "            early_stopping_rounds = 50,\n",
    "            mse_weight = mse_weight,\n",
    "            dtw_weight = dtw_weight,\n",
    "            data_beg = data_beg,\n",
    "            data_end = data_end,\n",
    "            batches = batches,\n",
    "            finetune = finetune,\n",
    "            min_bandpass_freq = min_bandpass_freq,\n",
    "            max_bandpass_freq = max_bandpass_freq,\n",
    "            bandpass_order = bandpass_order,\n",
    "            predicted_peaks_prominence = predicted_peaks_prominence,\n",
    "            true_peaks_prominence = true_peaks_prominence,\n",
    "            max_depth = max_depth,\n",
    "            num_leaves = num_leaves,\n",
    "            max_bin = max_bin,\n",
    "            num_feats_per_channel = num_feats_per_channel,\n",
    "            skip_amount = skip_amount,\n",
    "        )\n",
    "        return hr_score\n",
    "    \n",
    "    def optimize(self, n_calls = 50):\n",
    "\n",
    "        space = [\n",
    "            Integer(50, 300, name = \"n_estimators\"),\n",
    "            Integer(640, 1280, name = \"split_size\"),\n",
    "            Real(0.002, 0.5, name = \"learning_rate\"),\n",
    "            Integer(10, 100, name = \"early_stopping_rounds\"),\n",
    "            Real(0.0, 1.0, name = \"mse_weight\"),\n",
    "            Real(0.0, 1.0, name = \"dtw_weight\"),\n",
    "            Integer(1000, 4000, name = \"data_beg\"),\n",
    "            Integer(6000, 10000, name = \"data_end\"),\n",
    "            Integer(1, 8, name = \"batches\"),\n",
    "            Real(0.4, 1.0, name = \"min_bandpass_freq\"),\n",
    "            Real(2.5, 4.0, name = \"max_bandpass_freq\"),\n",
    "            Integer(2, 6, name = \"bandpass_order\"),\n",
    "            Real(0.1, 0.75, name = \"predicted_peaks_prominence\"),\n",
    "            Real(0.1, 0.5, name = \"true_peaks_prominence\"),\n",
    "            Integer(3, 10, name = \"max_depth\"),\n",
    "            Integer(30, 140, name = \"num_leaves\"),\n",
    "            Integer(100, 300, name = \"max_bin\"),\n",
    "            Integer(3, 10, name = \"num_feats_per_channel\"),\n",
    "            Integer(5, 25, name = \"skip_amount\"),\n",
    "        ]\n",
    "\n",
    "        @use_named_args(space)\n",
    "        def wrapped_objective(**params):\n",
    "            return self.objective(**params)\n",
    "        \n",
    "        result = gp_minimize(\n",
    "            wrapped_objective, space, n_calls=n_calls, random_state=42, verbose=1\n",
    "        )\n",
    "\n",
    "        return result"
   ]
  },
  {
   "cell_type": "code",
   "execution_count": null,
   "metadata": {},
   "outputs": [],
   "source": [
    "models, model_performances = subjectwise_kfold(\n",
    "    truths, model_type = 'gbdt', random_state = None, loss_type = 'combined',\n",
    "    n_estimators = 100, split_size = 1280, learning_rate = 0.005, test_size = 0.3, \n",
    "    early_stopping_rounds = 50, mse_weight = 0.25, dtw_weight = 0.75, \n",
    "    data_beg = 3000, data_end = 5000, batches = 1, finetune = False, rounds_per_model = 1\n",
    ")"
   ]
  },
  {
   "cell_type": "code",
   "execution_count": 10,
   "metadata": {},
   "outputs": [
    {
     "name": "stdout",
     "output_type": "stream",
     "text": [
      "Iteration No: 1 started. Evaluating function at random point.\n",
      "\n",
      "\n",
      "Training excluding subject 1...\n",
      "\n",
      "Rows per batch: 7570\n"
     ]
    },
    {
     "name": "stderr",
     "output_type": "stream",
     "text": [
      "/Users/samuelhmorton/opt/anaconda3/lib/python3.7/site-packages/lightgbm/engine.py:260: UserWarning: 'evals_result' argument is deprecated and will be removed in a future release of LightGBM. Pass 'record_evaluation()' callback via 'callbacks' argument instead.\n",
      "  _log_warning(\"'evals_result' argument is deprecated and will be removed in a future release of LightGBM. \"\n"
     ]
    },
    {
     "name": "stdout",
     "output_type": "stream",
     "text": [
      "Training until validation scores don't improve for 50 rounds\n",
      "[5]\ttrain's hr_err: 48.0302\ttest's hr_err: 53.0588\n",
      "[10]\ttrain's hr_err: 47.1618\ttest's hr_err: 51.9423\n",
      "[15]\ttrain's hr_err: 42.5519\ttest's hr_err: 48.6065\n",
      "[20]\ttrain's hr_err: 45.1783\ttest's hr_err: 56.9212\n",
      "[25]\ttrain's hr_err: 42.0292\ttest's hr_err: 57.7301\n",
      "[30]\ttrain's hr_err: 42.2784\ttest's hr_err: 52.6751\n",
      "[35]\ttrain's hr_err: 39.802\ttest's hr_err: 53.5478\n",
      "[40]\ttrain's hr_err: 43.0313\ttest's hr_err: 57.2822\n",
      "[45]\ttrain's hr_err: 40.282\ttest's hr_err: 56.2944\n",
      "[50]\ttrain's hr_err: 41.01\ttest's hr_err: 54.8751\n",
      "Early stopping, best iteration is:\n",
      "[3]\ttrain's hr_err: 49.5746\ttest's hr_err: 44.6183\n",
      "Before fine-tuning: MSE = 0.09017570169345682, HR error = 44.34099076042903, HR error (squared) = 2219.0676852582765\n",
      "\n",
      "\n",
      "Fine-tuning...\n"
     ]
    },
    {
     "name": "stderr",
     "output_type": "stream",
     "text": [
      "/Users/samuelhmorton/opt/anaconda3/lib/python3.7/site-packages/lightgbm/engine.py:260: UserWarning: 'evals_result' argument is deprecated and will be removed in a future release of LightGBM. Pass 'record_evaluation()' callback via 'callbacks' argument instead.\n",
      "  _log_warning(\"'evals_result' argument is deprecated and will be removed in a future release of LightGBM. \"\n"
     ]
    },
    {
     "name": "stdout",
     "output_type": "stream",
     "text": [
      "Training until validation scores don't improve for 25 rounds\n",
      "[5]\ttrain's hr_err: 25.7892\ttest's hr_err: 52.1526\n",
      "[10]\ttrain's hr_err: 21.8107\ttest's hr_err: 61.5991\n",
      "[15]\ttrain's hr_err: 28.9575\ttest's hr_err: 68.2971\n",
      "[20]\ttrain's hr_err: 24.3493\ttest's hr_err: 65.0184\n",
      "[25]\ttrain's hr_err: 29.3241\ttest's hr_err: 64.3021\n",
      "[30]\ttrain's hr_err: 27.5842\ttest's hr_err: 65.472\n",
      "Early stopping, best iteration is:\n",
      "[7]\ttrain's hr_err: 26.8907\ttest's hr_err: 48.3472\n"
     ]
    },
    {
     "name": "stderr",
     "output_type": "stream",
     "text": [
      "/Users/samuelhmorton/opt/anaconda3/lib/python3.7/site-packages/lightgbm/engine.py:260: UserWarning: 'evals_result' argument is deprecated and will be removed in a future release of LightGBM. Pass 'record_evaluation()' callback via 'callbacks' argument instead.\n",
      "  _log_warning(\"'evals_result' argument is deprecated and will be removed in a future release of LightGBM. \"\n"
     ]
    },
    {
     "name": "stdout",
     "output_type": "stream",
     "text": [
      "Training until validation scores don't improve for 50 rounds\n",
      "[10]\ttrain's hr_err: 61.7392\ttest's hr_err: 70.6854\n",
      "[15]\ttrain's hr_err: 54.4006\ttest's hr_err: 60.1821\n",
      "[20]\ttrain's hr_err: 46.9598\ttest's hr_err: 65.9606\n",
      "[25]\ttrain's hr_err: 54.2574\ttest's hr_err: 65.5053\n",
      "[30]\ttrain's hr_err: 56.6449\ttest's hr_err: 67.3478\n",
      "[35]\ttrain's hr_err: 55.8856\ttest's hr_err: 68.0193\n",
      "[40]\ttrain's hr_err: 52.5333\ttest's hr_err: 65.6075\n",
      "[45]\ttrain's hr_err: 44.7501\ttest's hr_err: 66.4471\n",
      "[50]\ttrain's hr_err: 46.5468\ttest's hr_err: 68.7183\n",
      "[55]\ttrain's hr_err: 43.4106\ttest's hr_err: 70.2009\n",
      "[60]\ttrain's hr_err: 39.6343\ttest's hr_err: 66.4471\n",
      "Early stopping, best iteration is:\n",
      "[13]\ttrain's hr_err: 57.8803\ttest's hr_err: 50.8338\n",
      "Before fine-tuning: MSE = 0.08399174413265689, HR error = 50.163605187713, HR error (squared) = 3497.4104036541016\n",
      "\n",
      "\n",
      "Fine-tuning...\n"
     ]
    },
    {
     "name": "stderr",
     "output_type": "stream",
     "text": [
      "/Users/samuelhmorton/opt/anaconda3/lib/python3.7/site-packages/lightgbm/engine.py:260: UserWarning: 'evals_result' argument is deprecated and will be removed in a future release of LightGBM. Pass 'record_evaluation()' callback via 'callbacks' argument instead.\n",
      "  _log_warning(\"'evals_result' argument is deprecated and will be removed in a future release of LightGBM. \"\n"
     ]
    },
    {
     "name": "stdout",
     "output_type": "stream",
     "text": [
      "Training until validation scores don't improve for 25 rounds\n",
      "[15]\ttrain's hr_err: 17.7411\ttest's hr_err: 58.0614\n",
      "[20]\ttrain's hr_err: 20.7154\ttest's hr_err: 54.2449\n",
      "[25]\ttrain's hr_err: 22.5252\ttest's hr_err: 60.8398\n",
      "[30]\ttrain's hr_err: 21.5345\ttest's hr_err: 60.829\n",
      "[35]\ttrain's hr_err: 24.2618\ttest's hr_err: 69.1401\n",
      "[40]\ttrain's hr_err: 18.3634\ttest's hr_err: 71.3389\n",
      "[45]\ttrain's hr_err: 25.6665\ttest's hr_err: 71.3433\n",
      "Early stopping, best iteration is:\n",
      "[20]\ttrain's hr_err: 20.7154\ttest's hr_err: 54.2449\n",
      "Finished training in 0:02:31.442592\n",
      "\n",
      "\n",
      "Training excluding subject 2...\n",
      "\n",
      "Rows per batch: 7570\n"
     ]
    },
    {
     "name": "stderr",
     "output_type": "stream",
     "text": [
      "/Users/samuelhmorton/opt/anaconda3/lib/python3.7/site-packages/lightgbm/engine.py:260: UserWarning: 'evals_result' argument is deprecated and will be removed in a future release of LightGBM. Pass 'record_evaluation()' callback via 'callbacks' argument instead.\n",
      "  _log_warning(\"'evals_result' argument is deprecated and will be removed in a future release of LightGBM. \"\n"
     ]
    },
    {
     "name": "stdout",
     "output_type": "stream",
     "text": [
      "Training until validation scores don't improve for 50 rounds\n",
      "[5]\ttrain's hr_err: 59.7323\ttest's hr_err: 76.345\n",
      "[10]\ttrain's hr_err: 55.61\ttest's hr_err: 72.1108\n",
      "[15]\ttrain's hr_err: 50.3314\ttest's hr_err: 70.7348\n",
      "[20]\ttrain's hr_err: 46.0532\ttest's hr_err: 60.0682\n",
      "[25]\ttrain's hr_err: 47.7657\ttest's hr_err: 59.2725\n",
      "[30]\ttrain's hr_err: 45.5463\ttest's hr_err: 59.885\n",
      "[35]\ttrain's hr_err: 39.3531\ttest's hr_err: 59.885\n",
      "[40]\ttrain's hr_err: 41.848\ttest's hr_err: 59.885\n",
      "[45]\ttrain's hr_err: 38.0797\ttest's hr_err: 59.885\n",
      "[50]\ttrain's hr_err: 40.998\ttest's hr_err: 53.1699\n",
      "[55]\ttrain's hr_err: 36.7609\ttest's hr_err: 53.1699\n",
      "[60]\ttrain's hr_err: 35.5025\ttest's hr_err: 47.2064\n",
      "[65]\ttrain's hr_err: 25.3316\ttest's hr_err: 54.7384\n",
      "[70]\ttrain's hr_err: 30.1407\ttest's hr_err: 54.8804\n",
      "[75]\ttrain's hr_err: 35.9188\ttest's hr_err: 54.8804\n",
      "[80]\ttrain's hr_err: 36.9936\ttest's hr_err: 54.7384\n",
      "[85]\ttrain's hr_err: 34.1234\ttest's hr_err: 54.7384\n",
      "[90]\ttrain's hr_err: 31.0371\ttest's hr_err: 54.7384\n",
      "[95]\ttrain's hr_err: 22.09\ttest's hr_err: 54.7384\n",
      "[100]\ttrain's hr_err: 22.3977\ttest's hr_err: 54.7384\n",
      "[105]\ttrain's hr_err: 17.2457\ttest's hr_err: 54.7384\n",
      "[110]\ttrain's hr_err: 18.0892\ttest's hr_err: 54.7384\n",
      "Early stopping, best iteration is:\n",
      "[60]\ttrain's hr_err: 35.5025\ttest's hr_err: 47.2064\n",
      "Before fine-tuning: MSE = 0.08011018996701881, HR error = 52.93542980014148, HR error (squared) = 3878.211200486157\n",
      "\n",
      "\n",
      "Fine-tuning...\n"
     ]
    },
    {
     "name": "stderr",
     "output_type": "stream",
     "text": [
      "/Users/samuelhmorton/opt/anaconda3/lib/python3.7/site-packages/lightgbm/engine.py:260: UserWarning: 'evals_result' argument is deprecated and will be removed in a future release of LightGBM. Pass 'record_evaluation()' callback via 'callbacks' argument instead.\n",
      "  _log_warning(\"'evals_result' argument is deprecated and will be removed in a future release of LightGBM. \"\n"
     ]
    },
    {
     "name": "stdout",
     "output_type": "stream",
     "text": [
      "Training until validation scores don't improve for 25 rounds\n",
      "[65]\ttrain's hr_err: 12.6013\ttest's hr_err: 69.0953\n",
      "[70]\ttrain's hr_err: 19.4594\ttest's hr_err: 70.9765\n",
      "[75]\ttrain's hr_err: 24.381\ttest's hr_err: 68.2953\n",
      "[80]\ttrain's hr_err: 27.4716\ttest's hr_err: 68.1544\n",
      "[85]\ttrain's hr_err: 32.3996\ttest's hr_err: 69.1373\n",
      "Early stopping, best iteration is:\n",
      "[62]\ttrain's hr_err: 17.8708\ttest's hr_err: 63.0082\n"
     ]
    },
    {
     "name": "stderr",
     "output_type": "stream",
     "text": [
      "/Users/samuelhmorton/opt/anaconda3/lib/python3.7/site-packages/lightgbm/engine.py:260: UserWarning: 'evals_result' argument is deprecated and will be removed in a future release of LightGBM. Pass 'record_evaluation()' callback via 'callbacks' argument instead.\n",
      "  _log_warning(\"'evals_result' argument is deprecated and will be removed in a future release of LightGBM. \"\n"
     ]
    },
    {
     "name": "stdout",
     "output_type": "stream",
     "text": [
      "Training until validation scores don't improve for 50 rounds\n",
      "[65]\ttrain's hr_err: 52.9667\ttest's hr_err: 71.3885\n",
      "[70]\ttrain's hr_err: 55.3813\ttest's hr_err: 72.9106\n",
      "[75]\ttrain's hr_err: 61.5224\ttest's hr_err: 65.3423\n",
      "[80]\ttrain's hr_err: 60.5343\ttest's hr_err: 69.0111\n",
      "[85]\ttrain's hr_err: 58.5684\ttest's hr_err: 68.8241\n",
      "[90]\ttrain's hr_err: 59.1697\ttest's hr_err: 77.1625\n",
      "[95]\ttrain's hr_err: 61.7756\ttest's hr_err: 76.5349\n",
      "[100]\ttrain's hr_err: 53.2479\ttest's hr_err: 74.6262\n",
      "[105]\ttrain's hr_err: 54.5768\ttest's hr_err: 74.631\n",
      "[110]\ttrain's hr_err: 55.4639\ttest's hr_err: 73.4982\n",
      "Early stopping, best iteration is:\n",
      "[63]\ttrain's hr_err: 51.4174\ttest's hr_err: 59.6901\n",
      "Before fine-tuning: MSE = 0.10103108097340223, HR error = 60.83107304484404, HR error (squared) = 4391.208263834074\n",
      "\n",
      "\n",
      "Fine-tuning...\n"
     ]
    },
    {
     "name": "stderr",
     "output_type": "stream",
     "text": [
      "/Users/samuelhmorton/opt/anaconda3/lib/python3.7/site-packages/lightgbm/engine.py:260: UserWarning: 'evals_result' argument is deprecated and will be removed in a future release of LightGBM. Pass 'record_evaluation()' callback via 'callbacks' argument instead.\n",
      "  _log_warning(\"'evals_result' argument is deprecated and will be removed in a future release of LightGBM. \"\n"
     ]
    },
    {
     "name": "stdout",
     "output_type": "stream",
     "text": [
      "Training until validation scores don't improve for 25 rounds\n",
      "[65]\ttrain's hr_err: 41.5162\ttest's hr_err: 65.4451\n",
      "[70]\ttrain's hr_err: 42.5361\ttest's hr_err: 65.6137\n",
      "[75]\ttrain's hr_err: 38.6387\ttest's hr_err: 65.5674\n",
      "[80]\ttrain's hr_err: 38.7901\ttest's hr_err: 64.2339\n",
      "[85]\ttrain's hr_err: 32.7168\ttest's hr_err: 70.5453\n",
      "[90]\ttrain's hr_err: 32.5757\ttest's hr_err: 67.738\n",
      "Early stopping, best iteration is:\n",
      "[66]\ttrain's hr_err: 44.7267\ttest's hr_err: 48.1735\n",
      "Finished training in 0:03:01.643158\n",
      "\n",
      "\n",
      "Training excluding subject 3...\n",
      "\n",
      "Rows per batch: 7570\n"
     ]
    },
    {
     "name": "stderr",
     "output_type": "stream",
     "text": [
      "/Users/samuelhmorton/opt/anaconda3/lib/python3.7/site-packages/lightgbm/engine.py:260: UserWarning: 'evals_result' argument is deprecated and will be removed in a future release of LightGBM. Pass 'record_evaluation()' callback via 'callbacks' argument instead.\n",
      "  _log_warning(\"'evals_result' argument is deprecated and will be removed in a future release of LightGBM. \"\n"
     ]
    },
    {
     "name": "stdout",
     "output_type": "stream",
     "text": [
      "Training until validation scores don't improve for 50 rounds\n",
      "[5]\ttrain's hr_err: 40.1527\ttest's hr_err: 67.293\n",
      "[10]\ttrain's hr_err: 46.2948\ttest's hr_err: 71.1983\n",
      "[15]\ttrain's hr_err: 38.6251\ttest's hr_err: 70.2101\n",
      "[20]\ttrain's hr_err: 38.6629\ttest's hr_err: 70.2699\n",
      "[25]\ttrain's hr_err: 37.0452\ttest's hr_err: 69.0783\n",
      "[30]\ttrain's hr_err: 35.5092\ttest's hr_err: 70.1201\n",
      "[35]\ttrain's hr_err: 32.1251\ttest's hr_err: 70.9424\n",
      "[40]\ttrain's hr_err: 36.8231\ttest's hr_err: 62.7849\n",
      "[45]\ttrain's hr_err: 33.5585\ttest's hr_err: 65.6717\n",
      "[50]\ttrain's hr_err: 34.0641\ttest's hr_err: 64.496\n",
      "[55]\ttrain's hr_err: 34.1691\ttest's hr_err: 65.2681\n",
      "[60]\ttrain's hr_err: 36.5256\ttest's hr_err: 65.2681\n",
      "[65]\ttrain's hr_err: 34.0046\ttest's hr_err: 63.5312\n",
      "[70]\ttrain's hr_err: 31.3484\ttest's hr_err: 64.496\n",
      "[75]\ttrain's hr_err: 26.7305\ttest's hr_err: 63.5312\n",
      "[80]\ttrain's hr_err: 29.4117\ttest's hr_err: 63.5312\n",
      "[85]\ttrain's hr_err: 27.826\ttest's hr_err: 63.6667\n",
      "[90]\ttrain's hr_err: 26.4761\ttest's hr_err: 63.542\n",
      "[95]\ttrain's hr_err: 27.1564\ttest's hr_err: 60.6107\n",
      "[100]\ttrain's hr_err: 26.2752\ttest's hr_err: 60.6107\n",
      "[105]\ttrain's hr_err: 26.2878\ttest's hr_err: 61.6557\n",
      "[110]\ttrain's hr_err: 25.9977\ttest's hr_err: 60.4589\n",
      "[115]\ttrain's hr_err: 24.7822\ttest's hr_err: 64.587\n",
      "[120]\ttrain's hr_err: 24.7903\ttest's hr_err: 61.6332\n",
      "[125]\ttrain's hr_err: 24.7958\ttest's hr_err: 61.6557\n",
      "[130]\ttrain's hr_err: 24.7877\ttest's hr_err: 61.6557\n",
      "[135]\ttrain's hr_err: 24.1724\ttest's hr_err: 61.6783\n",
      "[140]\ttrain's hr_err: 24.1724\ttest's hr_err: 61.6711\n",
      "[145]\ttrain's hr_err: 24.7605\ttest's hr_err: 61.6485\n",
      "[150]\ttrain's hr_err: 23.4898\ttest's hr_err: 60.6107\n",
      "[155]\ttrain's hr_err: 24.7287\ttest's hr_err: 60.6107\n",
      "[160]\ttrain's hr_err: 24.2676\ttest's hr_err: 60.6107\n",
      "[165]\ttrain's hr_err: 24.2676\ttest's hr_err: 60.6107\n",
      "[170]\ttrain's hr_err: 23.6101\ttest's hr_err: 61.785\n",
      "[175]\ttrain's hr_err: 24.2789\ttest's hr_err: 60.853\n",
      "[180]\ttrain's hr_err: 25.2182\ttest's hr_err: 60.853\n",
      "[185]\ttrain's hr_err: 24.5763\ttest's hr_err: 60.8458\n",
      "[190]\ttrain's hr_err: 24.5763\ttest's hr_err: 60.9705\n",
      "[195]\ttrain's hr_err: 24.593\ttest's hr_err: 60.8458\n",
      "Early stopping, best iteration is:\n",
      "[146]\ttrain's hr_err: 24.7496\ttest's hr_err: 59.6679\n",
      "Before fine-tuning: MSE = 0.07990049885379628, HR error = 61.709177788962464, HR error (squared) = 4412.17589814052\n",
      "\n",
      "\n",
      "Fine-tuning...\n"
     ]
    },
    {
     "name": "stderr",
     "output_type": "stream",
     "text": [
      "/Users/samuelhmorton/opt/anaconda3/lib/python3.7/site-packages/lightgbm/engine.py:260: UserWarning: 'evals_result' argument is deprecated and will be removed in a future release of LightGBM. Pass 'record_evaluation()' callback via 'callbacks' argument instead.\n",
      "  _log_warning(\"'evals_result' argument is deprecated and will be removed in a future release of LightGBM. \"\n"
     ]
    },
    {
     "name": "stdout",
     "output_type": "stream",
     "text": [
      "Training until validation scores don't improve for 25 rounds\n",
      "[150]\ttrain's hr_err: 24.6998\ttest's hr_err: 58.4464\n",
      "[155]\ttrain's hr_err: 24.8744\ttest's hr_err: 61.1247\n",
      "[160]\ttrain's hr_err: 15.9867\ttest's hr_err: 57.6831\n",
      "[165]\ttrain's hr_err: 23.7043\ttest's hr_err: 58.7016\n",
      "[170]\ttrain's hr_err: 24.5364\ttest's hr_err: 57.7827\n",
      "Early stopping, best iteration is:\n",
      "[148]\ttrain's hr_err: 25.5182\ttest's hr_err: 49.4529\n"
     ]
    },
    {
     "name": "stderr",
     "output_type": "stream",
     "text": [
      "/Users/samuelhmorton/opt/anaconda3/lib/python3.7/site-packages/lightgbm/engine.py:260: UserWarning: 'evals_result' argument is deprecated and will be removed in a future release of LightGBM. Pass 'record_evaluation()' callback via 'callbacks' argument instead.\n",
      "  _log_warning(\"'evals_result' argument is deprecated and will be removed in a future release of LightGBM. \"\n"
     ]
    },
    {
     "name": "stdout",
     "output_type": "stream",
     "text": [
      "Training until validation scores don't improve for 50 rounds\n",
      "[150]\ttrain's hr_err: 65.1384\ttest's hr_err: 60.9185\n",
      "[155]\ttrain's hr_err: 59.1148\ttest's hr_err: 63.1579\n",
      "[160]\ttrain's hr_err: 68.8838\ttest's hr_err: 54.8773\n",
      "[165]\ttrain's hr_err: 67.7933\ttest's hr_err: 66.403\n",
      "[170]\ttrain's hr_err: 60.5902\ttest's hr_err: 70.025\n",
      "[175]\ttrain's hr_err: 60.3374\ttest's hr_err: 68.1924\n",
      "[180]\ttrain's hr_err: 67.046\ttest's hr_err: 68.1118\n",
      "[185]\ttrain's hr_err: 67.2004\ttest's hr_err: 74.163\n",
      "[190]\ttrain's hr_err: 71.8645\ttest's hr_err: 74.1654\n",
      "[195]\ttrain's hr_err: 69.4716\ttest's hr_err: 70.1537\n",
      "Early stopping, best iteration is:\n",
      "[149]\ttrain's hr_err: 61.3596\ttest's hr_err: 51.8765\n",
      "Before fine-tuning: MSE = 0.087236931445681, HR error = 57.6462507137413, HR error (squared) = 4248.693443861275\n",
      "\n",
      "\n",
      "Fine-tuning...\n"
     ]
    },
    {
     "name": "stderr",
     "output_type": "stream",
     "text": [
      "/Users/samuelhmorton/opt/anaconda3/lib/python3.7/site-packages/lightgbm/engine.py:260: UserWarning: 'evals_result' argument is deprecated and will be removed in a future release of LightGBM. Pass 'record_evaluation()' callback via 'callbacks' argument instead.\n",
      "  _log_warning(\"'evals_result' argument is deprecated and will be removed in a future release of LightGBM. \"\n"
     ]
    },
    {
     "name": "stdout",
     "output_type": "stream",
     "text": [
      "[150]\ttrain's hr_err: 34.8356\ttest's hr_err: 61.5845\n",
      "Training until validation scores don't improve for 25 rounds\n",
      "[155]\ttrain's hr_err: 33.9738\ttest's hr_err: 50.3094\n",
      "[160]\ttrain's hr_err: 29.9245\ttest's hr_err: 56.1884\n",
      "[165]\ttrain's hr_err: 30.2992\ttest's hr_err: 50.9168\n",
      "[170]\ttrain's hr_err: 29.4784\ttest's hr_err: 54.138\n",
      "[175]\ttrain's hr_err: 31.2028\ttest's hr_err: 53.5958\n",
      "[180]\ttrain's hr_err: 30.372\ttest's hr_err: 59.2372\n",
      "Early stopping, best iteration is:\n",
      "[155]\ttrain's hr_err: 33.9738\ttest's hr_err: 50.3094\n",
      "Finished training in 0:04:16.647632\n",
      "\n",
      "\n",
      "Training excluding subject 4...\n",
      "\n",
      "Rows per batch: 9084\n"
     ]
    },
    {
     "name": "stderr",
     "output_type": "stream",
     "text": [
      "/Users/samuelhmorton/opt/anaconda3/lib/python3.7/site-packages/lightgbm/engine.py:260: UserWarning: 'evals_result' argument is deprecated and will be removed in a future release of LightGBM. Pass 'record_evaluation()' callback via 'callbacks' argument instead.\n",
      "  _log_warning(\"'evals_result' argument is deprecated and will be removed in a future release of LightGBM. \"\n"
     ]
    },
    {
     "name": "stdout",
     "output_type": "stream",
     "text": [
      "Training until validation scores don't improve for 50 rounds\n",
      "[5]\ttrain's hr_err: 56.1556\ttest's hr_err: 60.3076\n",
      "[10]\ttrain's hr_err: 58.5769\ttest's hr_err: 59.0054\n",
      "[15]\ttrain's hr_err: 56.1343\ttest's hr_err: 43.7787\n",
      "[20]\ttrain's hr_err: 53.9757\ttest's hr_err: 46.8835\n",
      "[25]\ttrain's hr_err: 53.4033\ttest's hr_err: 43.7314\n",
      "[30]\ttrain's hr_err: 53.2429\ttest's hr_err: 46.8113\n",
      "[35]\ttrain's hr_err: 53.2578\ttest's hr_err: 44.6005\n",
      "[40]\ttrain's hr_err: 50.6299\ttest's hr_err: 38.9055\n",
      "[45]\ttrain's hr_err: 50.454\ttest's hr_err: 43.65\n",
      "[50]\ttrain's hr_err: 47.5597\ttest's hr_err: 40.2199\n",
      "[55]\ttrain's hr_err: 46.5653\ttest's hr_err: 38.95\n",
      "[60]\ttrain's hr_err: 46.3347\ttest's hr_err: 37.2462\n",
      "[65]\ttrain's hr_err: 46.1809\ttest's hr_err: 37.2559\n",
      "[70]\ttrain's hr_err: 47.1397\ttest's hr_err: 37.9047\n",
      "[75]\ttrain's hr_err: 42.8639\ttest's hr_err: 37.314\n",
      "[80]\ttrain's hr_err: 39.4063\ttest's hr_err: 37.2559\n",
      "[85]\ttrain's hr_err: 40.3967\ttest's hr_err: 35.712\n",
      "[90]\ttrain's hr_err: 40.8671\ttest's hr_err: 37.2605\n",
      "[95]\ttrain's hr_err: 40.6815\ttest's hr_err: 37.3419\n",
      "[100]\ttrain's hr_err: 39.6949\ttest's hr_err: 37.2357\n",
      "[105]\ttrain's hr_err: 38.3543\ttest's hr_err: 41.7693\n",
      "[110]\ttrain's hr_err: 38.2283\ttest's hr_err: 44.513\n",
      "[115]\ttrain's hr_err: 38.6085\ttest's hr_err: 44.5083\n",
      "[120]\ttrain's hr_err: 37.1197\ttest's hr_err: 42.9324\n",
      "[125]\ttrain's hr_err: 36.6251\ttest's hr_err: 42.9324\n",
      "[130]\ttrain's hr_err: 36.6572\ttest's hr_err: 42.9324\n",
      "Early stopping, best iteration is:\n",
      "[82]\ttrain's hr_err: 41.0186\ttest's hr_err: 35.712\n",
      "Before fine-tuning: MSE = 0.08550978714498088, HR error = 36.78960303566469, HR error (squared) = 1917.6383054507553\n",
      "\n",
      "\n",
      "Fine-tuning...\n"
     ]
    },
    {
     "name": "stderr",
     "output_type": "stream",
     "text": [
      "/Users/samuelhmorton/opt/anaconda3/lib/python3.7/site-packages/lightgbm/engine.py:260: UserWarning: 'evals_result' argument is deprecated and will be removed in a future release of LightGBM. Pass 'record_evaluation()' callback via 'callbacks' argument instead.\n",
      "  _log_warning(\"'evals_result' argument is deprecated and will be removed in a future release of LightGBM. \"\n"
     ]
    },
    {
     "name": "stdout",
     "output_type": "stream",
     "text": [
      "Training until validation scores don't improve for 25 rounds\n",
      "[85]\ttrain's hr_err: 23.1212\ttest's hr_err: 52.7197\n",
      "[90]\ttrain's hr_err: 16.4828\ttest's hr_err: 57.4507\n",
      "[95]\ttrain's hr_err: 19.8782\ttest's hr_err: 48.8488\n",
      "[100]\ttrain's hr_err: 18.8821\ttest's hr_err: 54.754\n",
      "[105]\ttrain's hr_err: 19.5827\ttest's hr_err: 55.8365\n",
      "[110]\ttrain's hr_err: 30.4773\ttest's hr_err: 55.9811\n",
      "[115]\ttrain's hr_err: 24.3699\ttest's hr_err: 60.8908\n",
      "[120]\ttrain's hr_err: 33.3164\ttest's hr_err: 60.8908\n",
      "Early stopping, best iteration is:\n",
      "[95]\ttrain's hr_err: 19.8782\ttest's hr_err: 48.8488\n"
     ]
    },
    {
     "name": "stderr",
     "output_type": "stream",
     "text": [
      "/Users/samuelhmorton/opt/anaconda3/lib/python3.7/site-packages/lightgbm/engine.py:260: UserWarning: 'evals_result' argument is deprecated and will be removed in a future release of LightGBM. Pass 'record_evaluation()' callback via 'callbacks' argument instead.\n",
      "  _log_warning(\"'evals_result' argument is deprecated and will be removed in a future release of LightGBM. \"\n"
     ]
    },
    {
     "name": "stdout",
     "output_type": "stream",
     "text": [
      "Training until validation scores don't improve for 50 rounds\n",
      "[100]\ttrain's hr_err: 63.7235\ttest's hr_err: 56.3071\n",
      "[105]\ttrain's hr_err: 52.0311\ttest's hr_err: 53.5427\n",
      "[110]\ttrain's hr_err: 74.4476\ttest's hr_err: 46.9234\n",
      "[115]\ttrain's hr_err: 64.7061\ttest's hr_err: 49.416\n",
      "[120]\ttrain's hr_err: 62.4914\ttest's hr_err: 52.7332\n",
      "[125]\ttrain's hr_err: 65.5924\ttest's hr_err: 52.8927\n",
      "[130]\ttrain's hr_err: 67.6061\ttest's hr_err: 57.7204\n",
      "[135]\ttrain's hr_err: 68.9844\ttest's hr_err: 53.3986\n",
      "[140]\ttrain's hr_err: 68.5502\ttest's hr_err: 56.3987\n",
      "[145]\ttrain's hr_err: 71.9327\ttest's hr_err: 53.6999\n",
      "[150]\ttrain's hr_err: 71.3417\ttest's hr_err: 53.7552\n",
      "[155]\ttrain's hr_err: 69.1511\ttest's hr_err: 53.7017\n",
      "[160]\ttrain's hr_err: 68.7752\ttest's hr_err: 53.6978\n",
      "Early stopping, best iteration is:\n",
      "[111]\ttrain's hr_err: 75.264\ttest's hr_err: 46.1101\n",
      "Before fine-tuning: MSE = 0.10291360159551549, HR error = 47.0515822860543, HR error (squared) = 2786.6310831527267\n",
      "\n",
      "\n",
      "Fine-tuning...\n"
     ]
    },
    {
     "name": "stderr",
     "output_type": "stream",
     "text": [
      "/Users/samuelhmorton/opt/anaconda3/lib/python3.7/site-packages/lightgbm/engine.py:260: UserWarning: 'evals_result' argument is deprecated and will be removed in a future release of LightGBM. Pass 'record_evaluation()' callback via 'callbacks' argument instead.\n",
      "  _log_warning(\"'evals_result' argument is deprecated and will be removed in a future release of LightGBM. \"\n"
     ]
    },
    {
     "name": "stdout",
     "output_type": "stream",
     "text": [
      "Training until validation scores don't improve for 25 rounds\n",
      "[115]\ttrain's hr_err: 25.9237\ttest's hr_err: 60.4029\n",
      "[120]\ttrain's hr_err: 31.9464\ttest's hr_err: 63.3787\n",
      "[125]\ttrain's hr_err: 30.5805\ttest's hr_err: 56.1009\n",
      "[130]\ttrain's hr_err: 29.2901\ttest's hr_err: 60.0732\n",
      "[135]\ttrain's hr_err: 27.3466\ttest's hr_err: 62.1466\n",
      "Early stopping, best iteration is:\n",
      "[112]\ttrain's hr_err: 32.378\ttest's hr_err: 51.1083\n",
      "Finished training in 0:04:19.617211\n",
      "\n",
      "\n",
      "Training excluding subject 5...\n",
      "\n",
      "Rows per batch: 7570\n"
     ]
    },
    {
     "name": "stderr",
     "output_type": "stream",
     "text": [
      "/Users/samuelhmorton/opt/anaconda3/lib/python3.7/site-packages/lightgbm/engine.py:260: UserWarning: 'evals_result' argument is deprecated and will be removed in a future release of LightGBM. Pass 'record_evaluation()' callback via 'callbacks' argument instead.\n",
      "  _log_warning(\"'evals_result' argument is deprecated and will be removed in a future release of LightGBM. \"\n"
     ]
    },
    {
     "name": "stdout",
     "output_type": "stream",
     "text": [
      "Training until validation scores don't improve for 50 rounds\n",
      "[5]\ttrain's hr_err: 55.6523\ttest's hr_err: 52.8652\n",
      "[10]\ttrain's hr_err: 49.585\ttest's hr_err: 43.9791\n",
      "[15]\ttrain's hr_err: 49.1661\ttest's hr_err: 55.2021\n",
      "[20]\ttrain's hr_err: 40.0705\ttest's hr_err: 52.303\n",
      "[25]\ttrain's hr_err: 45.0754\ttest's hr_err: 52.1804\n",
      "[30]\ttrain's hr_err: 46.9983\ttest's hr_err: 47.3309\n",
      "[35]\ttrain's hr_err: 45.4197\ttest's hr_err: 49.3812\n",
      "[40]\ttrain's hr_err: 43.9325\ttest's hr_err: 50.1639\n",
      "[45]\ttrain's hr_err: 42.2375\ttest's hr_err: 50.2312\n",
      "[50]\ttrain's hr_err: 49.8101\ttest's hr_err: 55.2135\n",
      "[55]\ttrain's hr_err: 40.1688\ttest's hr_err: 52.4268\n",
      "[60]\ttrain's hr_err: 39.63\ttest's hr_err: 52.4161\n",
      "Early stopping, best iteration is:\n",
      "[12]\ttrain's hr_err: 41.7235\ttest's hr_err: 39.1869\n",
      "Before fine-tuning: MSE = 0.08805876076180554, HR error = 41.315410200226054, HR error (squared) = 1989.6169837640732\n",
      "\n",
      "\n",
      "Fine-tuning...\n"
     ]
    },
    {
     "name": "stderr",
     "output_type": "stream",
     "text": [
      "/Users/samuelhmorton/opt/anaconda3/lib/python3.7/site-packages/lightgbm/engine.py:260: UserWarning: 'evals_result' argument is deprecated and will be removed in a future release of LightGBM. Pass 'record_evaluation()' callback via 'callbacks' argument instead.\n",
      "  _log_warning(\"'evals_result' argument is deprecated and will be removed in a future release of LightGBM. \"\n"
     ]
    },
    {
     "name": "stdout",
     "output_type": "stream",
     "text": [
      "Training until validation scores don't improve for 25 rounds\n",
      "[15]\ttrain's hr_err: 27.4647\ttest's hr_err: 45.1182\n",
      "[20]\ttrain's hr_err: 37.3619\ttest's hr_err: 41.0105\n",
      "[25]\ttrain's hr_err: 25.3161\ttest's hr_err: 50.4717\n",
      "[30]\ttrain's hr_err: 24.5765\ttest's hr_err: 46.0115\n",
      "[35]\ttrain's hr_err: 20.8729\ttest's hr_err: 48.7364\n",
      "Early stopping, best iteration is:\n",
      "[13]\ttrain's hr_err: 32.2828\ttest's hr_err: 37.4303\n"
     ]
    },
    {
     "name": "stderr",
     "output_type": "stream",
     "text": [
      "/Users/samuelhmorton/opt/anaconda3/lib/python3.7/site-packages/lightgbm/engine.py:260: UserWarning: 'evals_result' argument is deprecated and will be removed in a future release of LightGBM. Pass 'record_evaluation()' callback via 'callbacks' argument instead.\n",
      "  _log_warning(\"'evals_result' argument is deprecated and will be removed in a future release of LightGBM. \"\n"
     ]
    },
    {
     "name": "stdout",
     "output_type": "stream",
     "text": [
      "Training until validation scores don't improve for 50 rounds\n",
      "[15]\ttrain's hr_err: 42.0433\ttest's hr_err: 48.4799\n",
      "[20]\ttrain's hr_err: 58.4191\ttest's hr_err: 56.3056\n",
      "[25]\ttrain's hr_err: 61.6031\ttest's hr_err: 51.6104\n",
      "[30]\ttrain's hr_err: 58.3435\ttest's hr_err: 53.9138\n",
      "[35]\ttrain's hr_err: 50.3938\ttest's hr_err: 52.5887\n",
      "[40]\ttrain's hr_err: 59.2245\ttest's hr_err: 50.495\n",
      "[45]\ttrain's hr_err: 57.2658\ttest's hr_err: 51.3977\n",
      "[50]\ttrain's hr_err: 53.5046\ttest's hr_err: 52.4894\n",
      "[55]\ttrain's hr_err: 53.5846\ttest's hr_err: 51.9167\n",
      "[60]\ttrain's hr_err: 53.0079\ttest's hr_err: 51.9167\n",
      "Early stopping, best iteration is:\n",
      "[14]\ttrain's hr_err: 51.9083\ttest's hr_err: 39.2638\n",
      "Before fine-tuning: MSE = 0.09205789030544843, HR error = 38.030276752612096, HR error (squared) = 1749.7956569793835\n",
      "\n",
      "\n",
      "Fine-tuning...\n"
     ]
    },
    {
     "name": "stderr",
     "output_type": "stream",
     "text": [
      "/Users/samuelhmorton/opt/anaconda3/lib/python3.7/site-packages/lightgbm/engine.py:260: UserWarning: 'evals_result' argument is deprecated and will be removed in a future release of LightGBM. Pass 'record_evaluation()' callback via 'callbacks' argument instead.\n",
      "  _log_warning(\"'evals_result' argument is deprecated and will be removed in a future release of LightGBM. \"\n"
     ]
    },
    {
     "name": "stdout",
     "output_type": "stream",
     "text": [
      "[15]\ttrain's hr_err: 28.3233\ttest's hr_err: 48.6537\n",
      "Training until validation scores don't improve for 25 rounds\n",
      "[20]\ttrain's hr_err: 36.105\ttest's hr_err: 39.8429\n",
      "[25]\ttrain's hr_err: 31.9566\ttest's hr_err: 39.5273\n",
      "[30]\ttrain's hr_err: 30.9898\ttest's hr_err: 44.6398\n",
      "[35]\ttrain's hr_err: 35.204\ttest's hr_err: 42.3714\n",
      "[40]\ttrain's hr_err: 31.1908\ttest's hr_err: 40.2864\n",
      "[45]\ttrain's hr_err: 33.996\ttest's hr_err: 40.3964\n",
      "Early stopping, best iteration is:\n",
      "[22]\ttrain's hr_err: 32.8334\ttest's hr_err: 30.9549\n",
      "Finished training in 0:02:27.679742\n",
      "\n",
      "\n",
      "Training excluding subject 6...\n",
      "\n",
      "Rows per batch: 7570\n"
     ]
    },
    {
     "name": "stderr",
     "output_type": "stream",
     "text": [
      "/Users/samuelhmorton/opt/anaconda3/lib/python3.7/site-packages/lightgbm/engine.py:260: UserWarning: 'evals_result' argument is deprecated and will be removed in a future release of LightGBM. Pass 'record_evaluation()' callback via 'callbacks' argument instead.\n",
      "  _log_warning(\"'evals_result' argument is deprecated and will be removed in a future release of LightGBM. \"\n"
     ]
    },
    {
     "name": "stdout",
     "output_type": "stream",
     "text": [
      "Training until validation scores don't improve for 50 rounds\n",
      "[5]\ttrain's hr_err: 53.9098\ttest's hr_err: 46.6744\n",
      "[10]\ttrain's hr_err: 46.637\ttest's hr_err: 49.8578\n",
      "[15]\ttrain's hr_err: 45.5624\ttest's hr_err: 46.3467\n",
      "[20]\ttrain's hr_err: 52.8391\ttest's hr_err: 47.4166\n",
      "[25]\ttrain's hr_err: 49.7706\ttest's hr_err: 52.1377\n",
      "[30]\ttrain's hr_err: 52.9367\ttest's hr_err: 50.487\n",
      "[35]\ttrain's hr_err: 52.3257\ttest's hr_err: 52.1416\n",
      "[40]\ttrain's hr_err: 46.1675\ttest's hr_err: 54.1114\n",
      "[45]\ttrain's hr_err: 46.1831\ttest's hr_err: 53.2482\n",
      "[50]\ttrain's hr_err: 47.0479\ttest's hr_err: 54.6395\n",
      "[55]\ttrain's hr_err: 44.0821\ttest's hr_err: 52.0808\n",
      "[60]\ttrain's hr_err: 45.6692\ttest's hr_err: 47.5687\n",
      "[65]\ttrain's hr_err: 42.4356\ttest's hr_err: 47.5687\n",
      "Early stopping, best iteration is:\n",
      "[18]\ttrain's hr_err: 46.8198\ttest's hr_err: 45.8196\n",
      "Before fine-tuning: MSE = 0.0832426158938099, HR error = 44.662898217144345, HR error (squared) = 2207.8282323625904\n",
      "\n",
      "\n",
      "Fine-tuning...\n"
     ]
    },
    {
     "name": "stderr",
     "output_type": "stream",
     "text": [
      "/Users/samuelhmorton/opt/anaconda3/lib/python3.7/site-packages/lightgbm/engine.py:260: UserWarning: 'evals_result' argument is deprecated and will be removed in a future release of LightGBM. Pass 'record_evaluation()' callback via 'callbacks' argument instead.\n",
      "  _log_warning(\"'evals_result' argument is deprecated and will be removed in a future release of LightGBM. \"\n"
     ]
    },
    {
     "name": "stdout",
     "output_type": "stream",
     "text": [
      "Training until validation scores don't improve for 25 rounds\n",
      "[20]\ttrain's hr_err: 17.5099\ttest's hr_err: 41.7236\n",
      "[25]\ttrain's hr_err: 15.5755\ttest's hr_err: 48.6815\n",
      "[30]\ttrain's hr_err: 20.5185\ttest's hr_err: 45.1001\n",
      "[35]\ttrain's hr_err: 19.6984\ttest's hr_err: 45.0685\n",
      "[40]\ttrain's hr_err: 15.9269\ttest's hr_err: 43.9892\n",
      "Early stopping, best iteration is:\n",
      "[19]\ttrain's hr_err: 15.9677\ttest's hr_err: 41.2735\n"
     ]
    },
    {
     "name": "stderr",
     "output_type": "stream",
     "text": [
      "/Users/samuelhmorton/opt/anaconda3/lib/python3.7/site-packages/lightgbm/engine.py:260: UserWarning: 'evals_result' argument is deprecated and will be removed in a future release of LightGBM. Pass 'record_evaluation()' callback via 'callbacks' argument instead.\n",
      "  _log_warning(\"'evals_result' argument is deprecated and will be removed in a future release of LightGBM. \"\n"
     ]
    },
    {
     "name": "stdout",
     "output_type": "stream",
     "text": [
      "[20]\ttrain's hr_err: 76.4612\ttest's hr_err: 47.5807\n",
      "Training until validation scores don't improve for 50 rounds\n",
      "[25]\ttrain's hr_err: 78.183\ttest's hr_err: 53.6991\n",
      "[30]\ttrain's hr_err: 67.0519\ttest's hr_err: 52.1359\n",
      "[35]\ttrain's hr_err: 65.9956\ttest's hr_err: 49.3775\n",
      "[40]\ttrain's hr_err: 72.2014\ttest's hr_err: 48.7861\n",
      "[45]\ttrain's hr_err: 65.2716\ttest's hr_err: 48.5037\n",
      "[50]\ttrain's hr_err: 72.1171\ttest's hr_err: 47.1106\n",
      "[55]\ttrain's hr_err: 64.7046\ttest's hr_err: 42.854\n",
      "[60]\ttrain's hr_err: 67.7196\ttest's hr_err: 41.9518\n",
      "[65]\ttrain's hr_err: 65.525\ttest's hr_err: 42.5531\n",
      "[70]\ttrain's hr_err: 65.3379\ttest's hr_err: 43.745\n",
      "[75]\ttrain's hr_err: 66.8516\ttest's hr_err: 41.7204\n",
      "[80]\ttrain's hr_err: 66.5618\ttest's hr_err: 42.5802\n",
      "[85]\ttrain's hr_err: 64.6418\ttest's hr_err: 42.5531\n",
      "[90]\ttrain's hr_err: 64.0335\ttest's hr_err: 46.9\n",
      "[95]\ttrain's hr_err: 62.3985\ttest's hr_err: 47.2955\n",
      "[100]\ttrain's hr_err: 72.4675\ttest's hr_err: 46.3937\n",
      "[105]\ttrain's hr_err: 61.4361\ttest's hr_err: 46.1476\n",
      "[110]\ttrain's hr_err: 67.0726\ttest's hr_err: 47.8831\n",
      "[115]\ttrain's hr_err: 72.823\ttest's hr_err: 46.6353\n",
      "[120]\ttrain's hr_err: 74.0698\ttest's hr_err: 48.0418\n",
      "[125]\ttrain's hr_err: 74.8508\ttest's hr_err: 48.0408\n",
      "[130]\ttrain's hr_err: 78.0667\ttest's hr_err: 48.3668\n",
      "[135]\ttrain's hr_err: 77.6223\ttest's hr_err: 44.6111\n",
      "[140]\ttrain's hr_err: 76.0667\ttest's hr_err: 44.6305\n",
      "[145]\ttrain's hr_err: 74.9249\ttest's hr_err: 45.9061\n",
      "[150]\ttrain's hr_err: 73.7186\ttest's hr_err: 45.0608\n",
      "[155]\ttrain's hr_err: 73.9602\ttest's hr_err: 45.883\n",
      "[160]\ttrain's hr_err: 72.536\ttest's hr_err: 45.0344\n",
      "Early stopping, best iteration is:\n",
      "[112]\ttrain's hr_err: 70.8034\ttest's hr_err: 41.2862\n",
      "Before fine-tuning: MSE = 0.08734105808281452, HR error = 44.449273588198736, HR error (squared) = 2725.7118931140167\n",
      "\n",
      "\n",
      "Fine-tuning...\n"
     ]
    },
    {
     "name": "stderr",
     "output_type": "stream",
     "text": [
      "/Users/samuelhmorton/opt/anaconda3/lib/python3.7/site-packages/lightgbm/engine.py:260: UserWarning: 'evals_result' argument is deprecated and will be removed in a future release of LightGBM. Pass 'record_evaluation()' callback via 'callbacks' argument instead.\n",
      "  _log_warning(\"'evals_result' argument is deprecated and will be removed in a future release of LightGBM. \"\n"
     ]
    },
    {
     "name": "stdout",
     "output_type": "stream",
     "text": [
      "Training until validation scores don't improve for 25 rounds\n",
      "[115]\ttrain's hr_err: 36.0945\ttest's hr_err: 47.5254\n",
      "[120]\ttrain's hr_err: 31.6208\ttest's hr_err: 45.6899\n",
      "[125]\ttrain's hr_err: 34.9073\ttest's hr_err: 46.9862\n",
      "[130]\ttrain's hr_err: 34.4955\ttest's hr_err: 47.8\n",
      "[135]\ttrain's hr_err: 32.6068\ttest's hr_err: 47.039\n",
      "Early stopping, best iteration is:\n",
      "[113]\ttrain's hr_err: 33.0532\ttest's hr_err: 40.1225\n",
      "Finished training in 0:03:44.994686\n",
      "\n",
      "\n",
      "Training excluding subject 7...\n",
      "\n",
      "Rows per batch: 7570\n"
     ]
    },
    {
     "name": "stderr",
     "output_type": "stream",
     "text": [
      "/Users/samuelhmorton/opt/anaconda3/lib/python3.7/site-packages/lightgbm/engine.py:260: UserWarning: 'evals_result' argument is deprecated and will be removed in a future release of LightGBM. Pass 'record_evaluation()' callback via 'callbacks' argument instead.\n",
      "  _log_warning(\"'evals_result' argument is deprecated and will be removed in a future release of LightGBM. \"\n"
     ]
    },
    {
     "name": "stdout",
     "output_type": "stream",
     "text": [
      "Training until validation scores don't improve for 50 rounds\n",
      "[5]\ttrain's hr_err: 50.1495\ttest's hr_err: 55.307\n",
      "[10]\ttrain's hr_err: 43.0899\ttest's hr_err: 47.1984\n",
      "[15]\ttrain's hr_err: 41.0057\ttest's hr_err: 48.266\n",
      "[20]\ttrain's hr_err: 40.0001\ttest's hr_err: 48.7317\n",
      "[25]\ttrain's hr_err: 38.8821\ttest's hr_err: 48.2433\n",
      "[30]\ttrain's hr_err: 41.3767\ttest's hr_err: 44.8869\n",
      "[35]\ttrain's hr_err: 35.5855\ttest's hr_err: 50.065\n",
      "[40]\ttrain's hr_err: 34.3894\ttest's hr_err: 52.9608\n",
      "[45]\ttrain's hr_err: 34.8893\ttest's hr_err: 51.9932\n",
      "[50]\ttrain's hr_err: 33.3059\ttest's hr_err: 53.5551\n",
      "[55]\ttrain's hr_err: 34.3454\ttest's hr_err: 52.6556\n",
      "[60]\ttrain's hr_err: 33.9963\ttest's hr_err: 52.1369\n",
      "[65]\ttrain's hr_err: 34.0458\ttest's hr_err: 53.1106\n",
      "[70]\ttrain's hr_err: 32.7292\ttest's hr_err: 52.9116\n",
      "[75]\ttrain's hr_err: 32.7229\ttest's hr_err: 53.2875\n",
      "[80]\ttrain's hr_err: 32.0713\ttest's hr_err: 53.2875\n",
      "Early stopping, best iteration is:\n",
      "[30]\ttrain's hr_err: 41.3767\ttest's hr_err: 44.8869\n",
      "Before fine-tuning: MSE = 0.10606861487923885, HR error = 45.98452818121319, HR error (squared) = 2504.03418186337\n",
      "\n",
      "\n",
      "Fine-tuning...\n"
     ]
    },
    {
     "name": "stderr",
     "output_type": "stream",
     "text": [
      "/Users/samuelhmorton/opt/anaconda3/lib/python3.7/site-packages/lightgbm/engine.py:260: UserWarning: 'evals_result' argument is deprecated and will be removed in a future release of LightGBM. Pass 'record_evaluation()' callback via 'callbacks' argument instead.\n",
      "  _log_warning(\"'evals_result' argument is deprecated and will be removed in a future release of LightGBM. \"\n"
     ]
    },
    {
     "name": "stdout",
     "output_type": "stream",
     "text": [
      "Training until validation scores don't improve for 25 rounds\n",
      "[35]\ttrain's hr_err: 15.4505\ttest's hr_err: 64.8081\n",
      "[40]\ttrain's hr_err: 19.3358\ttest's hr_err: 58.0992\n",
      "[45]\ttrain's hr_err: 8.29993\ttest's hr_err: 63.2737\n",
      "[50]\ttrain's hr_err: 16.9081\ttest's hr_err: 62.4991\n",
      "[55]\ttrain's hr_err: 21.9854\ttest's hr_err: 66.9739\n",
      "[60]\ttrain's hr_err: 17.7211\ttest's hr_err: 59.4999\n",
      "[65]\ttrain's hr_err: 20.0241\ttest's hr_err: 63.1421\n",
      "Early stopping, best iteration is:\n",
      "[40]\ttrain's hr_err: 19.3358\ttest's hr_err: 58.0992\n"
     ]
    },
    {
     "name": "stderr",
     "output_type": "stream",
     "text": [
      "/Users/samuelhmorton/opt/anaconda3/lib/python3.7/site-packages/lightgbm/engine.py:260: UserWarning: 'evals_result' argument is deprecated and will be removed in a future release of LightGBM. Pass 'record_evaluation()' callback via 'callbacks' argument instead.\n",
      "  _log_warning(\"'evals_result' argument is deprecated and will be removed in a future release of LightGBM. \"\n"
     ]
    },
    {
     "name": "stdout",
     "output_type": "stream",
     "text": [
      "Training until validation scores don't improve for 50 rounds\n",
      "[45]\ttrain's hr_err: 77.8773\ttest's hr_err: 76.4832\n",
      "[50]\ttrain's hr_err: 70.242\ttest's hr_err: 71.9158\n",
      "[55]\ttrain's hr_err: 66.4116\ttest's hr_err: 62.9511\n",
      "[60]\ttrain's hr_err: 62.5561\ttest's hr_err: 67.5303\n",
      "[65]\ttrain's hr_err: 72.2671\ttest's hr_err: 58.141\n",
      "[70]\ttrain's hr_err: 64.911\ttest's hr_err: 62.9924\n",
      "[75]\ttrain's hr_err: 65.1483\ttest's hr_err: 63.7993\n",
      "[80]\ttrain's hr_err: 69.1692\ttest's hr_err: 63.0748\n",
      "[85]\ttrain's hr_err: 70.0223\ttest's hr_err: 69.0389\n",
      "[90]\ttrain's hr_err: 65.9664\ttest's hr_err: 65.6702\n",
      "Early stopping, best iteration is:\n",
      "[41]\ttrain's hr_err: 76.015\ttest's hr_err: 57.169\n",
      "Before fine-tuning: MSE = 0.11657289382560575, HR error = 61.92990238827323, HR error (squared) = 4202.125142676445\n",
      "\n",
      "\n",
      "Fine-tuning...\n"
     ]
    },
    {
     "name": "stderr",
     "output_type": "stream",
     "text": [
      "/Users/samuelhmorton/opt/anaconda3/lib/python3.7/site-packages/lightgbm/engine.py:260: UserWarning: 'evals_result' argument is deprecated and will be removed in a future release of LightGBM. Pass 'record_evaluation()' callback via 'callbacks' argument instead.\n",
      "  _log_warning(\"'evals_result' argument is deprecated and will be removed in a future release of LightGBM. \"\n"
     ]
    },
    {
     "name": "stdout",
     "output_type": "stream",
     "text": [
      "Training until validation scores don't improve for 25 rounds\n",
      "[45]\ttrain's hr_err: 20.9369\ttest's hr_err: 57.6981\n",
      "[50]\ttrain's hr_err: 27.0129\ttest's hr_err: 62.599\n",
      "[55]\ttrain's hr_err: 26.7115\ttest's hr_err: 64.3572\n",
      "[60]\ttrain's hr_err: 27.1927\ttest's hr_err: 65.2265\n",
      "[65]\ttrain's hr_err: 25.538\ttest's hr_err: 68.5164\n",
      "[70]\ttrain's hr_err: 23.3815\ttest's hr_err: 70.1116\n",
      "Early stopping, best iteration is:\n",
      "[45]\ttrain's hr_err: 20.9369\ttest's hr_err: 57.6981\n",
      "Finished training in 0:02:43.429863\n",
      "Iteration No: 1 ended. Evaluation done at random point.\n",
      "Time taken: 1395.6785\n",
      "Function value obtained: 47.5185\n",
      "Current minimum: 47.5185\n",
      "Iteration No: 2 started. Evaluating function at random point.\n",
      "\n",
      "\n",
      "Training excluding subject 1...\n",
      "\n",
      "Rows per batch: 1792\n"
     ]
    },
    {
     "name": "stderr",
     "output_type": "stream",
     "text": [
      "/Users/samuelhmorton/opt/anaconda3/lib/python3.7/site-packages/lightgbm/engine.py:260: UserWarning: 'evals_result' argument is deprecated and will be removed in a future release of LightGBM. Pass 'record_evaluation()' callback via 'callbacks' argument instead.\n",
      "  _log_warning(\"'evals_result' argument is deprecated and will be removed in a future release of LightGBM. \"\n"
     ]
    },
    {
     "name": "stdout",
     "output_type": "stream",
     "text": [
      "Training until validation scores don't improve for 50 rounds\n",
      "[5]\ttrain's hr_err: 1.82459\ttest's hr_err: 19.4283\n",
      "[10]\ttrain's hr_err: 3.14189\ttest's hr_err: 17.6469\n",
      "[15]\ttrain's hr_err: 0.680438\ttest's hr_err: 19.9106\n",
      "[20]\ttrain's hr_err: 3.04151\ttest's hr_err: 18.4001\n",
      "[25]\ttrain's hr_err: 3.04151\ttest's hr_err: 19.4039\n",
      "[30]\ttrain's hr_err: 3.00503\ttest's hr_err: 17.1034\n",
      "[35]\ttrain's hr_err: 5.71731\ttest's hr_err: 13.7406\n",
      "[40]\ttrain's hr_err: 5.71731\ttest's hr_err: 16.408\n",
      "[45]\ttrain's hr_err: 5.71731\ttest's hr_err: 14.32\n",
      "[50]\ttrain's hr_err: 5.71731\ttest's hr_err: 15.7311\n",
      "[55]\ttrain's hr_err: 5.71731\ttest's hr_err: 16.3371\n",
      "[60]\ttrain's hr_err: 5.75014\ttest's hr_err: 14.8338\n",
      "[65]\ttrain's hr_err: 5.75014\ttest's hr_err: 15.1747\n",
      "[70]\ttrain's hr_err: 8.39477\ttest's hr_err: 14.3102\n",
      "[75]\ttrain's hr_err: 8.39477\ttest's hr_err: 13.5001\n",
      "[80]\ttrain's hr_err: 8.33076\ttest's hr_err: 13.9715\n",
      "[85]\ttrain's hr_err: 8.39477\ttest's hr_err: 13.3753\n",
      "[90]\ttrain's hr_err: 10.9754\ttest's hr_err: 13.3951\n",
      "[95]\ttrain's hr_err: 10.9754\ttest's hr_err: 13.9833\n",
      "[100]\ttrain's hr_err: 10.9754\ttest's hr_err: 13.9833\n",
      "[105]\ttrain's hr_err: 10.9754\ttest's hr_err: 13.9921\n",
      "[110]\ttrain's hr_err: 10.9754\ttest's hr_err: 14.5897\n",
      "[115]\ttrain's hr_err: 10.9754\ttest's hr_err: 15.7688\n",
      "[120]\ttrain's hr_err: 10.9754\ttest's hr_err: 15.2487\n",
      "[125]\ttrain's hr_err: 10.9754\ttest's hr_err: 15.2509\n",
      "[130]\ttrain's hr_err: 10.9754\ttest's hr_err: 14.9877\n",
      "Early stopping, best iteration is:\n",
      "[84]\ttrain's hr_err: 8.33076\ttest's hr_err: 13.3753\n",
      "Before fine-tuning: MSE = 0.09048588181043224, HR error = 12.6736816133001, HR error (squared) = 208.4493668174482\n",
      "\n",
      "\n",
      "Fine-tuning...\n"
     ]
    },
    {
     "name": "stderr",
     "output_type": "stream",
     "text": [
      "/Users/samuelhmorton/opt/anaconda3/lib/python3.7/site-packages/lightgbm/engine.py:260: UserWarning: 'evals_result' argument is deprecated and will be removed in a future release of LightGBM. Pass 'record_evaluation()' callback via 'callbacks' argument instead.\n",
      "  _log_warning(\"'evals_result' argument is deprecated and will be removed in a future release of LightGBM. \"\n"
     ]
    },
    {
     "name": "stdout",
     "output_type": "stream",
     "text": [
      "[85]\ttrain's hr_err: 75.4326\ttest's hr_err: 13.9715\n",
      "Training until validation scores don't improve for 25 rounds\n",
      "[90]\ttrain's hr_err: 75.4326\ttest's hr_err: 14.2454\n",
      "[95]\ttrain's hr_err: 75.4618\ttest's hr_err: 14.9325\n",
      "[100]\ttrain's hr_err: 75.4618\ttest's hr_err: 15.0567\n",
      "[105]\ttrain's hr_err: 75.4618\ttest's hr_err: 16.522\n",
      "[110]\ttrain's hr_err: 72.8392\ttest's hr_err: 16.5324\n",
      "Early stopping, best iteration is:\n",
      "[88]\ttrain's hr_err: 75.4326\ttest's hr_err: 13.6698\n"
     ]
    },
    {
     "name": "stderr",
     "output_type": "stream",
     "text": [
      "/Users/samuelhmorton/opt/anaconda3/lib/python3.7/site-packages/lightgbm/engine.py:260: UserWarning: 'evals_result' argument is deprecated and will be removed in a future release of LightGBM. Pass 'record_evaluation()' callback via 'callbacks' argument instead.\n",
      "  _log_warning(\"'evals_result' argument is deprecated and will be removed in a future release of LightGBM. \"\n"
     ]
    },
    {
     "name": "stdout",
     "output_type": "stream",
     "text": [
      "Training until validation scores don't improve for 50 rounds\n",
      "[90]\ttrain's hr_err: 23.2726\ttest's hr_err: 13.3589\n",
      "[95]\ttrain's hr_err: 22.8995\ttest's hr_err: 14.6377\n",
      "[100]\ttrain's hr_err: 25.3287\ttest's hr_err: 15.1224\n",
      "[105]\ttrain's hr_err: 25.2339\ttest's hr_err: 14.0119\n",
      "[110]\ttrain's hr_err: 27.6542\ttest's hr_err: 15.8529\n",
      "[115]\ttrain's hr_err: 26.3652\ttest's hr_err: 15.9144\n",
      "[120]\ttrain's hr_err: 23.954\ttest's hr_err: 15.5857\n",
      "[125]\ttrain's hr_err: 23.9922\ttest's hr_err: 13.3552\n",
      "[130]\ttrain's hr_err: 17.6584\ttest's hr_err: 12.7842\n",
      "[135]\ttrain's hr_err: 17.6933\ttest's hr_err: 14.3455\n",
      "[140]\ttrain's hr_err: 17.2717\ttest's hr_err: 13.8331\n",
      "[145]\ttrain's hr_err: 20.1853\ttest's hr_err: 12.9352\n",
      "[150]\ttrain's hr_err: 17.7866\ttest's hr_err: 14.1458\n",
      "[155]\ttrain's hr_err: 17.7866\ttest's hr_err: 15.0166\n",
      "[160]\ttrain's hr_err: 13.8683\ttest's hr_err: 15.0166\n",
      "[165]\ttrain's hr_err: 11.413\ttest's hr_err: 12.4916\n",
      "[170]\ttrain's hr_err: 15.2365\ttest's hr_err: 12.1872\n",
      "[175]\ttrain's hr_err: 15.2365\ttest's hr_err: 13.9839\n",
      "[180]\ttrain's hr_err: 12.7781\ttest's hr_err: 13.9545\n",
      "[185]\ttrain's hr_err: 8.8517\ttest's hr_err: 14.0625\n",
      "[190]\ttrain's hr_err: 8.8517\ttest's hr_err: 14.8343\n",
      "[195]\ttrain's hr_err: 8.8517\ttest's hr_err: 15.5142\n",
      "[200]\ttrain's hr_err: 8.37889\ttest's hr_err: 16.0479\n",
      "[205]\ttrain's hr_err: 5.92051\ttest's hr_err: 16.0329\n",
      "[210]\ttrain's hr_err: 5.86774\ttest's hr_err: 14.3924\n",
      "[215]\ttrain's hr_err: 5.7682\ttest's hr_err: 14.2682\n",
      "[220]\ttrain's hr_err: 5.7682\ttest's hr_err: 14.2648\n",
      "Early stopping, best iteration is:\n",
      "[171]\ttrain's hr_err: 15.2365\ttest's hr_err: 12.1729\n",
      "Before fine-tuning: MSE = 0.07830426513057229, HR error = 13.176694900627382, HR error (squared) = 309.1925449152076\n",
      "\n",
      "\n",
      "Fine-tuning...\n"
     ]
    },
    {
     "name": "stderr",
     "output_type": "stream",
     "text": [
      "/Users/samuelhmorton/opt/anaconda3/lib/python3.7/site-packages/lightgbm/engine.py:260: UserWarning: 'evals_result' argument is deprecated and will be removed in a future release of LightGBM. Pass 'record_evaluation()' callback via 'callbacks' argument instead.\n",
      "  _log_warning(\"'evals_result' argument is deprecated and will be removed in a future release of LightGBM. \"\n"
     ]
    },
    {
     "name": "stdout",
     "output_type": "stream",
     "text": [
      "Training until validation scores don't improve for 25 rounds\n",
      "[175]\ttrain's hr_err: 64.7783\ttest's hr_err: 13.165\n",
      "[180]\ttrain's hr_err: 72.6151\ttest's hr_err: 16.1559\n",
      "[185]\ttrain's hr_err: 73.0434\ttest's hr_err: 17.0487\n",
      "[190]\ttrain's hr_err: 73.0434\ttest's hr_err: 16.6801\n",
      "[195]\ttrain's hr_err: 73.0434\ttest's hr_err: 16.6801\n",
      "Early stopping, best iteration is:\n",
      "[172]\ttrain's hr_err: 64.8733\ttest's hr_err: 11.9029\n"
     ]
    },
    {
     "name": "stderr",
     "output_type": "stream",
     "text": [
      "/Users/samuelhmorton/opt/anaconda3/lib/python3.7/site-packages/lightgbm/engine.py:260: UserWarning: 'evals_result' argument is deprecated and will be removed in a future release of LightGBM. Pass 'record_evaluation()' callback via 'callbacks' argument instead.\n",
      "  _log_warning(\"'evals_result' argument is deprecated and will be removed in a future release of LightGBM. \"\n"
     ]
    },
    {
     "name": "stdout",
     "output_type": "stream",
     "text": [
      "Training until validation scores don't improve for 50 rounds\n",
      "[175]\ttrain's hr_err: 16.7497\ttest's hr_err: 17.3097\n",
      "[180]\ttrain's hr_err: 13.333\ttest's hr_err: 19.1365\n",
      "[185]\ttrain's hr_err: 13.3765\ttest's hr_err: 24.7352\n",
      "[190]\ttrain's hr_err: 15.9518\ttest's hr_err: 25.3048\n",
      "[195]\ttrain's hr_err: 15.978\ttest's hr_err: 23.1291\n",
      "[200]\ttrain's hr_err: 18.4812\ttest's hr_err: 22.7078\n",
      "[205]\ttrain's hr_err: 18.4812\ttest's hr_err: 22.6347\n",
      "[210]\ttrain's hr_err: 23.4878\ttest's hr_err: 24.4887\n",
      "[215]\ttrain's hr_err: 25.2856\ttest's hr_err: 23.5334\n",
      "[220]\ttrain's hr_err: 25.2856\ttest's hr_err: 24.7786\n",
      "Early stopping, best iteration is:\n",
      "[174]\ttrain's hr_err: 16.7126\ttest's hr_err: 14.7863\n",
      "Before fine-tuning: MSE = 0.0786169058195513, HR error = 14.41239944333336, HR error (squared) = 357.5506323151385\n",
      "\n",
      "\n",
      "Fine-tuning...\n"
     ]
    },
    {
     "name": "stderr",
     "output_type": "stream",
     "text": [
      "/Users/samuelhmorton/opt/anaconda3/lib/python3.7/site-packages/lightgbm/engine.py:260: UserWarning: 'evals_result' argument is deprecated and will be removed in a future release of LightGBM. Pass 'record_evaluation()' callback via 'callbacks' argument instead.\n",
      "  _log_warning(\"'evals_result' argument is deprecated and will be removed in a future release of LightGBM. \"\n"
     ]
    },
    {
     "name": "stdout",
     "output_type": "stream",
     "text": [
      "[175]\ttrain's hr_err: 21.5305\ttest's hr_err: 44.4722\n",
      "Training until validation scores don't improve for 25 rounds\n",
      "[180]\ttrain's hr_err: 31.2378\ttest's hr_err: 42.9563\n",
      "[185]\ttrain's hr_err: 20.6452\ttest's hr_err: 42.1805\n",
      "[190]\ttrain's hr_err: 50.4659\ttest's hr_err: 42.1805\n",
      "[195]\ttrain's hr_err: 20.6452\ttest's hr_err: 42.1805\n",
      "[200]\ttrain's hr_err: 50.4659\ttest's hr_err: 42.7739\n",
      "Early stopping, best iteration is:\n",
      "[176]\ttrain's hr_err: 17.8356\ttest's hr_err: 41.3693\n"
     ]
    },
    {
     "name": "stderr",
     "output_type": "stream",
     "text": [
      "/Users/samuelhmorton/opt/anaconda3/lib/python3.7/site-packages/lightgbm/engine.py:260: UserWarning: 'evals_result' argument is deprecated and will be removed in a future release of LightGBM. Pass 'record_evaluation()' callback via 'callbacks' argument instead.\n",
      "  _log_warning(\"'evals_result' argument is deprecated and will be removed in a future release of LightGBM. \"\n"
     ]
    },
    {
     "name": "stdout",
     "output_type": "stream",
     "text": [
      "Training until validation scores don't improve for 50 rounds\n",
      "[180]\ttrain's hr_err: 22.1539\ttest's hr_err: 44.5737\n",
      "[185]\ttrain's hr_err: 21.697\ttest's hr_err: 42.0243\n",
      "[190]\ttrain's hr_err: 32.7939\ttest's hr_err: 41.1758\n",
      "[195]\ttrain's hr_err: 35.1704\ttest's hr_err: 40.6207\n",
      "[200]\ttrain's hr_err: 41.3407\ttest's hr_err: 39.7714\n",
      "[205]\ttrain's hr_err: 46.8421\ttest's hr_err: 39.7299\n",
      "[210]\ttrain's hr_err: 46.8421\ttest's hr_err: 38.2514\n",
      "[215]\ttrain's hr_err: 44.4834\ttest's hr_err: 38.81\n",
      "[220]\ttrain's hr_err: 44.4834\ttest's hr_err: 34.2947\n",
      "[225]\ttrain's hr_err: 44.4834\ttest's hr_err: 36.1008\n",
      "[230]\ttrain's hr_err: 42.1247\ttest's hr_err: 36.9101\n",
      "[235]\ttrain's hr_err: 42.1247\ttest's hr_err: 33.7838\n",
      "[240]\ttrain's hr_err: 46.8421\ttest's hr_err: 33.91\n",
      "[245]\ttrain's hr_err: 46.8421\ttest's hr_err: 32.7089\n",
      "[250]\ttrain's hr_err: 46.8421\ttest's hr_err: 32.2\n",
      "[255]\ttrain's hr_err: 43.3127\ttest's hr_err: 32.6613\n",
      "[260]\ttrain's hr_err: 42.8002\ttest's hr_err: 33.4416\n",
      "[265]\ttrain's hr_err: 39.2708\ttest's hr_err: 31.6163\n",
      "[270]\ttrain's hr_err: 43.8596\ttest's hr_err: 33.4094\n",
      "[275]\ttrain's hr_err: 45.3469\ttest's hr_err: 33.8148\n",
      "[280]\ttrain's hr_err: 45.3469\ttest's hr_err: 33.7748\n",
      "[285]\ttrain's hr_err: 45.3469\ttest's hr_err: 32.9122\n",
      "[290]\ttrain's hr_err: 48.8698\ttest's hr_err: 32.8944\n",
      "[295]\ttrain's hr_err: 48.7956\ttest's hr_err: 32.427\n",
      "[300]\ttrain's hr_err: 48.7956\ttest's hr_err: 30.3771\n",
      "[305]\ttrain's hr_err: 48.7956\ttest's hr_err: 31.4378\n",
      "[310]\ttrain's hr_err: 48.7956\ttest's hr_err: 31.3744\n",
      "[315]\ttrain's hr_err: 48.7956\ttest's hr_err: 31.9813\n",
      "[320]\ttrain's hr_err: 48.7956\ttest's hr_err: 31.3744\n",
      "[325]\ttrain's hr_err: 48.7208\ttest's hr_err: 31.5599\n",
      "[330]\ttrain's hr_err: 48.7208\ttest's hr_err: 32.1487\n",
      "[335]\ttrain's hr_err: 48.7208\ttest's hr_err: 31.5416\n",
      "[340]\ttrain's hr_err: 48.7208\ttest's hr_err: 30.2676\n",
      "[345]\ttrain's hr_err: 48.7208\ttest's hr_err: 29.6808\n",
      "[350]\ttrain's hr_err: 48.7208\ttest's hr_err: 32.1336\n",
      "[355]\ttrain's hr_err: 48.7208\ttest's hr_err: 30.8231\n",
      "Did not meet early stopping. Best iteration is:\n",
      "[183]\ttrain's hr_err: 21.697\ttest's hr_err: 51.6883\n",
      "Before fine-tuning: MSE = 0.09520660150978363, HR error = 47.600445708428616, HR error (squared) = 3214.82746664578\n",
      "\n",
      "\n",
      "Fine-tuning...\n"
     ]
    },
    {
     "name": "stderr",
     "output_type": "stream",
     "text": [
      "/Users/samuelhmorton/opt/anaconda3/lib/python3.7/site-packages/lightgbm/engine.py:260: UserWarning: 'evals_result' argument is deprecated and will be removed in a future release of LightGBM. Pass 'record_evaluation()' callback via 'callbacks' argument instead.\n",
      "  _log_warning(\"'evals_result' argument is deprecated and will be removed in a future release of LightGBM. \"\n"
     ]
    },
    {
     "name": "stdout",
     "output_type": "stream",
     "text": [
      "Training until validation scores don't improve for 25 rounds\n",
      "[185]\ttrain's hr_err: 28.6915\ttest's hr_err: 28.4799\n",
      "[190]\ttrain's hr_err: 13.0085\ttest's hr_err: 28.6062\n",
      "[195]\ttrain's hr_err: 15.7822\ttest's hr_err: 27.7609\n",
      "[200]\ttrain's hr_err: 14.5851\ttest's hr_err: 29.3821\n",
      "[205]\ttrain's hr_err: 13.2818\ttest's hr_err: 26.1065\n",
      "[210]\ttrain's hr_err: 19.3648\ttest's hr_err: 27.2803\n",
      "[215]\ttrain's hr_err: 19.4028\ttest's hr_err: 28.7648\n",
      "Early stopping, best iteration is:\n",
      "[193]\ttrain's hr_err: 15.4107\ttest's hr_err: 24.0544\n"
     ]
    },
    {
     "name": "stderr",
     "output_type": "stream",
     "text": [
      "/Users/samuelhmorton/opt/anaconda3/lib/python3.7/site-packages/lightgbm/engine.py:260: UserWarning: 'evals_result' argument is deprecated and will be removed in a future release of LightGBM. Pass 'record_evaluation()' callback via 'callbacks' argument instead.\n",
      "  _log_warning(\"'evals_result' argument is deprecated and will be removed in a future release of LightGBM. \"\n"
     ]
    },
    {
     "name": "stdout",
     "output_type": "stream",
     "text": [
      "Training until validation scores don't improve for 50 rounds\n",
      "[195]\ttrain's hr_err: 16.1033\ttest's hr_err: 24.0459\n",
      "[200]\ttrain's hr_err: 13.79\ttest's hr_err: 24.0894\n",
      "[205]\ttrain's hr_err: 15.5649\ttest's hr_err: 25.4612\n",
      "[210]\ttrain's hr_err: 18.166\ttest's hr_err: 26.8696\n",
      "[215]\ttrain's hr_err: 23.4584\ttest's hr_err: 27.7881\n",
      "[220]\ttrain's hr_err: 22.9969\ttest's hr_err: 29.2016\n",
      "[225]\ttrain's hr_err: 22.9969\ttest's hr_err: 30.6476\n",
      "[230]\ttrain's hr_err: 22.9615\ttest's hr_err: 30.6661\n",
      "[235]\ttrain's hr_err: 22.9969\ttest's hr_err: 28.4136\n",
      "[240]\ttrain's hr_err: 22.9969\ttest's hr_err: 28.1099\n",
      "[245]\ttrain's hr_err: 27.1131\ttest's hr_err: 26.093\n",
      "[250]\ttrain's hr_err: 29.4805\ttest's hr_err: 26.6845\n",
      "Early stopping, best iteration is:\n",
      "[201]\ttrain's hr_err: 13.79\ttest's hr_err: 23.5551\n",
      "Before fine-tuning: MSE = 0.09543105425183092, HR error = 23.049272956512418, HR error (squared) = 794.5346783219636\n",
      "\n",
      "\n",
      "Fine-tuning...\n"
     ]
    },
    {
     "name": "stderr",
     "output_type": "stream",
     "text": [
      "/Users/samuelhmorton/opt/anaconda3/lib/python3.7/site-packages/lightgbm/engine.py:260: UserWarning: 'evals_result' argument is deprecated and will be removed in a future release of LightGBM. Pass 'record_evaluation()' callback via 'callbacks' argument instead.\n",
      "  _log_warning(\"'evals_result' argument is deprecated and will be removed in a future release of LightGBM. \"\n"
     ]
    },
    {
     "name": "stdout",
     "output_type": "stream",
     "text": [
      "Training until validation scores don't improve for 25 rounds\n",
      "[205]\ttrain's hr_err: 19.798\ttest's hr_err: 27.1579\n",
      "[210]\ttrain's hr_err: 10.2637\ttest's hr_err: 31.4678\n",
      "[215]\ttrain's hr_err: 10.0073\ttest's hr_err: 36.2641\n",
      "[220]\ttrain's hr_err: 9.91125\ttest's hr_err: 36.3226\n",
      "[225]\ttrain's hr_err: 8.59603\ttest's hr_err: 35.5471\n",
      "Early stopping, best iteration is:\n",
      "[202]\ttrain's hr_err: 19.798\ttest's hr_err: 24.9318\n"
     ]
    },
    {
     "name": "stderr",
     "output_type": "stream",
     "text": [
      "/Users/samuelhmorton/opt/anaconda3/lib/python3.7/site-packages/lightgbm/engine.py:260: UserWarning: 'evals_result' argument is deprecated and will be removed in a future release of LightGBM. Pass 'record_evaluation()' callback via 'callbacks' argument instead.\n",
      "  _log_warning(\"'evals_result' argument is deprecated and will be removed in a future release of LightGBM. \"\n"
     ]
    },
    {
     "name": "stdout",
     "output_type": "stream",
     "text": [
      "Training until validation scores don't improve for 50 rounds\n",
      "[205]\ttrain's hr_err: 32.6681\ttest's hr_err: 25.918\n",
      "[210]\ttrain's hr_err: 32.6681\ttest's hr_err: 25.5107\n",
      "[215]\ttrain's hr_err: 32.6681\ttest's hr_err: 27.1528\n",
      "[220]\ttrain's hr_err: 32.6681\ttest's hr_err: 26.6709\n",
      "[225]\ttrain's hr_err: 32.6681\ttest's hr_err: 26.1085\n",
      "[230]\ttrain's hr_err: 37.9425\ttest's hr_err: 25.2887\n",
      "[235]\ttrain's hr_err: 40.4199\ttest's hr_err: 23.4913\n",
      "[240]\ttrain's hr_err: 40.4199\ttest's hr_err: 23.7842\n",
      "[245]\ttrain's hr_err: 42.8973\ttest's hr_err: 21.6263\n",
      "[250]\ttrain's hr_err: 42.8973\ttest's hr_err: 23.5987\n",
      "[255]\ttrain's hr_err: 47.8713\ttest's hr_err: 22.7133\n",
      "[260]\ttrain's hr_err: 55.7113\ttest's hr_err: 27.9171\n",
      "[265]\ttrain's hr_err: 58.1733\ttest's hr_err: 32.1101\n",
      "[270]\ttrain's hr_err: 58.6724\ttest's hr_err: 31.4707\n",
      "[275]\ttrain's hr_err: 58.6724\ttest's hr_err: 32.9628\n",
      "[280]\ttrain's hr_err: 56.3423\ttest's hr_err: 36.3176\n",
      "[285]\ttrain's hr_err: 53.8712\ttest's hr_err: 35.1424\n",
      "[290]\ttrain's hr_err: 53.8839\ttest's hr_err: 36.2958\n",
      "[295]\ttrain's hr_err: 56.214\ttest's hr_err: 37.6118\n",
      "Early stopping, best iteration is:\n",
      "[247]\ttrain's hr_err: 42.8973\ttest's hr_err: 21.617\n",
      "Before fine-tuning: MSE = 0.09296804006776957, HR error = 19.942020088818232, HR error (squared) = 678.9643335341636\n",
      "\n",
      "\n",
      "Fine-tuning...\n"
     ]
    },
    {
     "name": "stderr",
     "output_type": "stream",
     "text": [
      "/Users/samuelhmorton/opt/anaconda3/lib/python3.7/site-packages/lightgbm/engine.py:260: UserWarning: 'evals_result' argument is deprecated and will be removed in a future release of LightGBM. Pass 'record_evaluation()' callback via 'callbacks' argument instead.\n",
      "  _log_warning(\"'evals_result' argument is deprecated and will be removed in a future release of LightGBM. \"\n"
     ]
    },
    {
     "name": "stdout",
     "output_type": "stream",
     "text": [
      "Training until validation scores don't improve for 25 rounds\n",
      "[250]\ttrain's hr_err: 17.9407\ttest's hr_err: 29.921\n",
      "[255]\ttrain's hr_err: 19.3548\ttest's hr_err: 34.4678\n",
      "[260]\ttrain's hr_err: 10.9603\ttest's hr_err: 44.1375\n",
      "[265]\ttrain's hr_err: 56.2914\ttest's hr_err: 45.5519\n",
      "[270]\ttrain's hr_err: 73.5427\ttest's hr_err: 47.8521\n",
      "Early stopping, best iteration is:\n",
      "[248]\ttrain's hr_err: 22.8955\ttest's hr_err: 24.631\n"
     ]
    },
    {
     "name": "stderr",
     "output_type": "stream",
     "text": [
      "/Users/samuelhmorton/opt/anaconda3/lib/python3.7/site-packages/lightgbm/engine.py:260: UserWarning: 'evals_result' argument is deprecated and will be removed in a future release of LightGBM. Pass 'record_evaluation()' callback via 'callbacks' argument instead.\n",
      "  _log_warning(\"'evals_result' argument is deprecated and will be removed in a future release of LightGBM. \"\n"
     ]
    },
    {
     "name": "stdout",
     "output_type": "stream",
     "text": [
      "Training until validation scores don't improve for 50 rounds\n",
      "[250]\ttrain's hr_err: 30.5411\ttest's hr_err: 23.3929\n",
      "[255]\ttrain's hr_err: 40.7853\ttest's hr_err: 23.9022\n",
      "[260]\ttrain's hr_err: 43.4059\ttest's hr_err: 26.8636\n",
      "[265]\ttrain's hr_err: 38.3941\ttest's hr_err: 30.0794\n",
      "[270]\ttrain's hr_err: 35.4916\ttest's hr_err: 33.8903\n",
      "[275]\ttrain's hr_err: 54.7898\ttest's hr_err: 34.1022\n",
      "[280]\ttrain's hr_err: 61.6965\ttest's hr_err: 36.1226\n",
      "[285]\ttrain's hr_err: 61.6965\ttest's hr_err: 39.2921\n",
      "[290]\ttrain's hr_err: 66.6736\ttest's hr_err: 38.1824\n",
      "[295]\ttrain's hr_err: 41.4105\ttest's hr_err: 37.3444\n",
      "[300]\ttrain's hr_err: 46.0157\ttest's hr_err: 39.8405\n",
      "Early stopping, best iteration is:\n",
      "[250]\ttrain's hr_err: 30.5411\ttest's hr_err: 23.3929\n",
      "Before fine-tuning: MSE = 0.09206910959026308, HR error = 21.41615868055559, HR error (squared) = 835.15118184183\n",
      "\n",
      "\n",
      "Fine-tuning...\n"
     ]
    },
    {
     "name": "stderr",
     "output_type": "stream",
     "text": [
      "/Users/samuelhmorton/opt/anaconda3/lib/python3.7/site-packages/lightgbm/engine.py:260: UserWarning: 'evals_result' argument is deprecated and will be removed in a future release of LightGBM. Pass 'record_evaluation()' callback via 'callbacks' argument instead.\n",
      "  _log_warning(\"'evals_result' argument is deprecated and will be removed in a future release of LightGBM. \"\n"
     ]
    },
    {
     "name": "stdout",
     "output_type": "stream",
     "text": [
      "Training until validation scores don't improve for 25 rounds\n",
      "[255]\ttrain's hr_err: 11.8214\ttest's hr_err: 23.9193\n",
      "[260]\ttrain's hr_err: 12.184\ttest's hr_err: 23.1743\n",
      "[265]\ttrain's hr_err: 12.184\ttest's hr_err: 23.7482\n",
      "[270]\ttrain's hr_err: 12.184\ttest's hr_err: 23.7482\n",
      "[275]\ttrain's hr_err: 12.184\ttest's hr_err: 23.6776\n",
      "Early stopping, best iteration is:\n",
      "[252]\ttrain's hr_err: 15.6084\ttest's hr_err: 22.7891\n"
     ]
    },
    {
     "name": "stderr",
     "output_type": "stream",
     "text": [
      "/Users/samuelhmorton/opt/anaconda3/lib/python3.7/site-packages/lightgbm/engine.py:260: UserWarning: 'evals_result' argument is deprecated and will be removed in a future release of LightGBM. Pass 'record_evaluation()' callback via 'callbacks' argument instead.\n",
      "  _log_warning(\"'evals_result' argument is deprecated and will be removed in a future release of LightGBM. \"\n"
     ]
    },
    {
     "name": "stdout",
     "output_type": "stream",
     "text": [
      "Training until validation scores don't improve for 50 rounds\n",
      "[255]\ttrain's hr_err: 6.0408\ttest's hr_err: 23.3325\n",
      "[260]\ttrain's hr_err: 6.10517\ttest's hr_err: 23.9759\n",
      "[265]\ttrain's hr_err: 6.89722\ttest's hr_err: 24.726\n",
      "[270]\ttrain's hr_err: 6.89722\ttest's hr_err: 25.3803\n",
      "[275]\ttrain's hr_err: 6.89722\ttest's hr_err: 26.5753\n",
      "[280]\ttrain's hr_err: 6.89722\ttest's hr_err: 27.7884\n",
      "[285]\ttrain's hr_err: 6.14242\ttest's hr_err: 27.0948\n",
      "[290]\ttrain's hr_err: 6.20705\ttest's hr_err: 28.345\n",
      "[295]\ttrain's hr_err: 6.20705\ttest's hr_err: 28.5045\n",
      "[300]\ttrain's hr_err: 5.35972\ttest's hr_err: 29.6433\n",
      "Early stopping, best iteration is:\n",
      "[253]\ttrain's hr_err: 6.0408\ttest's hr_err: 22.7891\n",
      "Before fine-tuning: MSE = 0.09120968806811056, HR error = 23.096670434595218, HR error (squared) = 891.2833284909325\n",
      "\n",
      "\n",
      "Fine-tuning...\n"
     ]
    },
    {
     "name": "stderr",
     "output_type": "stream",
     "text": [
      "/Users/samuelhmorton/opt/anaconda3/lib/python3.7/site-packages/lightgbm/engine.py:260: UserWarning: 'evals_result' argument is deprecated and will be removed in a future release of LightGBM. Pass 'record_evaluation()' callback via 'callbacks' argument instead.\n",
      "  _log_warning(\"'evals_result' argument is deprecated and will be removed in a future release of LightGBM. \"\n"
     ]
    },
    {
     "name": "stdout",
     "output_type": "stream",
     "text": [
      "Training until validation scores don't improve for 25 rounds\n",
      "[255]\ttrain's hr_err: 30.5784\ttest's hr_err: 24.3063\n",
      "[260]\ttrain's hr_err: 31.3284\ttest's hr_err: 24.6466\n",
      "[265]\ttrain's hr_err: 28.8382\ttest's hr_err: 26.6557\n",
      "[270]\ttrain's hr_err: 28.9025\ttest's hr_err: 29.3772\n",
      "[275]\ttrain's hr_err: 31.3928\ttest's hr_err: 30.209\n",
      "Early stopping, best iteration is:\n",
      "[254]\ttrain's hr_err: 30.5784\ttest's hr_err: 23.9759\n",
      "Finished training in 0:05:13.535787\n",
      "\n",
      "\n",
      "Training excluding subject 2...\n",
      "\n",
      "Rows per batch: 1792\n"
     ]
    },
    {
     "name": "stderr",
     "output_type": "stream",
     "text": [
      "/Users/samuelhmorton/opt/anaconda3/lib/python3.7/site-packages/lightgbm/engine.py:260: UserWarning: 'evals_result' argument is deprecated and will be removed in a future release of LightGBM. Pass 'record_evaluation()' callback via 'callbacks' argument instead.\n",
      "  _log_warning(\"'evals_result' argument is deprecated and will be removed in a future release of LightGBM. \"\n"
     ]
    },
    {
     "name": "stdout",
     "output_type": "stream",
     "text": [
      "Training until validation scores don't improve for 50 rounds\n",
      "[5]\ttrain's hr_err: 8.19535\ttest's hr_err: 43.4057\n",
      "[10]\ttrain's hr_err: 5.34251\ttest's hr_err: 40.7113\n",
      "[15]\ttrain's hr_err: 5.4252\ttest's hr_err: 37.9127\n",
      "[20]\ttrain's hr_err: 3.36918\ttest's hr_err: 39.6115\n",
      "[25]\ttrain's hr_err: 6.98288\ttest's hr_err: 41.0776\n",
      "[30]\ttrain's hr_err: 9.56692\ttest's hr_err: 41.0278\n",
      "[35]\ttrain's hr_err: 7.1389\ttest's hr_err: 41.6076\n",
      "[40]\ttrain's hr_err: 7.27464\ttest's hr_err: 41.9512\n",
      "[45]\ttrain's hr_err: 7.1089\ttest's hr_err: 39.4412\n",
      "[50]\ttrain's hr_err: 3.83072\ttest's hr_err: 38.4039\n",
      "[55]\ttrain's hr_err: 7.05655\ttest's hr_err: 37.9344\n",
      "[60]\ttrain's hr_err: 3.71742\ttest's hr_err: 38.129\n",
      "[65]\ttrain's hr_err: 3.70825\ttest's hr_err: 38.1736\n",
      "Early stopping, best iteration is:\n",
      "[16]\ttrain's hr_err: 5.4252\ttest's hr_err: 37.693\n",
      "Before fine-tuning: MSE = 0.11102019025450237, HR error = 36.53854660755633, HR error (squared) = 1905.551913689566\n",
      "\n",
      "\n",
      "Fine-tuning...\n"
     ]
    },
    {
     "name": "stderr",
     "output_type": "stream",
     "text": [
      "/Users/samuelhmorton/opt/anaconda3/lib/python3.7/site-packages/lightgbm/engine.py:260: UserWarning: 'evals_result' argument is deprecated and will be removed in a future release of LightGBM. Pass 'record_evaluation()' callback via 'callbacks' argument instead.\n",
      "  _log_warning(\"'evals_result' argument is deprecated and will be removed in a future release of LightGBM. \"\n"
     ]
    },
    {
     "name": "stdout",
     "output_type": "stream",
     "text": [
      "Training until validation scores don't improve for 25 rounds\n",
      "[20]\ttrain's hr_err: 23.5308\ttest's hr_err: 45.9641\n",
      "[25]\ttrain's hr_err: 19.9638\ttest's hr_err: 47.0945\n",
      "[30]\ttrain's hr_err: 17.7067\ttest's hr_err: 48.7718\n",
      "[35]\ttrain's hr_err: 17.7411\ttest's hr_err: 51.5669\n",
      "[40]\ttrain's hr_err: 21.4193\ttest's hr_err: 51.6787\n",
      "[45]\ttrain's hr_err: 17.8104\ttest's hr_err: 52.3836\n",
      "Early stopping, best iteration is:\n",
      "[20]\ttrain's hr_err: 23.5308\ttest's hr_err: 45.9641\n"
     ]
    },
    {
     "name": "stderr",
     "output_type": "stream",
     "text": [
      "/Users/samuelhmorton/opt/anaconda3/lib/python3.7/site-packages/lightgbm/engine.py:260: UserWarning: 'evals_result' argument is deprecated and will be removed in a future release of LightGBM. Pass 'record_evaluation()' callback via 'callbacks' argument instead.\n",
      "  _log_warning(\"'evals_result' argument is deprecated and will be removed in a future release of LightGBM. \"\n"
     ]
    },
    {
     "name": "stdout",
     "output_type": "stream",
     "text": [
      "Training until validation scores don't improve for 50 rounds\n",
      "[25]\ttrain's hr_err: 4.68484\ttest's hr_err: 44.6382\n",
      "[30]\ttrain's hr_err: 5.04188\ttest's hr_err: 42.8272\n",
      "[35]\ttrain's hr_err: 5.04188\ttest's hr_err: 41.0351\n",
      "[40]\ttrain's hr_err: 3.59467\ttest's hr_err: 39.9756\n",
      "[45]\ttrain's hr_err: 3.53619\ttest's hr_err: 38.6116\n",
      "[50]\ttrain's hr_err: 4.30996\ttest's hr_err: 39.7294\n",
      "[55]\ttrain's hr_err: 5.74979\ttest's hr_err: 39.574\n",
      "[60]\ttrain's hr_err: 4.57513\ttest's hr_err: 38.6094\n",
      "[65]\ttrain's hr_err: 7.29467\ttest's hr_err: 37.961\n",
      "[70]\ttrain's hr_err: 7.24674\ttest's hr_err: 37.9754\n",
      "[75]\ttrain's hr_err: 5.0074\ttest's hr_err: 36.9109\n",
      "[80]\ttrain's hr_err: 3.53019\ttest's hr_err: 36.7758\n",
      "[85]\ttrain's hr_err: 6.15243\ttest's hr_err: 36.7184\n",
      "[90]\ttrain's hr_err: 10.0929\ttest's hr_err: 37.3463\n",
      "[95]\ttrain's hr_err: 10.0212\ttest's hr_err: 37.6252\n",
      "[100]\ttrain's hr_err: 19.1879\ttest's hr_err: 36.6639\n",
      "[105]\ttrain's hr_err: 19.1879\ttest's hr_err: 36.6588\n",
      "[110]\ttrain's hr_err: 22.8174\ttest's hr_err: 36.9493\n",
      "[115]\ttrain's hr_err: 22.8174\ttest's hr_err: 36.9224\n",
      "[120]\ttrain's hr_err: 19.9187\ttest's hr_err: 38.3808\n",
      "[125]\ttrain's hr_err: 19.9187\ttest's hr_err: 38.9734\n",
      "[130]\ttrain's hr_err: 19.9187\ttest's hr_err: 39.7848\n",
      "[135]\ttrain's hr_err: 19.9187\ttest's hr_err: 42.4279\n",
      "[140]\ttrain's hr_err: 14.5034\ttest's hr_err: 42.4407\n",
      "[145]\ttrain's hr_err: 14.2481\ttest's hr_err: 42.4102\n",
      "[150]\ttrain's hr_err: 14.2481\ttest's hr_err: 43.8798\n",
      "Early stopping, best iteration is:\n",
      "[104]\ttrain's hr_err: 19.1879\ttest's hr_err: 36.0214\n",
      "Before fine-tuning: MSE = 0.09369011361752347, HR error = 33.99392475079544, HR error (squared) = 1941.2808767037131\n",
      "\n",
      "\n",
      "Fine-tuning...\n"
     ]
    },
    {
     "name": "stderr",
     "output_type": "stream",
     "text": [
      "/Users/samuelhmorton/opt/anaconda3/lib/python3.7/site-packages/lightgbm/engine.py:260: UserWarning: 'evals_result' argument is deprecated and will be removed in a future release of LightGBM. Pass 'record_evaluation()' callback via 'callbacks' argument instead.\n",
      "  _log_warning(\"'evals_result' argument is deprecated and will be removed in a future release of LightGBM. \"\n"
     ]
    },
    {
     "name": "stdout",
     "output_type": "stream",
     "text": [
      "[105]\ttrain's hr_err: 26.1343\ttest's hr_err: 36.8085\n",
      "Training until validation scores don't improve for 25 rounds\n",
      "[110]\ttrain's hr_err: 27.1665\ttest's hr_err: 34.7917\n",
      "[115]\ttrain's hr_err: 38.9599\ttest's hr_err: 35.5518\n",
      "[120]\ttrain's hr_err: 41.2374\ttest's hr_err: 33.8148\n",
      "[125]\ttrain's hr_err: 44.6165\ttest's hr_err: 32.1703\n",
      "[130]\ttrain's hr_err: 41.3957\ttest's hr_err: 31.5941\n",
      "[135]\ttrain's hr_err: 40.2613\ttest's hr_err: 32.8816\n",
      "[140]\ttrain's hr_err: 43.5429\ttest's hr_err: 33.0007\n",
      "[145]\ttrain's hr_err: 41.129\ttest's hr_err: 33.4312\n",
      "Early stopping, best iteration is:\n",
      "[123]\ttrain's hr_err: 40.3038\ttest's hr_err: 31.5467\n"
     ]
    },
    {
     "name": "stderr",
     "output_type": "stream",
     "text": [
      "/Users/samuelhmorton/opt/anaconda3/lib/python3.7/site-packages/lightgbm/engine.py:260: UserWarning: 'evals_result' argument is deprecated and will be removed in a future release of LightGBM. Pass 'record_evaluation()' callback via 'callbacks' argument instead.\n",
      "  _log_warning(\"'evals_result' argument is deprecated and will be removed in a future release of LightGBM. \"\n"
     ]
    },
    {
     "name": "stdout",
     "output_type": "stream",
     "text": [
      "Training until validation scores don't improve for 50 rounds\n",
      "[125]\ttrain's hr_err: 41.1378\ttest's hr_err: 31.5467\n",
      "[130]\ttrain's hr_err: 41.1378\ttest's hr_err: 32.652\n",
      "[135]\ttrain's hr_err: 41.1378\ttest's hr_err: 32.5606\n",
      "[140]\ttrain's hr_err: 41.1378\ttest's hr_err: 34.3929\n",
      "[145]\ttrain's hr_err: 38.3349\ttest's hr_err: 35.777\n",
      "[150]\ttrain's hr_err: 41.1378\ttest's hr_err: 37.0183\n",
      "[155]\ttrain's hr_err: 41.1378\ttest's hr_err: 36.4377\n",
      "[160]\ttrain's hr_err: 41.1378\ttest's hr_err: 37.491\n",
      "[165]\ttrain's hr_err: 41.1378\ttest's hr_err: 39.082\n",
      "[170]\ttrain's hr_err: 41.1378\ttest's hr_err: 38.488\n",
      "[175]\ttrain's hr_err: 41.1378\ttest's hr_err: 39.0977\n",
      "Early stopping, best iteration is:\n",
      "[126]\ttrain's hr_err: 41.1378\ttest's hr_err: 31.2735\n",
      "Before fine-tuning: MSE = 0.09242777353979413, HR error = 34.114007222796246, HR error (squared) = 1711.827377428471\n",
      "\n",
      "\n",
      "Fine-tuning...\n"
     ]
    },
    {
     "name": "stderr",
     "output_type": "stream",
     "text": [
      "/Users/samuelhmorton/opt/anaconda3/lib/python3.7/site-packages/lightgbm/engine.py:260: UserWarning: 'evals_result' argument is deprecated and will be removed in a future release of LightGBM. Pass 'record_evaluation()' callback via 'callbacks' argument instead.\n",
      "  _log_warning(\"'evals_result' argument is deprecated and will be removed in a future release of LightGBM. \"\n"
     ]
    },
    {
     "name": "stdout",
     "output_type": "stream",
     "text": [
      "Training until validation scores don't improve for 25 rounds\n",
      "[130]\ttrain's hr_err: 19.9518\ttest's hr_err: 35.2264\n",
      "[135]\ttrain's hr_err: 26.057\ttest's hr_err: 36.0765\n",
      "[140]\ttrain's hr_err: 28.5814\ttest's hr_err: 41.8633\n",
      "[145]\ttrain's hr_err: 25.9432\ttest's hr_err: 42.7921\n",
      "[150]\ttrain's hr_err: 22.7025\ttest's hr_err: 42.6568\n",
      "Early stopping, best iteration is:\n",
      "[127]\ttrain's hr_err: 17.1038\ttest's hr_err: 33.8084\n"
     ]
    },
    {
     "name": "stderr",
     "output_type": "stream",
     "text": [
      "/Users/samuelhmorton/opt/anaconda3/lib/python3.7/site-packages/lightgbm/engine.py:260: UserWarning: 'evals_result' argument is deprecated and will be removed in a future release of LightGBM. Pass 'record_evaluation()' callback via 'callbacks' argument instead.\n",
      "  _log_warning(\"'evals_result' argument is deprecated and will be removed in a future release of LightGBM. \"\n"
     ]
    },
    {
     "name": "stdout",
     "output_type": "stream",
     "text": [
      "Training until validation scores don't improve for 50 rounds\n",
      "[130]\ttrain's hr_err: 18.8054\ttest's hr_err: 33.887\n",
      "[135]\ttrain's hr_err: 21.2575\ttest's hr_err: 33.3228\n",
      "[140]\ttrain's hr_err: 23.7096\ttest's hr_err: 32.0229\n",
      "[145]\ttrain's hr_err: 23.6686\ttest's hr_err: 31.8337\n",
      "[150]\ttrain's hr_err: 23.703\ttest's hr_err: 31.0412\n",
      "[155]\ttrain's hr_err: 23.703\ttest's hr_err: 31.8661\n",
      "[160]\ttrain's hr_err: 19.9907\ttest's hr_err: 31.2012\n",
      "[165]\ttrain's hr_err: 19.9907\ttest's hr_err: 33.898\n",
      "[170]\ttrain's hr_err: 20.0252\ttest's hr_err: 33.4434\n",
      "[175]\ttrain's hr_err: 22.518\ttest's hr_err: 33.3548\n",
      "[180]\ttrain's hr_err: 22.518\ttest's hr_err: 33.4162\n",
      "[185]\ttrain's hr_err: 22.518\ttest's hr_err: 32.8214\n",
      "[190]\ttrain's hr_err: 22.518\ttest's hr_err: 35.9379\n",
      "[195]\ttrain's hr_err: 24.9638\ttest's hr_err: 35.921\n",
      "[200]\ttrain's hr_err: 24.9638\ttest's hr_err: 36.7228\n",
      "Early stopping, best iteration is:\n",
      "[152]\ttrain's hr_err: 23.703\ttest's hr_err: 29.3712\n",
      "Before fine-tuning: MSE = 0.09486484712893782, HR error = 30.67550499042028, HR error (squared) = 1403.1636074463631\n",
      "\n",
      "\n",
      "Fine-tuning...\n"
     ]
    },
    {
     "name": "stderr",
     "output_type": "stream",
     "text": [
      "/Users/samuelhmorton/opt/anaconda3/lib/python3.7/site-packages/lightgbm/engine.py:260: UserWarning: 'evals_result' argument is deprecated and will be removed in a future release of LightGBM. Pass 'record_evaluation()' callback via 'callbacks' argument instead.\n",
      "  _log_warning(\"'evals_result' argument is deprecated and will be removed in a future release of LightGBM. \"\n"
     ]
    },
    {
     "name": "stdout",
     "output_type": "stream",
     "text": [
      "Training until validation scores don't improve for 25 rounds\n",
      "[155]\ttrain's hr_err: 13.1142\ttest's hr_err: 40.8745\n",
      "[160]\ttrain's hr_err: 13.9695\ttest's hr_err: 43.8528\n",
      "[165]\ttrain's hr_err: 13.98\ttest's hr_err: 44.2055\n",
      "[170]\ttrain's hr_err: 14.0091\ttest's hr_err: 44.3564\n",
      "[175]\ttrain's hr_err: 14.038\ttest's hr_err: 45.0144\n",
      "Early stopping, best iteration is:\n",
      "[153]\ttrain's hr_err: 7.30614\ttest's hr_err: 39.677\n"
     ]
    },
    {
     "name": "stderr",
     "output_type": "stream",
     "text": [
      "/Users/samuelhmorton/opt/anaconda3/lib/python3.7/site-packages/lightgbm/engine.py:260: UserWarning: 'evals_result' argument is deprecated and will be removed in a future release of LightGBM. Pass 'record_evaluation()' callback via 'callbacks' argument instead.\n",
      "  _log_warning(\"'evals_result' argument is deprecated and will be removed in a future release of LightGBM. \"\n"
     ]
    },
    {
     "name": "stdout",
     "output_type": "stream",
     "text": [
      "Training until validation scores don't improve for 50 rounds\n",
      "[155]\ttrain's hr_err: 10.4116\ttest's hr_err: 39.8563\n",
      "[160]\ttrain's hr_err: 10.4116\ttest's hr_err: 40.4157\n",
      "[165]\ttrain's hr_err: 10.4116\ttest's hr_err: 38.1057\n",
      "[170]\ttrain's hr_err: 10.4116\ttest's hr_err: 38.3472\n",
      "[175]\ttrain's hr_err: 10.4116\ttest's hr_err: 38.8752\n",
      "[180]\ttrain's hr_err: 12.9148\ttest's hr_err: 38.5789\n",
      "[185]\ttrain's hr_err: 12.9148\ttest's hr_err: 39.1034\n",
      "[190]\ttrain's hr_err: 12.9148\ttest's hr_err: 39.0843\n",
      "[195]\ttrain's hr_err: 12.9474\ttest's hr_err: 38.4447\n",
      "[200]\ttrain's hr_err: 10.4668\ttest's hr_err: 39.0511\n",
      "[205]\ttrain's hr_err: 10.4668\ttest's hr_err: 39.481\n",
      "[210]\ttrain's hr_err: 7.96682\ttest's hr_err: 38.8889\n",
      "[215]\ttrain's hr_err: 7.96682\ttest's hr_err: 39.6711\n",
      "[220]\ttrain's hr_err: 7.96682\ttest's hr_err: 40.0485\n",
      "Early stopping, best iteration is:\n",
      "[173]\ttrain's hr_err: 10.4116\ttest's hr_err: 37.9626\n",
      "Before fine-tuning: MSE = 0.08751275310356456, HR error = 38.122183436791026, HR error (squared) = 1998.9780144720235\n",
      "\n",
      "\n",
      "Fine-tuning...\n"
     ]
    },
    {
     "name": "stderr",
     "output_type": "stream",
     "text": [
      "/Users/samuelhmorton/opt/anaconda3/lib/python3.7/site-packages/lightgbm/engine.py:260: UserWarning: 'evals_result' argument is deprecated and will be removed in a future release of LightGBM. Pass 'record_evaluation()' callback via 'callbacks' argument instead.\n",
      "  _log_warning(\"'evals_result' argument is deprecated and will be removed in a future release of LightGBM. \"\n"
     ]
    },
    {
     "name": "stdout",
     "output_type": "stream",
     "text": [
      "Training until validation scores don't improve for 25 rounds\n",
      "[175]\ttrain's hr_err: 24.7935\ttest's hr_err: 38.7226\n",
      "[180]\ttrain's hr_err: 19.8323\ttest's hr_err: 43.5287\n",
      "[185]\ttrain's hr_err: 19.0762\ttest's hr_err: 49.0235\n",
      "[190]\ttrain's hr_err: 16.3107\ttest's hr_err: 47.0894\n",
      "[195]\ttrain's hr_err: 15.3594\ttest's hr_err: 46.5606\n",
      "[200]\ttrain's hr_err: 12.106\ttest's hr_err: 46.2713\n",
      "Early stopping, best iteration is:\n",
      "[176]\ttrain's hr_err: 24.7935\ttest's hr_err: 36.381\n"
     ]
    },
    {
     "name": "stderr",
     "output_type": "stream",
     "text": [
      "/Users/samuelhmorton/opt/anaconda3/lib/python3.7/site-packages/lightgbm/engine.py:260: UserWarning: 'evals_result' argument is deprecated and will be removed in a future release of LightGBM. Pass 'record_evaluation()' callback via 'callbacks' argument instead.\n",
      "  _log_warning(\"'evals_result' argument is deprecated and will be removed in a future release of LightGBM. \"\n"
     ]
    },
    {
     "name": "stdout",
     "output_type": "stream",
     "text": [
      "Training until validation scores don't improve for 50 rounds\n",
      "[180]\ttrain's hr_err: 23.344\ttest's hr_err: 35.6817\n",
      "[185]\ttrain's hr_err: 23.344\ttest's hr_err: 36.6707\n",
      "[190]\ttrain's hr_err: 23.344\ttest's hr_err: 37.671\n",
      "[195]\ttrain's hr_err: 25.6731\ttest's hr_err: 37.0353\n",
      "[200]\ttrain's hr_err: 23.9664\ttest's hr_err: 35.7537\n",
      "[205]\ttrain's hr_err: 24.0077\ttest's hr_err: 36.3298\n",
      "[210]\ttrain's hr_err: 23.9664\ttest's hr_err: 36.0819\n",
      "[215]\ttrain's hr_err: 23.9664\ttest's hr_err: 36.5662\n",
      "[220]\ttrain's hr_err: 24.0077\ttest's hr_err: 36.0235\n",
      "[225]\ttrain's hr_err: 24.0077\ttest's hr_err: 35.4084\n",
      "[230]\ttrain's hr_err: 24.4152\ttest's hr_err: 34.7364\n",
      "[235]\ttrain's hr_err: 24.4246\ttest's hr_err: 34.5472\n",
      "[240]\ttrain's hr_err: 26.988\ttest's hr_err: 36.1315\n",
      "[245]\ttrain's hr_err: 26.988\ttest's hr_err: 36.552\n",
      "[250]\ttrain's hr_err: 26.988\ttest's hr_err: 38.3262\n",
      "[255]\ttrain's hr_err: 34.6478\ttest's hr_err: 37.7305\n",
      "[260]\ttrain's hr_err: 37.2142\ttest's hr_err: 35.8493\n",
      "[265]\ttrain's hr_err: 37.2142\ttest's hr_err: 35.0777\n",
      "[270]\ttrain's hr_err: 37.2142\ttest's hr_err: 34.624\n",
      "[275]\ttrain's hr_err: 37.2142\ttest's hr_err: 35.2683\n",
      "[280]\ttrain's hr_err: 33.8718\ttest's hr_err: 36.0072\n",
      "[285]\ttrain's hr_err: 31.0399\ttest's hr_err: 35.3452\n",
      "[290]\ttrain's hr_err: 31.0863\ttest's hr_err: 35.5197\n",
      "[295]\ttrain's hr_err: 31.0863\ttest's hr_err: 34.871\n",
      "[300]\ttrain's hr_err: 30.5832\ttest's hr_err: 35.1195\n",
      "[305]\ttrain's hr_err: 33.6061\ttest's hr_err: 35.1428\n",
      "[310]\ttrain's hr_err: 36.5829\ttest's hr_err: 35.1428\n",
      "[315]\ttrain's hr_err: 43.7391\ttest's hr_err: 37.1896\n",
      "Early stopping, best iteration is:\n",
      "[269]\ttrain's hr_err: 37.2142\ttest's hr_err: 33.562\n",
      "Before fine-tuning: MSE = 0.0892607217957275, HR error = 33.46774405397302, HR error (squared) = 1462.8213923550134\n",
      "\n",
      "\n",
      "Fine-tuning...\n"
     ]
    },
    {
     "name": "stderr",
     "output_type": "stream",
     "text": [
      "/Users/samuelhmorton/opt/anaconda3/lib/python3.7/site-packages/lightgbm/engine.py:260: UserWarning: 'evals_result' argument is deprecated and will be removed in a future release of LightGBM. Pass 'record_evaluation()' callback via 'callbacks' argument instead.\n",
      "  _log_warning(\"'evals_result' argument is deprecated and will be removed in a future release of LightGBM. \"\n"
     ]
    },
    {
     "name": "stdout",
     "output_type": "stream",
     "text": [
      "[270]\ttrain's hr_err: 9.39544\ttest's hr_err: 35.5851\n",
      "Training until validation scores don't improve for 25 rounds\n",
      "[275]\ttrain's hr_err: 17.7744\ttest's hr_err: 31.0377\n",
      "[280]\ttrain's hr_err: 17.7744\ttest's hr_err: 31.5985\n",
      "[285]\ttrain's hr_err: 13.9295\ttest's hr_err: 32.6642\n",
      "[290]\ttrain's hr_err: 14.2303\ttest's hr_err: 35.0399\n",
      "[295]\ttrain's hr_err: 18.1188\ttest's hr_err: 35.5787\n",
      "Early stopping, best iteration is:\n",
      "[273]\ttrain's hr_err: 17.7744\ttest's hr_err: 29.8138\n"
     ]
    },
    {
     "name": "stderr",
     "output_type": "stream",
     "text": [
      "/Users/samuelhmorton/opt/anaconda3/lib/python3.7/site-packages/lightgbm/engine.py:260: UserWarning: 'evals_result' argument is deprecated and will be removed in a future release of LightGBM. Pass 'record_evaluation()' callback via 'callbacks' argument instead.\n",
      "  _log_warning(\"'evals_result' argument is deprecated and will be removed in a future release of LightGBM. \"\n"
     ]
    },
    {
     "name": "stdout",
     "output_type": "stream",
     "text": [
      "Training until validation scores don't improve for 50 rounds\n",
      "[275]\ttrain's hr_err: 5.30121\ttest's hr_err: 29.8138\n",
      "[280]\ttrain's hr_err: 5.30121\ttest's hr_err: 30.4035\n",
      "[285]\ttrain's hr_err: 5.30121\ttest's hr_err: 30.9805\n",
      "[290]\ttrain's hr_err: 5.24222\ttest's hr_err: 32.3471\n",
      "[295]\ttrain's hr_err: 5.24222\ttest's hr_err: 32.3565\n",
      "[300]\ttrain's hr_err: 5.24222\ttest's hr_err: 32.3565\n",
      "[305]\ttrain's hr_err: 6.36035\ttest's hr_err: 32.4695\n",
      "[310]\ttrain's hr_err: 6.36035\ttest's hr_err: 32.9136\n",
      "[315]\ttrain's hr_err: 6.36035\ttest's hr_err: 34.1333\n",
      "[320]\ttrain's hr_err: 6.36035\ttest's hr_err: 33.6643\n",
      "Early stopping, best iteration is:\n",
      "[274]\ttrain's hr_err: 5.30121\ttest's hr_err: 29.8138\n",
      "Before fine-tuning: MSE = 0.09777186680357085, HR error = 29.315668067609582, HR error (squared) = 1044.9968920354986\n",
      "\n",
      "\n",
      "Fine-tuning...\n"
     ]
    },
    {
     "name": "stderr",
     "output_type": "stream",
     "text": [
      "/Users/samuelhmorton/opt/anaconda3/lib/python3.7/site-packages/lightgbm/engine.py:260: UserWarning: 'evals_result' argument is deprecated and will be removed in a future release of LightGBM. Pass 'record_evaluation()' callback via 'callbacks' argument instead.\n",
      "  _log_warning(\"'evals_result' argument is deprecated and will be removed in a future release of LightGBM. \"\n"
     ]
    },
    {
     "name": "stdout",
     "output_type": "stream",
     "text": [
      "[275]\ttrain's hr_err: 27.9088\ttest's hr_err: 29.8247\n",
      "Training until validation scores don't improve for 25 rounds\n",
      "[280]\ttrain's hr_err: 27.8498\ttest's hr_err: 32.2918\n",
      "[285]\ttrain's hr_err: 24.4872\ttest's hr_err: 32.7051\n",
      "[290]\ttrain's hr_err: 24.4343\ttest's hr_err: 31.8473\n",
      "[295]\ttrain's hr_err: 24.4343\ttest's hr_err: 33.0823\n",
      "[300]\ttrain's hr_err: 24.4343\ttest's hr_err: 32.8209\n",
      "Early stopping, best iteration is:\n",
      "[275]\ttrain's hr_err: 27.9088\ttest's hr_err: 29.8247\n"
     ]
    },
    {
     "name": "stderr",
     "output_type": "stream",
     "text": [
      "/Users/samuelhmorton/opt/anaconda3/lib/python3.7/site-packages/lightgbm/engine.py:260: UserWarning: 'evals_result' argument is deprecated and will be removed in a future release of LightGBM. Pass 'record_evaluation()' callback via 'callbacks' argument instead.\n",
      "  _log_warning(\"'evals_result' argument is deprecated and will be removed in a future release of LightGBM. \"\n"
     ]
    },
    {
     "name": "stdout",
     "output_type": "stream",
     "text": [
      "Training until validation scores don't improve for 50 rounds\n",
      "[280]\ttrain's hr_err: 35.9133\ttest's hr_err: 31.7451\n",
      "[285]\ttrain's hr_err: 35.9133\ttest's hr_err: 32.3109\n",
      "[290]\ttrain's hr_err: 35.9133\ttest's hr_err: 32.3023\n",
      "[295]\ttrain's hr_err: 29.3875\ttest's hr_err: 31.2539\n",
      "[300]\ttrain's hr_err: 29.3875\ttest's hr_err: 32.108\n",
      "[305]\ttrain's hr_err: 23.9453\ttest's hr_err: 33.3717\n",
      "[310]\ttrain's hr_err: 23.7053\ttest's hr_err: 33.4164\n",
      "[315]\ttrain's hr_err: 23.7053\ttest's hr_err: 34.6075\n",
      "[320]\ttrain's hr_err: 23.7053\ttest's hr_err: 33.5205\n",
      "[325]\ttrain's hr_err: 23.7053\ttest's hr_err: 33.514\n",
      "Early stopping, best iteration is:\n",
      "[276]\ttrain's hr_err: 35.9133\ttest's hr_err: 29.8247\n",
      "Before fine-tuning: MSE = 0.09756938401044832, HR error = 29.30538768233991, HR error (squared) = 1044.1261432902638\n",
      "\n",
      "\n",
      "Fine-tuning...\n"
     ]
    },
    {
     "name": "stderr",
     "output_type": "stream",
     "text": [
      "/Users/samuelhmorton/opt/anaconda3/lib/python3.7/site-packages/lightgbm/engine.py:260: UserWarning: 'evals_result' argument is deprecated and will be removed in a future release of LightGBM. Pass 'record_evaluation()' callback via 'callbacks' argument instead.\n",
      "  _log_warning(\"'evals_result' argument is deprecated and will be removed in a future release of LightGBM. \"\n"
     ]
    },
    {
     "name": "stdout",
     "output_type": "stream",
     "text": [
      "Training until validation scores don't improve for 25 rounds\n",
      "[280]\ttrain's hr_err: 62.3858\ttest's hr_err: 32.3319\n",
      "[285]\ttrain's hr_err: 62.3858\ttest's hr_err: 31.6027\n",
      "[290]\ttrain's hr_err: 46.674\ttest's hr_err: 31.6511\n",
      "[295]\ttrain's hr_err: 46.674\ttest's hr_err: 30.9923\n",
      "[300]\ttrain's hr_err: 42.0655\ttest's hr_err: 30.3871\n",
      "[305]\ttrain's hr_err: 42.0655\ttest's hr_err: 30.6588\n",
      "[310]\ttrain's hr_err: 42.0655\ttest's hr_err: 31.2499\n",
      "[315]\ttrain's hr_err: 41.5787\ttest's hr_err: 31.4272\n",
      "[320]\ttrain's hr_err: 41.5787\ttest's hr_err: 33.522\n",
      "[325]\ttrain's hr_err: 41.5787\ttest's hr_err: 33.0347\n",
      "Early stopping, best iteration is:\n",
      "[304]\ttrain's hr_err: 42.0655\ttest's hr_err: 30.0536\n",
      "Finished training in 0:04:48.888309\n",
      "\n",
      "\n",
      "Training excluding subject 3...\n",
      "\n",
      "Rows per batch: 1792\n"
     ]
    },
    {
     "name": "stderr",
     "output_type": "stream",
     "text": [
      "/Users/samuelhmorton/opt/anaconda3/lib/python3.7/site-packages/lightgbm/engine.py:260: UserWarning: 'evals_result' argument is deprecated and will be removed in a future release of LightGBM. Pass 'record_evaluation()' callback via 'callbacks' argument instead.\n",
      "  _log_warning(\"'evals_result' argument is deprecated and will be removed in a future release of LightGBM. \"\n"
     ]
    },
    {
     "name": "stdout",
     "output_type": "stream",
     "text": [
      "Training until validation scores don't improve for 50 rounds\n",
      "[5]\ttrain's hr_err: 5.36249\ttest's hr_err: 27.0197\n",
      "[10]\ttrain's hr_err: 7.72347\ttest's hr_err: 20.3962\n",
      "[15]\ttrain's hr_err: 5.22662\ttest's hr_err: 23.0045\n",
      "[20]\ttrain's hr_err: 5.17934\ttest's hr_err: 24.2652\n",
      "[25]\ttrain's hr_err: 6.33359\ttest's hr_err: 26.7658\n",
      "[30]\ttrain's hr_err: 2.76823\ttest's hr_err: 28.9833\n",
      "[35]\ttrain's hr_err: 2.32438\ttest's hr_err: 27.7489\n",
      "[40]\ttrain's hr_err: 2.2708\ttest's hr_err: 26.997\n",
      "[45]\ttrain's hr_err: 2.32438\ttest's hr_err: 25.1538\n",
      "[50]\ttrain's hr_err: 2.32438\ttest's hr_err: 26.9919\n",
      "[55]\ttrain's hr_err: 2.32438\ttest's hr_err: 26.244\n",
      "[60]\ttrain's hr_err: 2.32438\ttest's hr_err: 25.3901\n",
      "Early stopping, best iteration is:\n",
      "[10]\ttrain's hr_err: 7.72347\ttest's hr_err: 20.3962\n",
      "Before fine-tuning: MSE = 0.0952367122473077, HR error = 20.4900981001693, HR error (squared) = 633.7186936546602\n",
      "\n",
      "\n",
      "Fine-tuning...\n"
     ]
    },
    {
     "name": "stderr",
     "output_type": "stream",
     "text": [
      "/Users/samuelhmorton/opt/anaconda3/lib/python3.7/site-packages/lightgbm/engine.py:260: UserWarning: 'evals_result' argument is deprecated and will be removed in a future release of LightGBM. Pass 'record_evaluation()' callback via 'callbacks' argument instead.\n",
      "  _log_warning(\"'evals_result' argument is deprecated and will be removed in a future release of LightGBM. \"\n"
     ]
    },
    {
     "name": "stdout",
     "output_type": "stream",
     "text": [
      "Training until validation scores don't improve for 25 rounds\n",
      "[15]\ttrain's hr_err: 16.4693\ttest's hr_err: 42.8669\n",
      "[20]\ttrain's hr_err: 22.7897\ttest's hr_err: 41.2405\n",
      "[25]\ttrain's hr_err: 23.2406\ttest's hr_err: 40.1523\n",
      "[30]\ttrain's hr_err: 22.882\ttest's hr_err: 39.8105\n",
      "[35]\ttrain's hr_err: 17.7221\ttest's hr_err: 41.126\n",
      "[40]\ttrain's hr_err: 17.6742\ttest's hr_err: 42.8577\n",
      "[45]\ttrain's hr_err: 18.0604\ttest's hr_err: 43.7197\n",
      "[50]\ttrain's hr_err: 14.3147\ttest's hr_err: 44.32\n",
      "Early stopping, best iteration is:\n",
      "[26]\ttrain's hr_err: 23.2406\ttest's hr_err: 39.4524\n"
     ]
    },
    {
     "name": "stderr",
     "output_type": "stream",
     "text": [
      "/Users/samuelhmorton/opt/anaconda3/lib/python3.7/site-packages/lightgbm/engine.py:260: UserWarning: 'evals_result' argument is deprecated and will be removed in a future release of LightGBM. Pass 'record_evaluation()' callback via 'callbacks' argument instead.\n",
      "  _log_warning(\"'evals_result' argument is deprecated and will be removed in a future release of LightGBM. \"\n"
     ]
    },
    {
     "name": "stdout",
     "output_type": "stream",
     "text": [
      "Training until validation scores don't improve for 50 rounds\n",
      "[30]\ttrain's hr_err: 25.591\ttest's hr_err: 38.9059\n",
      "[35]\ttrain's hr_err: 29.193\ttest's hr_err: 33.0616\n",
      "[40]\ttrain's hr_err: 29.0313\ttest's hr_err: 29.5458\n",
      "[45]\ttrain's hr_err: 28.4823\ttest's hr_err: 32.5815\n",
      "[50]\ttrain's hr_err: 22.3481\ttest's hr_err: 33.7264\n",
      "[55]\ttrain's hr_err: 22.1942\ttest's hr_err: 36.0168\n",
      "[60]\ttrain's hr_err: 28.7378\ttest's hr_err: 37.1594\n",
      "[65]\ttrain's hr_err: 34.3294\ttest's hr_err: 36.9397\n",
      "[70]\ttrain's hr_err: 38.9021\ttest's hr_err: 38.7284\n",
      "[75]\ttrain's hr_err: 38.9021\ttest's hr_err: 39.7269\n",
      "[80]\ttrain's hr_err: 38.9021\ttest's hr_err: 41.0659\n",
      "[85]\ttrain's hr_err: 38.9021\ttest's hr_err: 48.9999\n",
      "[90]\ttrain's hr_err: 38.9021\ttest's hr_err: 48.9999\n",
      "Early stopping, best iteration is:\n",
      "[40]\ttrain's hr_err: 29.0313\ttest's hr_err: 29.5458\n",
      "Before fine-tuning: MSE = 0.10697947033739817, HR error = 29.108934457607397, HR error (squared) = 1258.7933719540697\n",
      "\n",
      "\n",
      "Fine-tuning...\n"
     ]
    },
    {
     "name": "stderr",
     "output_type": "stream",
     "text": [
      "/Users/samuelhmorton/opt/anaconda3/lib/python3.7/site-packages/lightgbm/engine.py:260: UserWarning: 'evals_result' argument is deprecated and will be removed in a future release of LightGBM. Pass 'record_evaluation()' callback via 'callbacks' argument instead.\n",
      "  _log_warning(\"'evals_result' argument is deprecated and will be removed in a future release of LightGBM. \"\n"
     ]
    },
    {
     "name": "stdout",
     "output_type": "stream",
     "text": [
      "Training until validation scores don't improve for 25 rounds\n",
      "[45]\ttrain's hr_err: 31.4543\ttest's hr_err: 29.3693\n",
      "[50]\ttrain's hr_err: 26.2044\ttest's hr_err: 30.3165\n",
      "[55]\ttrain's hr_err: 28.8344\ttest's hr_err: 28.9054\n",
      "[60]\ttrain's hr_err: 19.3171\ttest's hr_err: 26.7202\n",
      "[65]\ttrain's hr_err: 16.5863\ttest's hr_err: 26.3717\n",
      "[70]\ttrain's hr_err: 16.5863\ttest's hr_err: 26.1292\n",
      "[75]\ttrain's hr_err: 19.2091\ttest's hr_err: 28.0659\n",
      "[80]\ttrain's hr_err: 16.5125\ttest's hr_err: 30.0239\n",
      "Early stopping, best iteration is:\n",
      "[58]\ttrain's hr_err: 19.3171\ttest's hr_err: 25.6597\n"
     ]
    },
    {
     "name": "stderr",
     "output_type": "stream",
     "text": [
      "/Users/samuelhmorton/opt/anaconda3/lib/python3.7/site-packages/lightgbm/engine.py:260: UserWarning: 'evals_result' argument is deprecated and will be removed in a future release of LightGBM. Pass 'record_evaluation()' callback via 'callbacks' argument instead.\n",
      "  _log_warning(\"'evals_result' argument is deprecated and will be removed in a future release of LightGBM. \"\n"
     ]
    },
    {
     "name": "stdout",
     "output_type": "stream",
     "text": [
      "Training until validation scores don't improve for 50 rounds\n",
      "[60]\ttrain's hr_err: 51.2507\ttest's hr_err: 25.6739\n",
      "[65]\ttrain's hr_err: 48.7144\ttest's hr_err: 27.3295\n",
      "[70]\ttrain's hr_err: 48.7144\ttest's hr_err: 27.257\n",
      "[75]\ttrain's hr_err: 48.7144\ttest's hr_err: 27.1891\n",
      "[80]\ttrain's hr_err: 48.7613\ttest's hr_err: 27.8838\n",
      "[85]\ttrain's hr_err: 48.7613\ttest's hr_err: 29.5069\n",
      "[90]\ttrain's hr_err: 48.7613\ttest's hr_err: 30.8371\n",
      "[95]\ttrain's hr_err: 48.7613\ttest's hr_err: 30.8476\n",
      "[100]\ttrain's hr_err: 48.7613\ttest's hr_err: 32.7816\n",
      "[105]\ttrain's hr_err: 51.0241\ttest's hr_err: 33.3451\n",
      "Early stopping, best iteration is:\n",
      "[59]\ttrain's hr_err: 51.2507\ttest's hr_err: 25.6739\n",
      "Before fine-tuning: MSE = 0.10074349304711154, HR error = 26.630180861078827, HR error (squared) = 1459.409127725054\n",
      "\n",
      "\n",
      "Fine-tuning...\n"
     ]
    },
    {
     "name": "stderr",
     "output_type": "stream",
     "text": [
      "/Users/samuelhmorton/opt/anaconda3/lib/python3.7/site-packages/lightgbm/engine.py:260: UserWarning: 'evals_result' argument is deprecated and will be removed in a future release of LightGBM. Pass 'record_evaluation()' callback via 'callbacks' argument instead.\n",
      "  _log_warning(\"'evals_result' argument is deprecated and will be removed in a future release of LightGBM. \"\n"
     ]
    },
    {
     "name": "stdout",
     "output_type": "stream",
     "text": [
      "[60]\ttrain's hr_err: 17.3872\ttest's hr_err: 30.3966\n",
      "Training until validation scores don't improve for 25 rounds\n",
      "[65]\ttrain's hr_err: 12.1131\ttest's hr_err: 30.7276\n",
      "[70]\ttrain's hr_err: 11.7859\ttest's hr_err: 25.6253\n",
      "[75]\ttrain's hr_err: 7.92022\ttest's hr_err: 26.0534\n",
      "[80]\ttrain's hr_err: 1.7895\ttest's hr_err: 26.6413\n",
      "[85]\ttrain's hr_err: 8.40499\ttest's hr_err: 25.401\n",
      "[90]\ttrain's hr_err: 12.528\ttest's hr_err: 25.9846\n",
      "Early stopping, best iteration is:\n",
      "[68]\ttrain's hr_err: 11.7859\ttest's hr_err: 23.4415\n"
     ]
    },
    {
     "name": "stderr",
     "output_type": "stream",
     "text": [
      "/Users/samuelhmorton/opt/anaconda3/lib/python3.7/site-packages/lightgbm/engine.py:260: UserWarning: 'evals_result' argument is deprecated and will be removed in a future release of LightGBM. Pass 'record_evaluation()' callback via 'callbacks' argument instead.\n",
      "  _log_warning(\"'evals_result' argument is deprecated and will be removed in a future release of LightGBM. \"\n"
     ]
    },
    {
     "name": "stdout",
     "output_type": "stream",
     "text": [
      "Training until validation scores don't improve for 50 rounds\n",
      "[70]\ttrain's hr_err: 21.1526\ttest's hr_err: 24.2175\n",
      "[75]\ttrain's hr_err: 21.1526\ttest's hr_err: 24.7081\n",
      "[80]\ttrain's hr_err: 21.1526\ttest's hr_err: 25.4619\n",
      "[85]\ttrain's hr_err: 21.1526\ttest's hr_err: 25.8121\n",
      "[90]\ttrain's hr_err: 18.6428\ttest's hr_err: 25.7792\n",
      "[95]\ttrain's hr_err: 18.6428\ttest's hr_err: 25.5433\n",
      "[100]\ttrain's hr_err: 18.6428\ttest's hr_err: 26.3712\n",
      "[105]\ttrain's hr_err: 18.6428\ttest's hr_err: 26.997\n",
      "[110]\ttrain's hr_err: 18.6428\ttest's hr_err: 28.0195\n",
      "[115]\ttrain's hr_err: 18.6428\ttest's hr_err: 27.0354\n",
      "[120]\ttrain's hr_err: 15.4159\ttest's hr_err: 27.4149\n",
      "Early stopping, best iteration is:\n",
      "[71]\ttrain's hr_err: 21.1526\ttest's hr_err: 24.2064\n",
      "Before fine-tuning: MSE = 0.0874619814788653, HR error = 23.245500274156626, HR error (squared) = 842.0534491119403\n",
      "\n",
      "\n",
      "Fine-tuning...\n"
     ]
    },
    {
     "name": "stderr",
     "output_type": "stream",
     "text": [
      "/Users/samuelhmorton/opt/anaconda3/lib/python3.7/site-packages/lightgbm/engine.py:260: UserWarning: 'evals_result' argument is deprecated and will be removed in a future release of LightGBM. Pass 'record_evaluation()' callback via 'callbacks' argument instead.\n",
      "  _log_warning(\"'evals_result' argument is deprecated and will be removed in a future release of LightGBM. \"\n"
     ]
    },
    {
     "name": "stdout",
     "output_type": "stream",
     "text": [
      "Training until validation scores don't improve for 25 rounds\n",
      "[75]\ttrain's hr_err: 11.2686\ttest's hr_err: 27.0449\n",
      "[80]\ttrain's hr_err: 19.8643\ttest's hr_err: 22.9249\n",
      "[85]\ttrain's hr_err: 16.6319\ttest's hr_err: 25.3665\n",
      "[90]\ttrain's hr_err: 16.5969\ttest's hr_err: 25.1657\n",
      "[95]\ttrain's hr_err: 16.3656\ttest's hr_err: 26.0769\n",
      "[100]\ttrain's hr_err: 18.3283\ttest's hr_err: 26.322\n",
      "[105]\ttrain's hr_err: 22.1492\ttest's hr_err: 26.7938\n",
      "Early stopping, best iteration is:\n",
      "[80]\ttrain's hr_err: 19.8643\ttest's hr_err: 22.9249\n"
     ]
    },
    {
     "name": "stderr",
     "output_type": "stream",
     "text": [
      "/Users/samuelhmorton/opt/anaconda3/lib/python3.7/site-packages/lightgbm/engine.py:260: UserWarning: 'evals_result' argument is deprecated and will be removed in a future release of LightGBM. Pass 'record_evaluation()' callback via 'callbacks' argument instead.\n",
      "  _log_warning(\"'evals_result' argument is deprecated and will be removed in a future release of LightGBM. \"\n"
     ]
    },
    {
     "name": "stdout",
     "output_type": "stream",
     "text": [
      "Training until validation scores don't improve for 50 rounds\n",
      "[85]\ttrain's hr_err: 19.3671\ttest's hr_err: 24.1483\n",
      "[90]\ttrain's hr_err: 19.3671\ttest's hr_err: 22.874\n",
      "[95]\ttrain's hr_err: 19.3671\ttest's hr_err: 22.2933\n",
      "[100]\ttrain's hr_err: 19.3671\ttest's hr_err: 21.0865\n",
      "[105]\ttrain's hr_err: 19.3671\ttest's hr_err: 22.4558\n",
      "[110]\ttrain's hr_err: 19.3671\ttest's hr_err: 23.2126\n",
      "[115]\ttrain's hr_err: 19.3671\ttest's hr_err: 22.7244\n",
      "[120]\ttrain's hr_err: 19.3671\ttest's hr_err: 21.537\n",
      "[125]\ttrain's hr_err: 19.4068\ttest's hr_err: 20.7247\n",
      "[130]\ttrain's hr_err: 19.4415\ttest's hr_err: 20.725\n",
      "[135]\ttrain's hr_err: 16.5543\ttest's hr_err: 21.3566\n",
      "[140]\ttrain's hr_err: 16.5152\ttest's hr_err: 22.0571\n",
      "[145]\ttrain's hr_err: 17.7014\ttest's hr_err: 21.851\n",
      "[150]\ttrain's hr_err: 17.7344\ttest's hr_err: 21.8605\n",
      "[155]\ttrain's hr_err: 17.7344\ttest's hr_err: 21.2804\n",
      "[160]\ttrain's hr_err: 17.7344\ttest's hr_err: 21.8413\n",
      "[165]\ttrain's hr_err: 20.6588\ttest's hr_err: 22.9255\n",
      "[170]\ttrain's hr_err: 23.0528\ttest's hr_err: 23.0866\n",
      "[175]\ttrain's hr_err: 25.4468\ttest's hr_err: 23.4753\n",
      "Early stopping, best iteration is:\n",
      "[129]\ttrain's hr_err: 19.4068\ttest's hr_err: 20.7138\n",
      "Before fine-tuning: MSE = 0.08995065152446356, HR error = 20.687364935375946, HR error (squared) = 637.7979625543664\n",
      "\n",
      "\n",
      "Fine-tuning...\n"
     ]
    },
    {
     "name": "stderr",
     "output_type": "stream",
     "text": [
      "/Users/samuelhmorton/opt/anaconda3/lib/python3.7/site-packages/lightgbm/engine.py:260: UserWarning: 'evals_result' argument is deprecated and will be removed in a future release of LightGBM. Pass 'record_evaluation()' callback via 'callbacks' argument instead.\n",
      "  _log_warning(\"'evals_result' argument is deprecated and will be removed in a future release of LightGBM. \"\n"
     ]
    },
    {
     "name": "stdout",
     "output_type": "stream",
     "text": [
      "[130]\ttrain's hr_err: 24.7066\ttest's hr_err: 20.7346\n",
      "Training until validation scores don't improve for 25 rounds\n",
      "[135]\ttrain's hr_err: 24.7066\ttest's hr_err: 20.7677\n",
      "[140]\ttrain's hr_err: 26.4467\ttest's hr_err: 22.4458\n",
      "[145]\ttrain's hr_err: 26.4467\ttest's hr_err: 22.5856\n",
      "[150]\ttrain's hr_err: 28.8467\ttest's hr_err: 21.9702\n",
      "[155]\ttrain's hr_err: 29.1009\ttest's hr_err: 22.6109\n",
      "Early stopping, best iteration is:\n",
      "[130]\ttrain's hr_err: 24.7066\ttest's hr_err: 20.7346\n"
     ]
    },
    {
     "name": "stderr",
     "output_type": "stream",
     "text": [
      "/Users/samuelhmorton/opt/anaconda3/lib/python3.7/site-packages/lightgbm/engine.py:260: UserWarning: 'evals_result' argument is deprecated and will be removed in a future release of LightGBM. Pass 'record_evaluation()' callback via 'callbacks' argument instead.\n",
      "  _log_warning(\"'evals_result' argument is deprecated and will be removed in a future release of LightGBM. \"\n"
     ]
    },
    {
     "name": "stdout",
     "output_type": "stream",
     "text": [
      "Training until validation scores don't improve for 50 rounds\n",
      "[135]\ttrain's hr_err: 31.3447\ttest's hr_err: 28.1787\n",
      "[140]\ttrain's hr_err: 35.4978\ttest's hr_err: 29.73\n",
      "[145]\ttrain's hr_err: 41.3918\ttest's hr_err: 33.1236\n",
      "[150]\ttrain's hr_err: 36.3886\ttest's hr_err: 33.3244\n",
      "[155]\ttrain's hr_err: 34.6978\ttest's hr_err: 34.4152\n",
      "[160]\ttrain's hr_err: 38.8424\ttest's hr_err: 33.9709\n",
      "[165]\ttrain's hr_err: 41.7667\ttest's hr_err: 36.2409\n",
      "[170]\ttrain's hr_err: 39.3757\ttest's hr_err: 38.182\n",
      "[175]\ttrain's hr_err: 41.6957\ttest's hr_err: 37.1517\n",
      "[180]\ttrain's hr_err: 38.3246\ttest's hr_err: 41.143\n",
      "Early stopping, best iteration is:\n",
      "[132]\ttrain's hr_err: 23.5853\ttest's hr_err: 19.992\n",
      "Before fine-tuning: MSE = 0.08913469521538797, HR error = 20.013140151064256, HR error (squared) = 641.9850906097863\n",
      "\n",
      "\n",
      "Fine-tuning...\n"
     ]
    },
    {
     "name": "stderr",
     "output_type": "stream",
     "text": [
      "/Users/samuelhmorton/opt/anaconda3/lib/python3.7/site-packages/lightgbm/engine.py:260: UserWarning: 'evals_result' argument is deprecated and will be removed in a future release of LightGBM. Pass 'record_evaluation()' callback via 'callbacks' argument instead.\n",
      "  _log_warning(\"'evals_result' argument is deprecated and will be removed in a future release of LightGBM. \"\n"
     ]
    },
    {
     "name": "stdout",
     "output_type": "stream",
     "text": [
      "Training until validation scores don't improve for 25 rounds\n",
      "[135]\ttrain's hr_err: 21.9081\ttest's hr_err: 18.5872\n",
      "[140]\ttrain's hr_err: 21.9081\ttest's hr_err: 22.266\n",
      "[145]\ttrain's hr_err: 16.6025\ttest's hr_err: 25.0721\n",
      "[150]\ttrain's hr_err: 16.6025\ttest's hr_err: 27.493\n",
      "[155]\ttrain's hr_err: 16.6025\ttest's hr_err: 28.5617\n",
      "Early stopping, best iteration is:\n",
      "[134]\ttrain's hr_err: 21.9081\ttest's hr_err: 18.5781\n"
     ]
    },
    {
     "name": "stderr",
     "output_type": "stream",
     "text": [
      "/Users/samuelhmorton/opt/anaconda3/lib/python3.7/site-packages/lightgbm/engine.py:260: UserWarning: 'evals_result' argument is deprecated and will be removed in a future release of LightGBM. Pass 'record_evaluation()' callback via 'callbacks' argument instead.\n",
      "  _log_warning(\"'evals_result' argument is deprecated and will be removed in a future release of LightGBM. \"\n"
     ]
    },
    {
     "name": "stdout",
     "output_type": "stream",
     "text": [
      "[135]\ttrain's hr_err: 10.208\ttest's hr_err: 19.8494\n",
      "Training until validation scores don't improve for 50 rounds\n",
      "[140]\ttrain's hr_err: 10.208\ttest's hr_err: 21.0386\n",
      "[145]\ttrain's hr_err: 10.1757\ttest's hr_err: 22.8823\n",
      "[150]\ttrain's hr_err: 10.208\ttest's hr_err: 21.0761\n",
      "[155]\ttrain's hr_err: 13.1548\ttest's hr_err: 21.6014\n",
      "[160]\ttrain's hr_err: 13.224\ttest's hr_err: 23.5638\n",
      "[165]\ttrain's hr_err: 10.4346\ttest's hr_err: 23.8198\n",
      "[170]\ttrain's hr_err: 7.78998\ttest's hr_err: 26.2318\n",
      "[175]\ttrain's hr_err: 9.05139\ttest's hr_err: 25.9899\n",
      "[180]\ttrain's hr_err: 12.1448\ttest's hr_err: 27.8556\n",
      "[185]\ttrain's hr_err: 11.083\ttest's hr_err: 26.8964\n",
      "Early stopping, best iteration is:\n",
      "[137]\ttrain's hr_err: 10.208\ttest's hr_err: 19.7201\n",
      "Before fine-tuning: MSE = 0.09035683056689112, HR error = 20.512219083006173, HR error (squared) = 707.991755431412\n",
      "\n",
      "\n",
      "Fine-tuning...\n"
     ]
    },
    {
     "name": "stderr",
     "output_type": "stream",
     "text": [
      "/Users/samuelhmorton/opt/anaconda3/lib/python3.7/site-packages/lightgbm/engine.py:260: UserWarning: 'evals_result' argument is deprecated and will be removed in a future release of LightGBM. Pass 'record_evaluation()' callback via 'callbacks' argument instead.\n",
      "  _log_warning(\"'evals_result' argument is deprecated and will be removed in a future release of LightGBM. \"\n"
     ]
    },
    {
     "name": "stdout",
     "output_type": "stream",
     "text": [
      "Training until validation scores don't improve for 25 rounds\n",
      "[140]\ttrain's hr_err: 8.99486\ttest's hr_err: 21.5437\n",
      "[145]\ttrain's hr_err: 8.99486\ttest's hr_err: 20.3371\n",
      "[150]\ttrain's hr_err: 6.84895\ttest's hr_err: 24.2374\n",
      "[155]\ttrain's hr_err: 9.12285\ttest's hr_err: 26.7638\n",
      "[160]\ttrain's hr_err: 6.84895\ttest's hr_err: 27.4407\n",
      "Early stopping, best iteration is:\n",
      "[138]\ttrain's hr_err: 6.7703\ttest's hr_err: 19.8494\n"
     ]
    },
    {
     "name": "stderr",
     "output_type": "stream",
     "text": [
      "/Users/samuelhmorton/opt/anaconda3/lib/python3.7/site-packages/lightgbm/engine.py:260: UserWarning: 'evals_result' argument is deprecated and will be removed in a future release of LightGBM. Pass 'record_evaluation()' callback via 'callbacks' argument instead.\n",
      "  _log_warning(\"'evals_result' argument is deprecated and will be removed in a future release of LightGBM. \"\n"
     ]
    },
    {
     "name": "stdout",
     "output_type": "stream",
     "text": [
      "Training until validation scores don't improve for 50 rounds\n",
      "[140]\ttrain's hr_err: 39.3617\ttest's hr_err: 21.0071\n",
      "[145]\ttrain's hr_err: 39.404\ttest's hr_err: 21.416\n",
      "[150]\ttrain's hr_err: 39.404\ttest's hr_err: 23.324\n",
      "[155]\ttrain's hr_err: 39.404\ttest's hr_err: 21.5251\n",
      "[160]\ttrain's hr_err: 36.904\ttest's hr_err: 22.2546\n",
      "[165]\ttrain's hr_err: 36.904\ttest's hr_err: 22.2371\n",
      "[170]\ttrain's hr_err: 36.9431\ttest's hr_err: 22.9125\n",
      "[175]\ttrain's hr_err: 36.904\ttest's hr_err: 23.5128\n",
      "[180]\ttrain's hr_err: 36.904\ttest's hr_err: 23.5144\n",
      "[185]\ttrain's hr_err: 34.4398\ttest's hr_err: 24.0974\n",
      "Early stopping, best iteration is:\n",
      "[139]\ttrain's hr_err: 39.3617\ttest's hr_err: 19.8086\n",
      "Before fine-tuning: MSE = 0.0905279948939031, HR error = 20.52217962394016, HR error (squared) = 708.0858436019478\n",
      "\n",
      "\n",
      "Fine-tuning...\n"
     ]
    },
    {
     "name": "stderr",
     "output_type": "stream",
     "text": [
      "/Users/samuelhmorton/opt/anaconda3/lib/python3.7/site-packages/lightgbm/engine.py:260: UserWarning: 'evals_result' argument is deprecated and will be removed in a future release of LightGBM. Pass 'record_evaluation()' callback via 'callbacks' argument instead.\n",
      "  _log_warning(\"'evals_result' argument is deprecated and will be removed in a future release of LightGBM. \"\n"
     ]
    },
    {
     "name": "stdout",
     "output_type": "stream",
     "text": [
      "[140]\ttrain's hr_err: 12.4089\ttest's hr_err: 20.7836\n",
      "Training until validation scores don't improve for 25 rounds\n",
      "[145]\ttrain's hr_err: 12.4511\ttest's hr_err: 21.416\n",
      "[150]\ttrain's hr_err: 12.4511\ttest's hr_err: 21.9799\n",
      "[155]\ttrain's hr_err: 12.4511\ttest's hr_err: 22.7139\n",
      "[160]\ttrain's hr_err: 12.4511\ttest's hr_err: 22.2438\n",
      "[165]\ttrain's hr_err: 12.4511\ttest's hr_err: 22.2438\n",
      "Early stopping, best iteration is:\n",
      "[140]\ttrain's hr_err: 12.4089\ttest's hr_err: 20.7836\n",
      "Finished training in 0:03:52.610417\n",
      "\n",
      "\n",
      "Training excluding subject 4...\n",
      "\n",
      "Rows per batch: 1792\n"
     ]
    },
    {
     "name": "stderr",
     "output_type": "stream",
     "text": [
      "/Users/samuelhmorton/opt/anaconda3/lib/python3.7/site-packages/lightgbm/engine.py:260: UserWarning: 'evals_result' argument is deprecated and will be removed in a future release of LightGBM. Pass 'record_evaluation()' callback via 'callbacks' argument instead.\n",
      "  _log_warning(\"'evals_result' argument is deprecated and will be removed in a future release of LightGBM. \"\n"
     ]
    },
    {
     "name": "stdout",
     "output_type": "stream",
     "text": [
      "Training until validation scores don't improve for 50 rounds\n",
      "[5]\ttrain's hr_err: 40.6434\ttest's hr_err: 21.0453\n",
      "[10]\ttrain's hr_err: 38.96\ttest's hr_err: 19.9854\n",
      "[15]\ttrain's hr_err: 38.9061\ttest's hr_err: 20.5605\n",
      "[20]\ttrain's hr_err: 38.8523\ttest's hr_err: 20.3133\n",
      "[25]\ttrain's hr_err: 38.7986\ttest's hr_err: 19.8036\n",
      "[30]\ttrain's hr_err: 38.7986\ttest's hr_err: 20.6099\n",
      "[35]\ttrain's hr_err: 38.7986\ttest's hr_err: 20.3764\n",
      "[40]\ttrain's hr_err: 38.7451\ttest's hr_err: 19.8979\n",
      "[45]\ttrain's hr_err: 38.6692\ttest's hr_err: 19.2232\n",
      "[50]\ttrain's hr_err: 38.6692\ttest's hr_err: 21.0624\n",
      "[55]\ttrain's hr_err: 38.6692\ttest's hr_err: 24.3961\n",
      "[60]\ttrain's hr_err: 38.6692\ttest's hr_err: 26.1996\n",
      "[65]\ttrain's hr_err: 38.7222\ttest's hr_err: 25.7079\n",
      "[70]\ttrain's hr_err: 38.7222\ttest's hr_err: 25.076\n",
      "[75]\ttrain's hr_err: 38.7222\ttest's hr_err: 25.9014\n",
      "[80]\ttrain's hr_err: 38.7222\ttest's hr_err: 25.4016\n",
      "[85]\ttrain's hr_err: 38.7222\ttest's hr_err: 25.4016\n",
      "[90]\ttrain's hr_err: 38.7222\ttest's hr_err: 25.9855\n",
      "Early stopping, best iteration is:\n",
      "[44]\ttrain's hr_err: 38.6384\ttest's hr_err: 18.9142\n",
      "Before fine-tuning: MSE = 0.10943986580672932, HR error = 18.07207658370307, HR error (squared) = 591.7394034952555\n",
      "\n",
      "\n",
      "Fine-tuning...\n"
     ]
    },
    {
     "name": "stderr",
     "output_type": "stream",
     "text": [
      "/Users/samuelhmorton/opt/anaconda3/lib/python3.7/site-packages/lightgbm/engine.py:260: UserWarning: 'evals_result' argument is deprecated and will be removed in a future release of LightGBM. Pass 'record_evaluation()' callback via 'callbacks' argument instead.\n",
      "  _log_warning(\"'evals_result' argument is deprecated and will be removed in a future release of LightGBM. \"\n"
     ]
    },
    {
     "name": "stdout",
     "output_type": "stream",
     "text": [
      "[45]\ttrain's hr_err: 21.5678\ttest's hr_err: 50.4719\n",
      "Training until validation scores don't improve for 25 rounds\n",
      "[50]\ttrain's hr_err: 52.3184\ttest's hr_err: 41.8779\n",
      "[55]\ttrain's hr_err: 56.9868\ttest's hr_err: 49.2438\n",
      "[60]\ttrain's hr_err: 57.3253\ttest's hr_err: 49.9064\n",
      "[65]\ttrain's hr_err: 39.0428\ttest's hr_err: 49.9025\n",
      "[70]\ttrain's hr_err: 39.2121\ttest's hr_err: 50.4336\n",
      "Early stopping, best iteration is:\n",
      "[47]\ttrain's hr_err: 21.0989\ttest's hr_err: 40.7247\n"
     ]
    },
    {
     "name": "stderr",
     "output_type": "stream",
     "text": [
      "/Users/samuelhmorton/opt/anaconda3/lib/python3.7/site-packages/lightgbm/engine.py:260: UserWarning: 'evals_result' argument is deprecated and will be removed in a future release of LightGBM. Pass 'record_evaluation()' callback via 'callbacks' argument instead.\n",
      "  _log_warning(\"'evals_result' argument is deprecated and will be removed in a future release of LightGBM. \"\n"
     ]
    },
    {
     "name": "stdout",
     "output_type": "stream",
     "text": [
      "Training until validation scores don't improve for 50 rounds\n",
      "[50]\ttrain's hr_err: 41.233\ttest's hr_err: 49.1092\n",
      "[55]\ttrain's hr_err: 35.4528\ttest's hr_err: 38.0196\n",
      "[60]\ttrain's hr_err: 38.0556\ttest's hr_err: 46.6129\n",
      "[65]\ttrain's hr_err: 50.6969\ttest's hr_err: 49.4487\n",
      "[70]\ttrain's hr_err: 50.7316\ttest's hr_err: 49.0185\n",
      "[75]\ttrain's hr_err: 55.735\ttest's hr_err: 49.5824\n",
      "[80]\ttrain's hr_err: 55.4233\ttest's hr_err: 51.3067\n",
      "[85]\ttrain's hr_err: 61.0573\ttest's hr_err: 50.333\n",
      "[90]\ttrain's hr_err: 64.6868\ttest's hr_err: 52.882\n",
      "[95]\ttrain's hr_err: 67.7008\ttest's hr_err: 52.8907\n",
      "[100]\ttrain's hr_err: 67.7008\ttest's hr_err: 52.7668\n",
      "[105]\ttrain's hr_err: 67.7008\ttest's hr_err: 50.4778\n",
      "Early stopping, best iteration is:\n",
      "[55]\ttrain's hr_err: 35.4528\ttest's hr_err: 38.0196\n",
      "Before fine-tuning: MSE = 0.09207906325208765, HR error = 37.664213854743, HR error (squared) = 1851.2721824480468\n",
      "\n",
      "\n",
      "Fine-tuning...\n"
     ]
    },
    {
     "name": "stderr",
     "output_type": "stream",
     "text": [
      "/Users/samuelhmorton/opt/anaconda3/lib/python3.7/site-packages/lightgbm/engine.py:260: UserWarning: 'evals_result' argument is deprecated and will be removed in a future release of LightGBM. Pass 'record_evaluation()' callback via 'callbacks' argument instead.\n",
      "  _log_warning(\"'evals_result' argument is deprecated and will be removed in a future release of LightGBM. \"\n"
     ]
    },
    {
     "name": "stdout",
     "output_type": "stream",
     "text": [
      "Training until validation scores don't improve for 25 rounds\n",
      "[60]\ttrain's hr_err: 7.35755\ttest's hr_err: 41.4226\n",
      "[65]\ttrain's hr_err: 7.35755\ttest's hr_err: 41.0564\n",
      "[70]\ttrain's hr_err: 7.35755\ttest's hr_err: 41.0349\n",
      "[75]\ttrain's hr_err: 7.35755\ttest's hr_err: 40.9462\n",
      "[80]\ttrain's hr_err: 7.35755\ttest's hr_err: 40.9953\n",
      "[85]\ttrain's hr_err: 7.32338\ttest's hr_err: 42.3745\n",
      "[90]\ttrain's hr_err: 7.32338\ttest's hr_err: 43.6035\n",
      "[95]\ttrain's hr_err: 7.32338\ttest's hr_err: 42.5097\n",
      "[100]\ttrain's hr_err: 7.28929\ttest's hr_err: 41.6928\n",
      "[105]\ttrain's hr_err: 7.28929\ttest's hr_err: 40.4639\n",
      "[110]\ttrain's hr_err: 8.01593\ttest's hr_err: 40.7969\n",
      "[115]\ttrain's hr_err: 8.01593\ttest's hr_err: 38.353\n",
      "[120]\ttrain's hr_err: 8.01593\ttest's hr_err: 38.9251\n",
      "[125]\ttrain's hr_err: 8.01593\ttest's hr_err: 39.6859\n",
      "[130]\ttrain's hr_err: 8.01593\ttest's hr_err: 40.182\n",
      "[135]\ttrain's hr_err: 9.57718\ttest's hr_err: 42.0609\n",
      "Early stopping, best iteration is:\n",
      "[114]\ttrain's hr_err: 8.01593\ttest's hr_err: 38.353\n"
     ]
    },
    {
     "name": "stderr",
     "output_type": "stream",
     "text": [
      "/Users/samuelhmorton/opt/anaconda3/lib/python3.7/site-packages/lightgbm/engine.py:260: UserWarning: 'evals_result' argument is deprecated and will be removed in a future release of LightGBM. Pass 'record_evaluation()' callback via 'callbacks' argument instead.\n",
      "  _log_warning(\"'evals_result' argument is deprecated and will be removed in a future release of LightGBM. \"\n"
     ]
    },
    {
     "name": "stdout",
     "output_type": "stream",
     "text": [
      "[115]\ttrain's hr_err: 57.1439\ttest's hr_err: 40.5539\n",
      "Training until validation scores don't improve for 50 rounds\n",
      "[120]\ttrain's hr_err: 57.1439\ttest's hr_err: 41.096\n",
      "[125]\ttrain's hr_err: 57.1439\ttest's hr_err: 39.9737\n",
      "[130]\ttrain's hr_err: 57.1439\ttest's hr_err: 37.9391\n",
      "[135]\ttrain's hr_err: 57.1439\ttest's hr_err: 37.3479\n",
      "[140]\ttrain's hr_err: 57.1439\ttest's hr_err: 37.6179\n",
      "[145]\ttrain's hr_err: 57.1439\ttest's hr_err: 37.0991\n",
      "[150]\ttrain's hr_err: 57.1285\ttest's hr_err: 36.3368\n",
      "[155]\ttrain's hr_err: 57.1285\ttest's hr_err: 36.1916\n",
      "[160]\ttrain's hr_err: 57.1285\ttest's hr_err: 36.4019\n",
      "[165]\ttrain's hr_err: 57.1285\ttest's hr_err: 35.8261\n",
      "[170]\ttrain's hr_err: 57.1285\ttest's hr_err: 35.4081\n",
      "[175]\ttrain's hr_err: 57.1285\ttest's hr_err: 34.7779\n",
      "[180]\ttrain's hr_err: 57.1285\ttest's hr_err: 34.6049\n",
      "[185]\ttrain's hr_err: 57.1285\ttest's hr_err: 34.3847\n",
      "[190]\ttrain's hr_err: 57.1285\ttest's hr_err: 34.554\n",
      "[195]\ttrain's hr_err: 57.1285\ttest's hr_err: 35.1199\n",
      "[200]\ttrain's hr_err: 57.1439\ttest's hr_err: 34.5314\n",
      "[205]\ttrain's hr_err: 57.1439\ttest's hr_err: 34.5221\n",
      "[210]\ttrain's hr_err: 57.1439\ttest's hr_err: 33.9793\n",
      "[215]\ttrain's hr_err: 57.1439\ttest's hr_err: 34.0676\n",
      "[220]\ttrain's hr_err: 57.1439\ttest's hr_err: 33.486\n",
      "[225]\ttrain's hr_err: 57.1439\ttest's hr_err: 34.0626\n",
      "[230]\ttrain's hr_err: 57.1439\ttest's hr_err: 33.5109\n",
      "Early stopping, best iteration is:\n",
      "[182]\ttrain's hr_err: 57.1285\ttest's hr_err: 33.4401\n",
      "Before fine-tuning: MSE = 0.0928588158928727, HR error = 34.00812711487362, HR error (squared) = 1767.3235503610044\n",
      "\n",
      "\n",
      "Fine-tuning...\n"
     ]
    },
    {
     "name": "stderr",
     "output_type": "stream",
     "text": [
      "/Users/samuelhmorton/opt/anaconda3/lib/python3.7/site-packages/lightgbm/engine.py:260: UserWarning: 'evals_result' argument is deprecated and will be removed in a future release of LightGBM. Pass 'record_evaluation()' callback via 'callbacks' argument instead.\n",
      "  _log_warning(\"'evals_result' argument is deprecated and will be removed in a future release of LightGBM. \"\n"
     ]
    },
    {
     "name": "stdout",
     "output_type": "stream",
     "text": [
      "Training until validation scores don't improve for 25 rounds\n",
      "[185]\ttrain's hr_err: 33.5852\ttest's hr_err: 35.5867\n",
      "[190]\ttrain's hr_err: 36.2493\ttest's hr_err: 35.0402\n",
      "[195]\ttrain's hr_err: 30.0604\ttest's hr_err: 28.9277\n",
      "[200]\ttrain's hr_err: 22.9197\ttest's hr_err: 17.6719\n",
      "[205]\ttrain's hr_err: 27.6094\ttest's hr_err: 18.2649\n",
      "[210]\ttrain's hr_err: 28.2753\ttest's hr_err: 19.4489\n",
      "[215]\ttrain's hr_err: 35.7648\ttest's hr_err: 18.3614\n",
      "[220]\ttrain's hr_err: 32.5951\ttest's hr_err: 14.4676\n",
      "[225]\ttrain's hr_err: 32.5439\ttest's hr_err: 17.8495\n",
      "[230]\ttrain's hr_err: 32.5714\ttest's hr_err: 17.8911\n",
      "[235]\ttrain's hr_err: 32.5714\ttest's hr_err: 19.0898\n",
      "[240]\ttrain's hr_err: 31.8645\ttest's hr_err: 22.6986\n",
      "[245]\ttrain's hr_err: 31.8645\ttest's hr_err: 23.804\n",
      "Early stopping, best iteration is:\n",
      "[220]\ttrain's hr_err: 32.5951\ttest's hr_err: 14.4676\n"
     ]
    },
    {
     "name": "stderr",
     "output_type": "stream",
     "text": [
      "/Users/samuelhmorton/opt/anaconda3/lib/python3.7/site-packages/lightgbm/engine.py:260: UserWarning: 'evals_result' argument is deprecated and will be removed in a future release of LightGBM. Pass 'record_evaluation()' callback via 'callbacks' argument instead.\n",
      "  _log_warning(\"'evals_result' argument is deprecated and will be removed in a future release of LightGBM. \"\n"
     ]
    },
    {
     "name": "stdout",
     "output_type": "stream",
     "text": [
      "Training until validation scores don't improve for 50 rounds\n",
      "[225]\ttrain's hr_err: 7.71308\ttest's hr_err: 14.5346\n",
      "[230]\ttrain's hr_err: 6.15136\ttest's hr_err: 14.5685\n",
      "[235]\ttrain's hr_err: 6.75955\ttest's hr_err: 16.2838\n",
      "[240]\ttrain's hr_err: 6.7258\ttest's hr_err: 17.8968\n",
      "[245]\ttrain's hr_err: 8.28752\ttest's hr_err: 18.916\n",
      "[250]\ttrain's hr_err: 6.68798\ttest's hr_err: 19.8739\n",
      "[255]\ttrain's hr_err: 6.68798\ttest's hr_err: 18.2866\n",
      "[260]\ttrain's hr_err: 6.68798\ttest's hr_err: 18.8776\n",
      "[265]\ttrain's hr_err: 6.68798\ttest's hr_err: 21.5862\n",
      "[270]\ttrain's hr_err: 7.63\ttest's hr_err: 23.8553\n",
      "Early stopping, best iteration is:\n",
      "[221]\ttrain's hr_err: 7.75469\ttest's hr_err: 14.4676\n",
      "Before fine-tuning: MSE = 0.11203588009466008, HR error = 16.572451242302517, HR error (squared) = 416.1638596245341\n",
      "\n",
      "\n",
      "Fine-tuning...\n"
     ]
    },
    {
     "name": "stderr",
     "output_type": "stream",
     "text": [
      "/Users/samuelhmorton/opt/anaconda3/lib/python3.7/site-packages/lightgbm/engine.py:260: UserWarning: 'evals_result' argument is deprecated and will be removed in a future release of LightGBM. Pass 'record_evaluation()' callback via 'callbacks' argument instead.\n",
      "  _log_warning(\"'evals_result' argument is deprecated and will be removed in a future release of LightGBM. \"\n"
     ]
    },
    {
     "name": "stdout",
     "output_type": "stream",
     "text": [
      "Training until validation scores don't improve for 25 rounds\n",
      "[225]\ttrain's hr_err: 10.5464\ttest's hr_err: 16.8852\n",
      "[230]\ttrain's hr_err: 13.2708\ttest's hr_err: 19.9486\n",
      "[235]\ttrain's hr_err: 16.6018\ttest's hr_err: 22.5187\n",
      "[240]\ttrain's hr_err: 18.0656\ttest's hr_err: 23.4224\n",
      "[245]\ttrain's hr_err: 18.154\ttest's hr_err: 24.3837\n",
      "Early stopping, best iteration is:\n",
      "[222]\ttrain's hr_err: 13.2111\ttest's hr_err: 13.7573\n"
     ]
    },
    {
     "name": "stderr",
     "output_type": "stream",
     "text": [
      "/Users/samuelhmorton/opt/anaconda3/lib/python3.7/site-packages/lightgbm/engine.py:260: UserWarning: 'evals_result' argument is deprecated and will be removed in a future release of LightGBM. Pass 'record_evaluation()' callback via 'callbacks' argument instead.\n",
      "  _log_warning(\"'evals_result' argument is deprecated and will be removed in a future release of LightGBM. \"\n"
     ]
    },
    {
     "name": "stdout",
     "output_type": "stream",
     "text": [
      "Training until validation scores don't improve for 50 rounds\n",
      "[225]\ttrain's hr_err: 23.5927\ttest's hr_err: 13.9036\n",
      "[230]\ttrain's hr_err: 23.5927\ttest's hr_err: 14.7826\n",
      "[235]\ttrain's hr_err: 23.5927\ttest's hr_err: 15.8813\n",
      "[240]\ttrain's hr_err: 23.6396\ttest's hr_err: 16.4227\n",
      "[245]\ttrain's hr_err: 23.6396\ttest's hr_err: 16.378\n",
      "[250]\ttrain's hr_err: 23.6396\ttest's hr_err: 16.9486\n",
      "[255]\ttrain's hr_err: 21.1906\ttest's hr_err: 19.6454\n",
      "[260]\ttrain's hr_err: 21.1906\ttest's hr_err: 19.1059\n",
      "[265]\ttrain's hr_err: 21.1906\ttest's hr_err: 20.3972\n",
      "[270]\ttrain's hr_err: 21.2405\ttest's hr_err: 21.5089\n",
      "Early stopping, best iteration is:\n",
      "[223]\ttrain's hr_err: 23.5927\ttest's hr_err: 13.0384\n",
      "Before fine-tuning: MSE = 0.11172757116883301, HR error = 17.66041290430742, HR error (squared) = 436.832028508833\n",
      "\n",
      "\n",
      "Fine-tuning...\n"
     ]
    },
    {
     "name": "stderr",
     "output_type": "stream",
     "text": [
      "/Users/samuelhmorton/opt/anaconda3/lib/python3.7/site-packages/lightgbm/engine.py:260: UserWarning: 'evals_result' argument is deprecated and will be removed in a future release of LightGBM. Pass 'record_evaluation()' callback via 'callbacks' argument instead.\n",
      "  _log_warning(\"'evals_result' argument is deprecated and will be removed in a future release of LightGBM. \"\n"
     ]
    },
    {
     "name": "stdout",
     "output_type": "stream",
     "text": [
      "Training until validation scores don't improve for 25 rounds\n",
      "[225]\ttrain's hr_err: 23.8109\ttest's hr_err: 31.905\n",
      "[230]\ttrain's hr_err: 29.2443\ttest's hr_err: 40.7238\n",
      "[235]\ttrain's hr_err: 25.178\ttest's hr_err: 40.7281\n",
      "[240]\ttrain's hr_err: 25.178\ttest's hr_err: 40.1027\n",
      "[245]\ttrain's hr_err: 25.178\ttest's hr_err: 40.6532\n",
      "Early stopping, best iteration is:\n",
      "[224]\ttrain's hr_err: 17.432\ttest's hr_err: 26.8124\n"
     ]
    },
    {
     "name": "stderr",
     "output_type": "stream",
     "text": [
      "/Users/samuelhmorton/opt/anaconda3/lib/python3.7/site-packages/lightgbm/engine.py:260: UserWarning: 'evals_result' argument is deprecated and will be removed in a future release of LightGBM. Pass 'record_evaluation()' callback via 'callbacks' argument instead.\n",
      "  _log_warning(\"'evals_result' argument is deprecated and will be removed in a future release of LightGBM. \"\n"
     ]
    },
    {
     "name": "stdout",
     "output_type": "stream",
     "text": [
      "[225]\ttrain's hr_err: 5.51096\ttest's hr_err: 26.8124\n",
      "Training until validation scores don't improve for 50 rounds\n",
      "[230]\ttrain's hr_err: 5.47857\ttest's hr_err: 26.5542\n",
      "[235]\ttrain's hr_err: 5.51387\ttest's hr_err: 25.4742\n",
      "[240]\ttrain's hr_err: 5.51387\ttest's hr_err: 24.3791\n",
      "[245]\ttrain's hr_err: 3.8962\ttest's hr_err: 24.445\n",
      "[250]\ttrain's hr_err: 3.86373\ttest's hr_err: 24.9858\n",
      "[255]\ttrain's hr_err: 3.53454\ttest's hr_err: 26.0612\n",
      "[260]\ttrain's hr_err: 3.50117\ttest's hr_err: 26.5826\n",
      "[265]\ttrain's hr_err: 2.70374\ttest's hr_err: 28.132\n",
      "[270]\ttrain's hr_err: 2.70374\ttest's hr_err: 28.8351\n",
      "[275]\ttrain's hr_err: 5.30889\ttest's hr_err: 29.6249\n",
      "[280]\ttrain's hr_err: 5.27239\ttest's hr_err: 29.5747\n",
      "[285]\ttrain's hr_err: 5.27239\ttest's hr_err: 30.1709\n",
      "[290]\ttrain's hr_err: 2.66724\ttest's hr_err: 30.8916\n",
      "Early stopping, best iteration is:\n",
      "[241]\ttrain's hr_err: 7.89305\ttest's hr_err: 23.8606\n",
      "Before fine-tuning: MSE = 0.09936360764852618, HR error = 23.463085973634033, HR error (squared) = 890.6651758167635\n",
      "\n",
      "\n",
      "Fine-tuning...\n"
     ]
    },
    {
     "name": "stderr",
     "output_type": "stream",
     "text": [
      "/Users/samuelhmorton/opt/anaconda3/lib/python3.7/site-packages/lightgbm/engine.py:260: UserWarning: 'evals_result' argument is deprecated and will be removed in a future release of LightGBM. Pass 'record_evaluation()' callback via 'callbacks' argument instead.\n",
      "  _log_warning(\"'evals_result' argument is deprecated and will be removed in a future release of LightGBM. \"\n"
     ]
    },
    {
     "name": "stdout",
     "output_type": "stream",
     "text": [
      "Training until validation scores don't improve for 25 rounds\n",
      "[245]\ttrain's hr_err: 23.5542\ttest's hr_err: 24.445\n",
      "[250]\ttrain's hr_err: 23.5542\ttest's hr_err: 23.9244\n",
      "[255]\ttrain's hr_err: 23.5542\ttest's hr_err: 25.5757\n",
      "[260]\ttrain's hr_err: 23.5542\ttest's hr_err: 25.9781\n",
      "[265]\ttrain's hr_err: 25.9689\ttest's hr_err: 27.231\n",
      "Early stopping, best iteration is:\n",
      "[242]\ttrain's hr_err: 26.1298\ttest's hr_err: 23.8606\n"
     ]
    },
    {
     "name": "stderr",
     "output_type": "stream",
     "text": [
      "/Users/samuelhmorton/opt/anaconda3/lib/python3.7/site-packages/lightgbm/engine.py:260: UserWarning: 'evals_result' argument is deprecated and will be removed in a future release of LightGBM. Pass 'record_evaluation()' callback via 'callbacks' argument instead.\n",
      "  _log_warning(\"'evals_result' argument is deprecated and will be removed in a future release of LightGBM. \"\n"
     ]
    },
    {
     "name": "stdout",
     "output_type": "stream",
     "text": [
      "Training until validation scores don't improve for 50 rounds\n",
      "[245]\ttrain's hr_err: 36.0564\ttest's hr_err: 23.8606\n",
      "[250]\ttrain's hr_err: 36.0564\ttest's hr_err: 26.0458\n",
      "[255]\ttrain's hr_err: 38.644\ttest's hr_err: 25.0064\n",
      "[260]\ttrain's hr_err: 38.644\ttest's hr_err: 25.5328\n",
      "[265]\ttrain's hr_err: 38.6929\ttest's hr_err: 26.2588\n",
      "[270]\ttrain's hr_err: 38.6929\ttest's hr_err: 26.823\n",
      "[275]\ttrain's hr_err: 41.2875\ttest's hr_err: 26.3076\n",
      "[280]\ttrain's hr_err: 41.2875\ttest's hr_err: 24.6898\n",
      "[285]\ttrain's hr_err: 47.2478\ttest's hr_err: 26.242\n",
      "[290]\ttrain's hr_err: 44.7639\ttest's hr_err: 25.2314\n",
      "Early stopping, best iteration is:\n",
      "[243]\ttrain's hr_err: 36.0564\ttest's hr_err: 23.8606\n",
      "Before fine-tuning: MSE = 0.0996324762790341, HR error = 23.463085973634033, HR error (squared) = 890.6651758167635\n",
      "\n",
      "\n",
      "Fine-tuning...\n"
     ]
    },
    {
     "name": "stderr",
     "output_type": "stream",
     "text": [
      "/Users/samuelhmorton/opt/anaconda3/lib/python3.7/site-packages/lightgbm/engine.py:260: UserWarning: 'evals_result' argument is deprecated and will be removed in a future release of LightGBM. Pass 'record_evaluation()' callback via 'callbacks' argument instead.\n",
      "  _log_warning(\"'evals_result' argument is deprecated and will be removed in a future release of LightGBM. \"\n"
     ]
    },
    {
     "name": "stdout",
     "output_type": "stream",
     "text": [
      "Training until validation scores don't improve for 25 rounds\n",
      "[245]\ttrain's hr_err: 23.04\ttest's hr_err: 25.0015\n",
      "[250]\ttrain's hr_err: 18.967\ttest's hr_err: 26.0251\n",
      "[255]\ttrain's hr_err: 19.2317\ttest's hr_err: 26.4393\n",
      "[260]\ttrain's hr_err: 16.7447\ttest's hr_err: 28.0978\n",
      "[265]\ttrain's hr_err: 19.3748\ttest's hr_err: 29.1407\n",
      "Early stopping, best iteration is:\n",
      "[244]\ttrain's hr_err: 23.04\ttest's hr_err: 24.4285\n"
     ]
    },
    {
     "name": "stderr",
     "output_type": "stream",
     "text": [
      "/Users/samuelhmorton/opt/anaconda3/lib/python3.7/site-packages/lightgbm/engine.py:260: UserWarning: 'evals_result' argument is deprecated and will be removed in a future release of LightGBM. Pass 'record_evaluation()' callback via 'callbacks' argument instead.\n",
      "  _log_warning(\"'evals_result' argument is deprecated and will be removed in a future release of LightGBM. \"\n"
     ]
    },
    {
     "name": "stdout",
     "output_type": "stream",
     "text": [
      "[245]\ttrain's hr_err: 14.5138\ttest's hr_err: 25.0001\n",
      "Training until validation scores don't improve for 50 rounds\n",
      "[250]\ttrain's hr_err: 14.5138\ttest's hr_err: 25.0102\n",
      "[255]\ttrain's hr_err: 14.2405\ttest's hr_err: 25.3756\n",
      "[260]\ttrain's hr_err: 14.173\ttest's hr_err: 27.4776\n",
      "[265]\ttrain's hr_err: 11.977\ttest's hr_err: 29.1628\n",
      "[270]\ttrain's hr_err: 11.7057\ttest's hr_err: 27.2234\n",
      "[275]\ttrain's hr_err: 11.7057\ttest's hr_err: 26.648\n",
      "[280]\ttrain's hr_err: 11.7394\ttest's hr_err: 26.6503\n",
      "[285]\ttrain's hr_err: 11.7394\ttest's hr_err: 26.1295\n",
      "[290]\ttrain's hr_err: 14.246\ttest's hr_err: 25.5791\n",
      "[295]\ttrain's hr_err: 14.246\ttest's hr_err: 24.791\n",
      "[300]\ttrain's hr_err: 14.246\ttest's hr_err: 26.3311\n",
      "[305]\ttrain's hr_err: 16.4785\ttest's hr_err: 26.8495\n",
      "[310]\ttrain's hr_err: 17.3944\ttest's hr_err: 27.3061\n",
      "[315]\ttrain's hr_err: 15.0386\ttest's hr_err: 26.7533\n",
      "[320]\ttrain's hr_err: 15.8503\ttest's hr_err: 27.6865\n",
      "[325]\ttrain's hr_err: 15.8503\ttest's hr_err: 27.1183\n",
      "[330]\ttrain's hr_err: 15.8503\ttest's hr_err: 27.1208\n",
      "[335]\ttrain's hr_err: 15.8503\ttest's hr_err: 26.1558\n",
      "[340]\ttrain's hr_err: 15.885\ttest's hr_err: 25.631\n",
      "[345]\ttrain's hr_err: 15.885\ttest's hr_err: 25.6054\n",
      "Early stopping, best iteration is:\n",
      "[295]\ttrain's hr_err: 14.246\ttest's hr_err: 24.791\n",
      "Before fine-tuning: MSE = 0.09867451068604904, HR error = 24.884443596973608, HR error (squared) = 1052.650405928615\n",
      "\n",
      "\n",
      "Fine-tuning...\n"
     ]
    },
    {
     "name": "stderr",
     "output_type": "stream",
     "text": [
      "/Users/samuelhmorton/opt/anaconda3/lib/python3.7/site-packages/lightgbm/engine.py:260: UserWarning: 'evals_result' argument is deprecated and will be removed in a future release of LightGBM. Pass 'record_evaluation()' callback via 'callbacks' argument instead.\n",
      "  _log_warning(\"'evals_result' argument is deprecated and will be removed in a future release of LightGBM. \"\n"
     ]
    },
    {
     "name": "stdout",
     "output_type": "stream",
     "text": [
      "Training until validation scores don't improve for 25 rounds\n",
      "[300]\ttrain's hr_err: 29.6669\ttest's hr_err: 27.3302\n",
      "[305]\ttrain's hr_err: 29.7063\ttest's hr_err: 24.7785\n",
      "[310]\ttrain's hr_err: 29.7647\ttest's hr_err: 25.1413\n",
      "[315]\ttrain's hr_err: 29.7647\ttest's hr_err: 25.7321\n",
      "[320]\ttrain's hr_err: 29.7647\ttest's hr_err: 24.8441\n",
      "[325]\ttrain's hr_err: 32.1438\ttest's hr_err: 24.1216\n",
      "[330]\ttrain's hr_err: 34.4997\ttest's hr_err: 24.3852\n",
      "[335]\ttrain's hr_err: 36.8789\ttest's hr_err: 25.2793\n",
      "[340]\ttrain's hr_err: 39.258\ttest's hr_err: 26.3197\n",
      "[345]\ttrain's hr_err: 39.2205\ttest's hr_err: 26.3197\n",
      "[350]\ttrain's hr_err: 39.2205\ttest's hr_err: 24.9318\n",
      "Early stopping, best iteration is:\n",
      "[326]\ttrain's hr_err: 32.1438\ttest's hr_err: 24.0392\n",
      "Finished training in 0:05:02.029874\n",
      "\n",
      "\n",
      "Training excluding subject 5...\n",
      "\n",
      "Rows per batch: 1792\n"
     ]
    },
    {
     "name": "stderr",
     "output_type": "stream",
     "text": [
      "/Users/samuelhmorton/opt/anaconda3/lib/python3.7/site-packages/lightgbm/engine.py:260: UserWarning: 'evals_result' argument is deprecated and will be removed in a future release of LightGBM. Pass 'record_evaluation()' callback via 'callbacks' argument instead.\n",
      "  _log_warning(\"'evals_result' argument is deprecated and will be removed in a future release of LightGBM. \"\n"
     ]
    },
    {
     "name": "stdout",
     "output_type": "stream",
     "text": [
      "Training until validation scores don't improve for 50 rounds\n",
      "[5]\ttrain's hr_err: 13.8761\ttest's hr_err: 15.8739\n",
      "[10]\ttrain's hr_err: 22.2085\ttest's hr_err: 16.6503\n",
      "[15]\ttrain's hr_err: 12.7792\ttest's hr_err: 16.0052\n",
      "[20]\ttrain's hr_err: 9.67738\ttest's hr_err: 14.8705\n",
      "[25]\ttrain's hr_err: 6.53376\ttest's hr_err: 15.3463\n",
      "[30]\ttrain's hr_err: 6.63071\ttest's hr_err: 17.837\n",
      "[35]\ttrain's hr_err: 6.63071\ttest's hr_err: 17.3536\n",
      "[40]\ttrain's hr_err: 9.73751\ttest's hr_err: 18.584\n",
      "[45]\ttrain's hr_err: 9.77552\ttest's hr_err: 17.7611\n",
      "[50]\ttrain's hr_err: 8.86826\ttest's hr_err: 17.0014\n",
      "[55]\ttrain's hr_err: 8.2632\ttest's hr_err: 19.3854\n",
      "[60]\ttrain's hr_err: 8.2632\ttest's hr_err: 18.9084\n",
      "[65]\ttrain's hr_err: 8.87494\ttest's hr_err: 19.0063\n",
      "Early stopping, best iteration is:\n",
      "[17]\ttrain's hr_err: 12.7373\ttest's hr_err: 14.7774\n",
      "Before fine-tuning: MSE = 0.08672872616500947, HR error = 14.927066275528581, HR error (squared) = 342.62398526547184\n",
      "\n",
      "\n",
      "Fine-tuning...\n"
     ]
    },
    {
     "name": "stderr",
     "output_type": "stream",
     "text": [
      "/Users/samuelhmorton/opt/anaconda3/lib/python3.7/site-packages/lightgbm/engine.py:260: UserWarning: 'evals_result' argument is deprecated and will be removed in a future release of LightGBM. Pass 'record_evaluation()' callback via 'callbacks' argument instead.\n",
      "  _log_warning(\"'evals_result' argument is deprecated and will be removed in a future release of LightGBM. \"\n"
     ]
    },
    {
     "name": "stdout",
     "output_type": "stream",
     "text": [
      "Training until validation scores don't improve for 25 rounds\n",
      "[20]\ttrain's hr_err: 48.3571\ttest's hr_err: 13.5858\n",
      "[25]\ttrain's hr_err: 48.3571\ttest's hr_err: 13.7588\n",
      "[30]\ttrain's hr_err: 48.187\ttest's hr_err: 13.0922\n",
      "[35]\ttrain's hr_err: 53.7535\ttest's hr_err: 13.8079\n",
      "[40]\ttrain's hr_err: 53.7535\ttest's hr_err: 12.0172\n",
      "[45]\ttrain's hr_err: 53.7535\ttest's hr_err: 11.0939\n",
      "[50]\ttrain's hr_err: 53.7124\ttest's hr_err: 10.4589\n",
      "[55]\ttrain's hr_err: 51.6419\ttest's hr_err: 9.33347\n",
      "[60]\ttrain's hr_err: 52.1311\ttest's hr_err: 8.79683\n",
      "[65]\ttrain's hr_err: 49.1804\ttest's hr_err: 8.53809\n",
      "[70]\ttrain's hr_err: 51.5978\ttest's hr_err: 8.84284\n",
      "[75]\ttrain's hr_err: 54.6645\ttest's hr_err: 9.03388\n",
      "[80]\ttrain's hr_err: 52.2061\ttest's hr_err: 9.35489\n",
      "[85]\ttrain's hr_err: 52.2061\ttest's hr_err: 10.8431\n",
      "Early stopping, best iteration is:\n",
      "[61]\ttrain's hr_err: 52.1311\ttest's hr_err: 8.13737\n"
     ]
    },
    {
     "name": "stderr",
     "output_type": "stream",
     "text": [
      "/Users/samuelhmorton/opt/anaconda3/lib/python3.7/site-packages/lightgbm/engine.py:260: UserWarning: 'evals_result' argument is deprecated and will be removed in a future release of LightGBM. Pass 'record_evaluation()' callback via 'callbacks' argument instead.\n",
      "  _log_warning(\"'evals_result' argument is deprecated and will be removed in a future release of LightGBM. \"\n"
     ]
    },
    {
     "name": "stdout",
     "output_type": "stream",
     "text": [
      "Training until validation scores don't improve for 50 rounds\n",
      "[65]\ttrain's hr_err: 4.03739\ttest's hr_err: 16.349\n",
      "[70]\ttrain's hr_err: 4.79915\ttest's hr_err: 17.8638\n",
      "[75]\ttrain's hr_err: 6.81087\ttest's hr_err: 18.1581\n",
      "[80]\ttrain's hr_err: 9.27353\ttest's hr_err: 17.3179\n",
      "[85]\ttrain's hr_err: 16.9128\ttest's hr_err: 18.2249\n",
      "[90]\ttrain's hr_err: 19.4457\ttest's hr_err: 18.6908\n",
      "[95]\ttrain's hr_err: 24.167\ttest's hr_err: 19.4362\n",
      "[100]\ttrain's hr_err: 24.167\ttest's hr_err: 19.4628\n",
      "[105]\ttrain's hr_err: 21.9029\ttest's hr_err: 19.6493\n",
      "[110]\ttrain's hr_err: 21.9029\ttest's hr_err: 21.0255\n",
      "Early stopping, best iteration is:\n",
      "[63]\ttrain's hr_err: 7.85771\ttest's hr_err: 8.00739\n",
      "Before fine-tuning: MSE = 0.10264731690347807, HR error = 9.30228578439375, HR error (squared) = 135.38513673676977\n",
      "\n",
      "\n",
      "Fine-tuning...\n"
     ]
    },
    {
     "name": "stderr",
     "output_type": "stream",
     "text": [
      "/Users/samuelhmorton/opt/anaconda3/lib/python3.7/site-packages/lightgbm/engine.py:260: UserWarning: 'evals_result' argument is deprecated and will be removed in a future release of LightGBM. Pass 'record_evaluation()' callback via 'callbacks' argument instead.\n",
      "  _log_warning(\"'evals_result' argument is deprecated and will be removed in a future release of LightGBM. \"\n"
     ]
    },
    {
     "name": "stdout",
     "output_type": "stream",
     "text": [
      "Training until validation scores don't improve for 25 rounds\n",
      "[65]\ttrain's hr_err: 4.81884\ttest's hr_err: 32.9579\n",
      "[70]\ttrain's hr_err: 4.81235\ttest's hr_err: 34.5495\n",
      "[75]\ttrain's hr_err: 4.81235\ttest's hr_err: 34.8226\n",
      "[80]\ttrain's hr_err: 4.90478\ttest's hr_err: 34.096\n",
      "[85]\ttrain's hr_err: 12.6699\ttest's hr_err: 32.9185\n",
      "[90]\ttrain's hr_err: 12.6699\ttest's hr_err: 33.3318\n",
      "[95]\ttrain's hr_err: 4.90478\ttest's hr_err: 33.5843\n",
      "[100]\ttrain's hr_err: 6.59776\ttest's hr_err: 34.489\n",
      "[105]\ttrain's hr_err: 6.59776\ttest's hr_err: 34.6689\n",
      "[110]\ttrain's hr_err: 13.653\ttest's hr_err: 34.6758\n",
      "Early stopping, best iteration is:\n",
      "[85]\ttrain's hr_err: 12.6699\ttest's hr_err: 32.9185\n"
     ]
    },
    {
     "name": "stderr",
     "output_type": "stream",
     "text": [
      "/Users/samuelhmorton/opt/anaconda3/lib/python3.7/site-packages/lightgbm/engine.py:260: UserWarning: 'evals_result' argument is deprecated and will be removed in a future release of LightGBM. Pass 'record_evaluation()' callback via 'callbacks' argument instead.\n",
      "  _log_warning(\"'evals_result' argument is deprecated and will be removed in a future release of LightGBM. \"\n"
     ]
    },
    {
     "name": "stdout",
     "output_type": "stream",
     "text": [
      "Training until validation scores don't improve for 50 rounds\n",
      "[90]\ttrain's hr_err: 39.138\ttest's hr_err: 34.9106\n",
      "[95]\ttrain's hr_err: 34.4159\ttest's hr_err: 32.4107\n",
      "[100]\ttrain's hr_err: 34.4881\ttest's hr_err: 33.3996\n",
      "[105]\ttrain's hr_err: 36.9688\ttest's hr_err: 30.8007\n",
      "[110]\ttrain's hr_err: 42.6118\ttest's hr_err: 28.8987\n",
      "[115]\ttrain's hr_err: 45.5455\ttest's hr_err: 28.287\n",
      "[120]\ttrain's hr_err: 44.2271\ttest's hr_err: 28.2468\n",
      "[125]\ttrain's hr_err: 41.6587\ttest's hr_err: 29.8752\n",
      "[130]\ttrain's hr_err: 42.4926\ttest's hr_err: 32.0247\n",
      "[135]\ttrain's hr_err: 39.256\ttest's hr_err: 33.7069\n",
      "[140]\ttrain's hr_err: 32.6217\ttest's hr_err: 27.1228\n",
      "[145]\ttrain's hr_err: 50.5656\ttest's hr_err: 27.8941\n",
      "[150]\ttrain's hr_err: 50.5656\ttest's hr_err: 26.2247\n",
      "[155]\ttrain's hr_err: 50.5656\ttest's hr_err: 24.7808\n",
      "[160]\ttrain's hr_err: 54.2296\ttest's hr_err: 24.502\n",
      "[165]\ttrain's hr_err: 50.5373\ttest's hr_err: 31.3099\n",
      "[170]\ttrain's hr_err: 50.5373\ttest's hr_err: 30.311\n",
      "[175]\ttrain's hr_err: 50.5373\ttest's hr_err: 31.8995\n",
      "[180]\ttrain's hr_err: 54.2508\ttest's hr_err: 30.4441\n",
      "[185]\ttrain's hr_err: 65.3065\ttest's hr_err: 28.4876\n",
      "[190]\ttrain's hr_err: 65.3065\ttest's hr_err: 29.4184\n",
      "[195]\ttrain's hr_err: 65.3065\ttest's hr_err: 29.4109\n",
      "[200]\ttrain's hr_err: 60.5891\ttest's hr_err: 28.9567\n",
      "[205]\ttrain's hr_err: 61.6142\ttest's hr_err: 27.9165\n",
      "Early stopping, best iteration is:\n",
      "[156]\ttrain's hr_err: 50.5656\ttest's hr_err: 24.2636\n",
      "Before fine-tuning: MSE = 0.08034221953087044, HR error = 30.733599736830634, HR error (squared) = 1361.4518912344417\n",
      "\n",
      "\n",
      "Fine-tuning...\n"
     ]
    },
    {
     "name": "stderr",
     "output_type": "stream",
     "text": [
      "/Users/samuelhmorton/opt/anaconda3/lib/python3.7/site-packages/lightgbm/engine.py:260: UserWarning: 'evals_result' argument is deprecated and will be removed in a future release of LightGBM. Pass 'record_evaluation()' callback via 'callbacks' argument instead.\n",
      "  _log_warning(\"'evals_result' argument is deprecated and will be removed in a future release of LightGBM. \"\n"
     ]
    },
    {
     "name": "stdout",
     "output_type": "stream",
     "text": [
      "Training until validation scores don't improve for 25 rounds\n",
      "[160]\ttrain's hr_err: 26.3798\ttest's hr_err: 32.677\n",
      "[165]\ttrain's hr_err: 33.7487\ttest's hr_err: 33.0614\n",
      "[170]\ttrain's hr_err: 36.3224\ttest's hr_err: 27.9091\n",
      "[175]\ttrain's hr_err: 36.3224\ttest's hr_err: 27.4845\n",
      "[180]\ttrain's hr_err: 36.3224\ttest's hr_err: 27.2934\n",
      "[185]\ttrain's hr_err: 36.3224\ttest's hr_err: 28.6894\n",
      "[190]\ttrain's hr_err: 36.3224\ttest's hr_err: 27.0052\n",
      "[195]\ttrain's hr_err: 36.3224\ttest's hr_err: 26.9049\n",
      "[200]\ttrain's hr_err: 36.3224\ttest's hr_err: 28.8491\n",
      "[205]\ttrain's hr_err: 36.3224\ttest's hr_err: 30.4184\n",
      "Early stopping, best iteration is:\n",
      "[182]\ttrain's hr_err: 36.3224\ttest's hr_err: 26.1011\n"
     ]
    },
    {
     "name": "stderr",
     "output_type": "stream",
     "text": [
      "/Users/samuelhmorton/opt/anaconda3/lib/python3.7/site-packages/lightgbm/engine.py:260: UserWarning: 'evals_result' argument is deprecated and will be removed in a future release of LightGBM. Pass 'record_evaluation()' callback via 'callbacks' argument instead.\n",
      "  _log_warning(\"'evals_result' argument is deprecated and will be removed in a future release of LightGBM. \"\n"
     ]
    },
    {
     "name": "stdout",
     "output_type": "stream",
     "text": [
      "Training until validation scores don't improve for 50 rounds\n",
      "[185]\ttrain's hr_err: 4.82501\ttest's hr_err: 24.7023\n",
      "[190]\ttrain's hr_err: 3.60312\ttest's hr_err: 25.5734\n",
      "[195]\ttrain's hr_err: 6.62043\ttest's hr_err: 25.1492\n",
      "[200]\ttrain's hr_err: 6.62043\ttest's hr_err: 24.3755\n",
      "[205]\ttrain's hr_err: 6.62043\ttest's hr_err: 23.7747\n",
      "[210]\ttrain's hr_err: 6.62043\ttest's hr_err: 24.756\n",
      "[215]\ttrain's hr_err: 6.62043\ttest's hr_err: 24.7382\n",
      "[220]\ttrain's hr_err: 6.69483\ttest's hr_err: 25.9752\n",
      "[225]\ttrain's hr_err: 6.69483\ttest's hr_err: 25.2983\n",
      "[230]\ttrain's hr_err: 6.69483\ttest's hr_err: 27.4241\n",
      "[235]\ttrain's hr_err: 4.37318\ttest's hr_err: 30.1501\n",
      "[240]\ttrain's hr_err: 4.37318\ttest's hr_err: 29.5509\n",
      "[245]\ttrain's hr_err: 4.24239\ttest's hr_err: 30.3783\n",
      "[250]\ttrain's hr_err: 4.24239\ttest's hr_err: 32.8764\n",
      "[255]\ttrain's hr_err: 6.56403\ttest's hr_err: 33.1786\n",
      "Early stopping, best iteration is:\n",
      "[206]\ttrain's hr_err: 6.62043\ttest's hr_err: 23.7663\n",
      "Before fine-tuning: MSE = 0.08789389778122714, HR error = 25.85419684305494, HR error (squared) = 872.0878953967164\n",
      "\n",
      "\n",
      "Fine-tuning...\n"
     ]
    },
    {
     "name": "stderr",
     "output_type": "stream",
     "text": [
      "/Users/samuelhmorton/opt/anaconda3/lib/python3.7/site-packages/lightgbm/engine.py:260: UserWarning: 'evals_result' argument is deprecated and will be removed in a future release of LightGBM. Pass 'record_evaluation()' callback via 'callbacks' argument instead.\n",
      "  _log_warning(\"'evals_result' argument is deprecated and will be removed in a future release of LightGBM. \"\n"
     ]
    },
    {
     "name": "stdout",
     "output_type": "stream",
     "text": [
      "Training until validation scores don't improve for 25 rounds\n",
      "[210]\ttrain's hr_err: 47.0819\ttest's hr_err: 25.8763\n",
      "[215]\ttrain's hr_err: 49.3291\ttest's hr_err: 23.5215\n",
      "[220]\ttrain's hr_err: 39.8128\ttest's hr_err: 19.5931\n",
      "[225]\ttrain's hr_err: 25.3863\ttest's hr_err: 17.561\n",
      "[230]\ttrain's hr_err: 23.0646\ttest's hr_err: 15.9544\n",
      "[235]\ttrain's hr_err: 20.281\ttest's hr_err: 17.528\n",
      "[240]\ttrain's hr_err: 22.7457\ttest's hr_err: 19.8036\n",
      "[245]\ttrain's hr_err: 25.2104\ttest's hr_err: 20.3096\n",
      "[250]\ttrain's hr_err: 23.5155\ttest's hr_err: 20.3223\n",
      "[255]\ttrain's hr_err: 28.3763\ttest's hr_err: 20.974\n",
      "Early stopping, best iteration is:\n",
      "[230]\ttrain's hr_err: 23.0646\ttest's hr_err: 15.9544\n"
     ]
    },
    {
     "name": "stderr",
     "output_type": "stream",
     "text": [
      "/Users/samuelhmorton/opt/anaconda3/lib/python3.7/site-packages/lightgbm/engine.py:260: UserWarning: 'evals_result' argument is deprecated and will be removed in a future release of LightGBM. Pass 'record_evaluation()' callback via 'callbacks' argument instead.\n",
      "  _log_warning(\"'evals_result' argument is deprecated and will be removed in a future release of LightGBM. \"\n"
     ]
    },
    {
     "name": "stdout",
     "output_type": "stream",
     "text": [
      "Training until validation scores don't improve for 50 rounds\n",
      "[235]\ttrain's hr_err: 10.6356\ttest's hr_err: 16.2027\n",
      "[240]\ttrain's hr_err: 10.6356\ttest's hr_err: 17.7996\n",
      "[245]\ttrain's hr_err: 10.6356\ttest's hr_err: 19.1997\n",
      "[250]\ttrain's hr_err: 10.6016\ttest's hr_err: 20.3843\n",
      "[255]\ttrain's hr_err: 10.6016\ttest's hr_err: 20.3438\n",
      "[260]\ttrain's hr_err: 10.6016\ttest's hr_err: 20.3346\n",
      "[265]\ttrain's hr_err: 10.6016\ttest's hr_err: 19.2986\n",
      "[270]\ttrain's hr_err: 4.88731\ttest's hr_err: 19.1528\n",
      "[275]\ttrain's hr_err: 4.88731\ttest's hr_err: 19.7587\n",
      "[280]\ttrain's hr_err: 4.88731\ttest's hr_err: 20.7729\n",
      "Early stopping, best iteration is:\n",
      "[231]\ttrain's hr_err: 10.5934\ttest's hr_err: 15.9544\n",
      "Before fine-tuning: MSE = 0.08860936271421185, HR error = 19.90102726080115, HR error (squared) = 673.7644130120227\n",
      "\n",
      "\n",
      "Fine-tuning...\n"
     ]
    },
    {
     "name": "stderr",
     "output_type": "stream",
     "text": [
      "/Users/samuelhmorton/opt/anaconda3/lib/python3.7/site-packages/lightgbm/engine.py:260: UserWarning: 'evals_result' argument is deprecated and will be removed in a future release of LightGBM. Pass 'record_evaluation()' callback via 'callbacks' argument instead.\n",
      "  _log_warning(\"'evals_result' argument is deprecated and will be removed in a future release of LightGBM. \"\n"
     ]
    },
    {
     "name": "stdout",
     "output_type": "stream",
     "text": [
      "Training until validation scores don't improve for 25 rounds\n",
      "[235]\ttrain's hr_err: 17.0448\ttest's hr_err: 16.6632\n",
      "[240]\ttrain's hr_err: 17.0448\ttest's hr_err: 17.5907\n",
      "[245]\ttrain's hr_err: 17.0448\ttest's hr_err: 18.403\n",
      "[250]\ttrain's hr_err: 17.0448\ttest's hr_err: 18.5271\n",
      "[255]\ttrain's hr_err: 17.0448\ttest's hr_err: 21.1579\n",
      "Early stopping, best iteration is:\n",
      "[232]\ttrain's hr_err: 17.0448\ttest's hr_err: 15.9642\n"
     ]
    },
    {
     "name": "stderr",
     "output_type": "stream",
     "text": [
      "/Users/samuelhmorton/opt/anaconda3/lib/python3.7/site-packages/lightgbm/engine.py:260: UserWarning: 'evals_result' argument is deprecated and will be removed in a future release of LightGBM. Pass 'record_evaluation()' callback via 'callbacks' argument instead.\n",
      "  _log_warning(\"'evals_result' argument is deprecated and will be removed in a future release of LightGBM. \"\n"
     ]
    },
    {
     "name": "stdout",
     "output_type": "stream",
     "text": [
      "Training until validation scores don't improve for 50 rounds\n",
      "[235]\ttrain's hr_err: 23.3355\ttest's hr_err: 16.1581\n",
      "[240]\ttrain's hr_err: 23.3355\ttest's hr_err: 17.3412\n",
      "[245]\ttrain's hr_err: 23.3355\ttest's hr_err: 18.9159\n",
      "[250]\ttrain's hr_err: 23.3355\ttest's hr_err: 20.7558\n",
      "[255]\ttrain's hr_err: 23.3355\ttest's hr_err: 20.3472\n",
      "[260]\ttrain's hr_err: 23.3355\ttest's hr_err: 20.5916\n",
      "[265]\ttrain's hr_err: 24.2312\ttest's hr_err: 20.6116\n",
      "[270]\ttrain's hr_err: 26.5556\ttest's hr_err: 18.1236\n",
      "[275]\ttrain's hr_err: 26.5556\ttest's hr_err: 19.0743\n",
      "[280]\ttrain's hr_err: 29.0427\ttest's hr_err: 18.432\n",
      "Early stopping, best iteration is:\n",
      "[234]\ttrain's hr_err: 23.3355\ttest's hr_err: 16.1581\n",
      "Before fine-tuning: MSE = 0.08816139660080938, HR error = 20.89779109820222, HR error (squared) = 764.0187215177357\n",
      "\n",
      "\n",
      "Fine-tuning...\n"
     ]
    },
    {
     "name": "stderr",
     "output_type": "stream",
     "text": [
      "/Users/samuelhmorton/opt/anaconda3/lib/python3.7/site-packages/lightgbm/engine.py:260: UserWarning: 'evals_result' argument is deprecated and will be removed in a future release of LightGBM. Pass 'record_evaluation()' callback via 'callbacks' argument instead.\n",
      "  _log_warning(\"'evals_result' argument is deprecated and will be removed in a future release of LightGBM. \"\n"
     ]
    },
    {
     "name": "stdout",
     "output_type": "stream",
     "text": [
      "[235]\ttrain's hr_err: 17.7381\ttest's hr_err: 16.1401\n",
      "Training until validation scores don't improve for 25 rounds\n",
      "[240]\ttrain's hr_err: 17.3941\ttest's hr_err: 16.4399\n",
      "[245]\ttrain's hr_err: 17.4127\ttest's hr_err: 16.3155\n",
      "[250]\ttrain's hr_err: 17.4314\ttest's hr_err: 17.0526\n",
      "[255]\ttrain's hr_err: 15.1444\ttest's hr_err: 16.3242\n",
      "[260]\ttrain's hr_err: 15.1444\ttest's hr_err: 15.0973\n",
      "[265]\ttrain's hr_err: 15.1633\ttest's hr_err: 13.4981\n",
      "[270]\ttrain's hr_err: 10.2284\ttest's hr_err: 10.8256\n",
      "[275]\ttrain's hr_err: 10.2438\ttest's hr_err: 12.0517\n",
      "[280]\ttrain's hr_err: 10.2748\ttest's hr_err: 14.369\n",
      "[285]\ttrain's hr_err: 10.2748\ttest's hr_err: 12.223\n",
      "[290]\ttrain's hr_err: 30.1342\ttest's hr_err: 14.4296\n",
      "[295]\ttrain's hr_err: 29.8261\ttest's hr_err: 14.4144\n",
      "Early stopping, best iteration is:\n",
      "[271]\ttrain's hr_err: 10.2284\ttest's hr_err: 10.1618\n"
     ]
    },
    {
     "name": "stderr",
     "output_type": "stream",
     "text": [
      "/Users/samuelhmorton/opt/anaconda3/lib/python3.7/site-packages/lightgbm/engine.py:260: UserWarning: 'evals_result' argument is deprecated and will be removed in a future release of LightGBM. Pass 'record_evaluation()' callback via 'callbacks' argument instead.\n",
      "  _log_warning(\"'evals_result' argument is deprecated and will be removed in a future release of LightGBM. \"\n"
     ]
    },
    {
     "name": "stdout",
     "output_type": "stream",
     "text": [
      "Training until validation scores don't improve for 50 rounds\n",
      "[275]\ttrain's hr_err: 22.2368\ttest's hr_err: 12.0072\n",
      "[280]\ttrain's hr_err: 19.8547\ttest's hr_err: 13.1888\n",
      "[285]\ttrain's hr_err: 19.8547\ttest's hr_err: 13.635\n",
      "[290]\ttrain's hr_err: 18.8039\ttest's hr_err: 15.1667\n",
      "[295]\ttrain's hr_err: 21.3815\ttest's hr_err: 15.6258\n",
      "[300]\ttrain's hr_err: 26.1458\ttest's hr_err: 16.5763\n",
      "[305]\ttrain's hr_err: 28.5279\ttest's hr_err: 17.0309\n",
      "[310]\ttrain's hr_err: 28.5579\ttest's hr_err: 18.2954\n",
      "[315]\ttrain's hr_err: 28.5579\ttest's hr_err: 18.5944\n",
      "[320]\ttrain's hr_err: 28.5579\ttest's hr_err: 18.2878\n",
      "Early stopping, best iteration is:\n",
      "[272]\ttrain's hr_err: 19.8547\ttest's hr_err: 10.7465\n",
      "Before fine-tuning: MSE = 0.08513764011955126, HR error = 12.69486153557487, HR error (squared) = 272.53275830419227\n",
      "\n",
      "\n",
      "Fine-tuning...\n"
     ]
    },
    {
     "name": "stderr",
     "output_type": "stream",
     "text": [
      "/Users/samuelhmorton/opt/anaconda3/lib/python3.7/site-packages/lightgbm/engine.py:260: UserWarning: 'evals_result' argument is deprecated and will be removed in a future release of LightGBM. Pass 'record_evaluation()' callback via 'callbacks' argument instead.\n",
      "  _log_warning(\"'evals_result' argument is deprecated and will be removed in a future release of LightGBM. \"\n"
     ]
    },
    {
     "name": "stdout",
     "output_type": "stream",
     "text": [
      "Training until validation scores don't improve for 25 rounds\n",
      "[275]\ttrain's hr_err: 23.8244\ttest's hr_err: 12.6986\n",
      "[280]\ttrain's hr_err: 24.4863\ttest's hr_err: 17.1739\n",
      "[285]\ttrain's hr_err: 27.2574\ttest's hr_err: 16.2595\n",
      "[290]\ttrain's hr_err: 22.4692\ttest's hr_err: 20.0964\n",
      "[295]\ttrain's hr_err: 22.4692\ttest's hr_err: 23.716\n",
      "Early stopping, best iteration is:\n",
      "[273]\ttrain's hr_err: 21.2678\ttest's hr_err: 10.8011\n"
     ]
    },
    {
     "name": "stderr",
     "output_type": "stream",
     "text": [
      "/Users/samuelhmorton/opt/anaconda3/lib/python3.7/site-packages/lightgbm/engine.py:260: UserWarning: 'evals_result' argument is deprecated and will be removed in a future release of LightGBM. Pass 'record_evaluation()' callback via 'callbacks' argument instead.\n",
      "  _log_warning(\"'evals_result' argument is deprecated and will be removed in a future release of LightGBM. \"\n"
     ]
    },
    {
     "name": "stdout",
     "output_type": "stream",
     "text": [
      "Training until validation scores don't improve for 50 rounds\n",
      "[275]\ttrain's hr_err: 13.9333\ttest's hr_err: 10.8479\n",
      "[280]\ttrain's hr_err: 13.3367\ttest's hr_err: 14.41\n",
      "[285]\ttrain's hr_err: 13.3367\ttest's hr_err: 11.6038\n",
      "[290]\ttrain's hr_err: 10.894\ttest's hr_err: 13.2546\n",
      "[295]\ttrain's hr_err: 11.618\ttest's hr_err: 13.7039\n",
      "[300]\ttrain's hr_err: 6.83589\ttest's hr_err: 13.3969\n",
      "[305]\ttrain's hr_err: 6.79515\ttest's hr_err: 14.0834\n",
      "[310]\ttrain's hr_err: 6.83589\ttest's hr_err: 15.7769\n",
      "[315]\ttrain's hr_err: 6.83589\ttest's hr_err: 14.8065\n",
      "[320]\ttrain's hr_err: 6.83589\ttest's hr_err: 15.463\n",
      "Early stopping, best iteration is:\n",
      "[274]\ttrain's hr_err: 13.9333\ttest's hr_err: 10.8479\n",
      "Before fine-tuning: MSE = 0.08506078319595904, HR error = 14.362966116423877, HR error (squared) = 304.9413363571842\n",
      "\n",
      "\n",
      "Fine-tuning...\n"
     ]
    },
    {
     "name": "stderr",
     "output_type": "stream",
     "text": [
      "/Users/samuelhmorton/opt/anaconda3/lib/python3.7/site-packages/lightgbm/engine.py:260: UserWarning: 'evals_result' argument is deprecated and will be removed in a future release of LightGBM. Pass 'record_evaluation()' callback via 'callbacks' argument instead.\n",
      "  _log_warning(\"'evals_result' argument is deprecated and will be removed in a future release of LightGBM. \"\n"
     ]
    },
    {
     "name": "stdout",
     "output_type": "stream",
     "text": [
      "[275]\ttrain's hr_err: 18.1491\ttest's hr_err: 10.9021\n",
      "Training until validation scores don't improve for 25 rounds\n",
      "[280]\ttrain's hr_err: 17.5035\ttest's hr_err: 14.5928\n",
      "[285]\ttrain's hr_err: 19.3207\ttest's hr_err: 14.4798\n",
      "[290]\ttrain's hr_err: 24.2564\ttest's hr_err: 16.4283\n",
      "[295]\ttrain's hr_err: 26.938\ttest's hr_err: 18.7666\n",
      "[300]\ttrain's hr_err: 24.2564\ttest's hr_err: 21.2343\n",
      "Early stopping, best iteration is:\n",
      "[277]\ttrain's hr_err: 17.4626\ttest's hr_err: 9.59357\n",
      "Finished training in 0:04:41.880832\n",
      "\n",
      "\n",
      "Training excluding subject 6...\n",
      "\n",
      "Rows per batch: 1792\n"
     ]
    },
    {
     "name": "stderr",
     "output_type": "stream",
     "text": [
      "/Users/samuelhmorton/opt/anaconda3/lib/python3.7/site-packages/lightgbm/engine.py:260: UserWarning: 'evals_result' argument is deprecated and will be removed in a future release of LightGBM. Pass 'record_evaluation()' callback via 'callbacks' argument instead.\n",
      "  _log_warning(\"'evals_result' argument is deprecated and will be removed in a future release of LightGBM. \"\n"
     ]
    },
    {
     "name": "stdout",
     "output_type": "stream",
     "text": [
      "Training until validation scores don't improve for 50 rounds\n",
      "[5]\ttrain's hr_err: 5.70283\ttest's hr_err: 25.4748\n",
      "[10]\ttrain's hr_err: 5.70283\ttest's hr_err: 18.0056\n",
      "[15]\ttrain's hr_err: 5.73891\ttest's hr_err: 15.2384\n",
      "[20]\ttrain's hr_err: 8.66909\ttest's hr_err: 14.6013\n",
      "[25]\ttrain's hr_err: 8.66909\ttest's hr_err: 13.3337\n",
      "[30]\ttrain's hr_err: 11.6464\ttest's hr_err: 15.0191\n",
      "[35]\ttrain's hr_err: 11.6611\ttest's hr_err: 15.7783\n",
      "[40]\ttrain's hr_err: 11.5924\ttest's hr_err: 15.3204\n",
      "[45]\ttrain's hr_err: 11.5924\ttest's hr_err: 18.46\n",
      "[50]\ttrain's hr_err: 8.67918\ttest's hr_err: 19.1474\n",
      "[55]\ttrain's hr_err: 8.64762\ttest's hr_err: 18.3904\n",
      "[60]\ttrain's hr_err: 8.60605\ttest's hr_err: 19.1305\n",
      "[65]\ttrain's hr_err: 8.60605\ttest's hr_err: 17.7726\n",
      "[70]\ttrain's hr_err: 11.4409\ttest's hr_err: 18.6585\n",
      "[75]\ttrain's hr_err: 11.4409\ttest's hr_err: 18.8793\n",
      "Early stopping, best iteration is:\n",
      "[26]\ttrain's hr_err: 8.66909\ttest's hr_err: 12.6537\n",
      "Before fine-tuning: MSE = 0.1015468981404413, HR error = 14.015852530946958, HR error (squared) = 314.1207470833323\n",
      "\n",
      "\n",
      "Fine-tuning...\n"
     ]
    },
    {
     "name": "stderr",
     "output_type": "stream",
     "text": [
      "/Users/samuelhmorton/opt/anaconda3/lib/python3.7/site-packages/lightgbm/engine.py:260: UserWarning: 'evals_result' argument is deprecated and will be removed in a future release of LightGBM. Pass 'record_evaluation()' callback via 'callbacks' argument instead.\n",
      "  _log_warning(\"'evals_result' argument is deprecated and will be removed in a future release of LightGBM. \"\n"
     ]
    },
    {
     "name": "stdout",
     "output_type": "stream",
     "text": [
      "Training until validation scores don't improve for 25 rounds\n",
      "[30]\ttrain's hr_err: 51.5182\ttest's hr_err: 13.7736\n",
      "[35]\ttrain's hr_err: 48.5824\ttest's hr_err: 14.5199\n",
      "[40]\ttrain's hr_err: 48.5824\ttest's hr_err: 14.8288\n",
      "[45]\ttrain's hr_err: 48.4994\ttest's hr_err: 14.4181\n",
      "[50]\ttrain's hr_err: 48.4994\ttest's hr_err: 15.0347\n",
      "Early stopping, best iteration is:\n",
      "[27]\ttrain's hr_err: 51.5182\ttest's hr_err: 12.563\n"
     ]
    },
    {
     "name": "stderr",
     "output_type": "stream",
     "text": [
      "/Users/samuelhmorton/opt/anaconda3/lib/python3.7/site-packages/lightgbm/engine.py:260: UserWarning: 'evals_result' argument is deprecated and will be removed in a future release of LightGBM. Pass 'record_evaluation()' callback via 'callbacks' argument instead.\n",
      "  _log_warning(\"'evals_result' argument is deprecated and will be removed in a future release of LightGBM. \"\n"
     ]
    },
    {
     "name": "stdout",
     "output_type": "stream",
     "text": [
      "Training until validation scores don't improve for 50 rounds\n",
      "[30]\ttrain's hr_err: 25.9129\ttest's hr_err: 15.7702\n",
      "[35]\ttrain's hr_err: 18.3657\ttest's hr_err: 14.4901\n",
      "[40]\ttrain's hr_err: 18.2955\ttest's hr_err: 20.8698\n",
      "[45]\ttrain's hr_err: 16.2555\ttest's hr_err: 23.8445\n",
      "[50]\ttrain's hr_err: 8.81579\ttest's hr_err: 23.6757\n",
      "[55]\ttrain's hr_err: 6.25092\ttest's hr_err: 27.0598\n",
      "[60]\ttrain's hr_err: 6.18136\ttest's hr_err: 28.2975\n",
      "[65]\ttrain's hr_err: 5.4061\ttest's hr_err: 30.0295\n",
      "[70]\ttrain's hr_err: 5.4061\ttest's hr_err: 29.2213\n",
      "[75]\ttrain's hr_err: 7.98285\ttest's hr_err: 30.4721\n",
      "Early stopping, best iteration is:\n",
      "[28]\ttrain's hr_err: 23.1633\ttest's hr_err: 10.6208\n",
      "Before fine-tuning: MSE = 0.100751990698501, HR error = 13.063726308705203, HR error (squared) = 317.5301922380327\n",
      "\n",
      "\n",
      "Fine-tuning...\n"
     ]
    },
    {
     "name": "stderr",
     "output_type": "stream",
     "text": [
      "/Users/samuelhmorton/opt/anaconda3/lib/python3.7/site-packages/lightgbm/engine.py:260: UserWarning: 'evals_result' argument is deprecated and will be removed in a future release of LightGBM. Pass 'record_evaluation()' callback via 'callbacks' argument instead.\n",
      "  _log_warning(\"'evals_result' argument is deprecated and will be removed in a future release of LightGBM. \"\n"
     ]
    },
    {
     "name": "stdout",
     "output_type": "stream",
     "text": [
      "Training until validation scores don't improve for 25 rounds\n",
      "[30]\ttrain's hr_err: 73.6167\ttest's hr_err: 12.5585\n",
      "[35]\ttrain's hr_err: 73.6167\ttest's hr_err: 13.6784\n",
      "[40]\ttrain's hr_err: 70.6854\ttest's hr_err: 16.5196\n",
      "[45]\ttrain's hr_err: 70.6854\ttest's hr_err: 17.6581\n",
      "[50]\ttrain's hr_err: 67.7541\ttest's hr_err: 16.4917\n",
      "Early stopping, best iteration is:\n",
      "[29]\ttrain's hr_err: 73.6167\ttest's hr_err: 11.8767\n"
     ]
    },
    {
     "name": "stderr",
     "output_type": "stream",
     "text": [
      "/Users/samuelhmorton/opt/anaconda3/lib/python3.7/site-packages/lightgbm/engine.py:260: UserWarning: 'evals_result' argument is deprecated and will be removed in a future release of LightGBM. Pass 'record_evaluation()' callback via 'callbacks' argument instead.\n",
      "  _log_warning(\"'evals_result' argument is deprecated and will be removed in a future release of LightGBM. \"\n"
     ]
    },
    {
     "name": "stdout",
     "output_type": "stream",
     "text": [
      "[30]\ttrain's hr_err: 39.3593\ttest's hr_err: 13.1749\n",
      "Training until validation scores don't improve for 50 rounds\n",
      "[35]\ttrain's hr_err: 46.4528\ttest's hr_err: 15.36\n",
      "[40]\ttrain's hr_err: 39.2681\ttest's hr_err: 17.6051\n",
      "[45]\ttrain's hr_err: 37.4272\ttest's hr_err: 15.1385\n",
      "[50]\ttrain's hr_err: 27.6609\ttest's hr_err: 14.4848\n",
      "[55]\ttrain's hr_err: 25.3613\ttest's hr_err: 16.3422\n",
      "[60]\ttrain's hr_err: 18.2468\ttest's hr_err: 16.0966\n",
      "[65]\ttrain's hr_err: 15.9891\ttest's hr_err: 16.5029\n",
      "[70]\ttrain's hr_err: 15.2723\ttest's hr_err: 17.3454\n",
      "[75]\ttrain's hr_err: 15.9297\ttest's hr_err: 17.8977\n",
      "[80]\ttrain's hr_err: 13.5417\ttest's hr_err: 17.8509\n",
      "Early stopping, best iteration is:\n",
      "[33]\ttrain's hr_err: 44.1\ttest's hr_err: 12.3521\n",
      "Before fine-tuning: MSE = 0.09684864758795866, HR error = 13.728877293034715, HR error (squared) = 420.41020513541207\n",
      "\n",
      "\n",
      "Fine-tuning...\n"
     ]
    },
    {
     "name": "stderr",
     "output_type": "stream",
     "text": [
      "/Users/samuelhmorton/opt/anaconda3/lib/python3.7/site-packages/lightgbm/engine.py:260: UserWarning: 'evals_result' argument is deprecated and will be removed in a future release of LightGBM. Pass 'record_evaluation()' callback via 'callbacks' argument instead.\n",
      "  _log_warning(\"'evals_result' argument is deprecated and will be removed in a future release of LightGBM. \"\n"
     ]
    },
    {
     "name": "stdout",
     "output_type": "stream",
     "text": [
      "Training until validation scores don't improve for 25 rounds\n",
      "[35]\ttrain's hr_err: 47.676\ttest's hr_err: 11.6656\n",
      "[40]\ttrain's hr_err: 42.9146\ttest's hr_err: 13.2478\n",
      "[45]\ttrain's hr_err: 42.9146\ttest's hr_err: 14.3192\n",
      "[50]\ttrain's hr_err: 42.9146\ttest's hr_err: 14.023\n",
      "[55]\ttrain's hr_err: 45.3057\ttest's hr_err: 15.6967\n",
      "[60]\ttrain's hr_err: 42.9146\ttest's hr_err: 15.1629\n",
      "Early stopping, best iteration is:\n",
      "[35]\ttrain's hr_err: 47.676\ttest's hr_err: 11.6656\n"
     ]
    },
    {
     "name": "stderr",
     "output_type": "stream",
     "text": [
      "/Users/samuelhmorton/opt/anaconda3/lib/python3.7/site-packages/lightgbm/engine.py:260: UserWarning: 'evals_result' argument is deprecated and will be removed in a future release of LightGBM. Pass 'record_evaluation()' callback via 'callbacks' argument instead.\n",
      "  _log_warning(\"'evals_result' argument is deprecated and will be removed in a future release of LightGBM. \"\n"
     ]
    },
    {
     "name": "stdout",
     "output_type": "stream",
     "text": [
      "Training until validation scores don't improve for 50 rounds\n",
      "[40]\ttrain's hr_err: 31.1436\ttest's hr_err: 16.859\n",
      "[45]\ttrain's hr_err: 29.0779\ttest's hr_err: 17.3148\n",
      "[50]\ttrain's hr_err: 24.9068\ttest's hr_err: 19.8016\n",
      "[55]\ttrain's hr_err: 14.2844\ttest's hr_err: 20.8572\n",
      "[60]\ttrain's hr_err: 7.49198\ttest's hr_err: 23.529\n",
      "[65]\ttrain's hr_err: 5.2677\ttest's hr_err: 22.8387\n",
      "[70]\ttrain's hr_err: 2.51368\ttest's hr_err: 19.5584\n",
      "[75]\ttrain's hr_err: 2.51368\ttest's hr_err: 14.1259\n",
      "[80]\ttrain's hr_err: 2.48251\ttest's hr_err: 14.6217\n",
      "[85]\ttrain's hr_err: 2.51368\ttest's hr_err: 13.794\n",
      "[90]\ttrain's hr_err: 2.41865\ttest's hr_err: 15.207\n",
      "[95]\ttrain's hr_err: 3.70258\ttest's hr_err: 15.7421\n",
      "[100]\ttrain's hr_err: 3.70258\ttest's hr_err: 12.7714\n",
      "[105]\ttrain's hr_err: 1.99351\ttest's hr_err: 13.2614\n",
      "[110]\ttrain's hr_err: 1.99351\ttest's hr_err: 13.1081\n",
      "[115]\ttrain's hr_err: 1.70831\ttest's hr_err: 14.7648\n",
      "[120]\ttrain's hr_err: 1.70831\ttest's hr_err: 14.7813\n",
      "[125]\ttrain's hr_err: 1.96797\ttest's hr_err: 14.1481\n",
      "[130]\ttrain's hr_err: 1.96797\ttest's hr_err: 15.6646\n",
      "[135]\ttrain's hr_err: 1.96797\ttest's hr_err: 15.3626\n",
      "[140]\ttrain's hr_err: 1.96797\ttest's hr_err: 14.758\n",
      "[145]\ttrain's hr_err: 2.03168\ttest's hr_err: 14.6102\n",
      "Early stopping, best iteration is:\n",
      "[99]\ttrain's hr_err: 3.70258\ttest's hr_err: 12.4849\n",
      "Before fine-tuning: MSE = 0.08789267850724967, HR error = 15.23897111656723, HR error (squared) = 412.78045720555326\n",
      "\n",
      "\n",
      "Fine-tuning...\n"
     ]
    },
    {
     "name": "stderr",
     "output_type": "stream",
     "text": [
      "/Users/samuelhmorton/opt/anaconda3/lib/python3.7/site-packages/lightgbm/engine.py:260: UserWarning: 'evals_result' argument is deprecated and will be removed in a future release of LightGBM. Pass 'record_evaluation()' callback via 'callbacks' argument instead.\n",
      "  _log_warning(\"'evals_result' argument is deprecated and will be removed in a future release of LightGBM. \"\n"
     ]
    },
    {
     "name": "stdout",
     "output_type": "stream",
     "text": [
      "[100]\ttrain's hr_err: 76.2175\ttest's hr_err: 12.7714\n",
      "Training until validation scores don't improve for 25 rounds\n",
      "[105]\ttrain's hr_err: 76.2175\ttest's hr_err: 16.1749\n",
      "[110]\ttrain's hr_err: 76.2491\ttest's hr_err: 18.3187\n",
      "[115]\ttrain's hr_err: 76.3125\ttest's hr_err: 16.9946\n",
      "[120]\ttrain's hr_err: 78.5713\ttest's hr_err: 15.6564\n",
      "[125]\ttrain's hr_err: 81.3697\ttest's hr_err: 16.6356\n",
      "Early stopping, best iteration is:\n",
      "[100]\ttrain's hr_err: 76.2175\ttest's hr_err: 12.7714\n"
     ]
    },
    {
     "name": "stderr",
     "output_type": "stream",
     "text": [
      "/Users/samuelhmorton/opt/anaconda3/lib/python3.7/site-packages/lightgbm/engine.py:260: UserWarning: 'evals_result' argument is deprecated and will be removed in a future release of LightGBM. Pass 'record_evaluation()' callback via 'callbacks' argument instead.\n",
      "  _log_warning(\"'evals_result' argument is deprecated and will be removed in a future release of LightGBM. \"\n"
     ]
    },
    {
     "name": "stdout",
     "output_type": "stream",
     "text": [
      "Training until validation scores don't improve for 50 rounds\n",
      "[105]\ttrain's hr_err: 12.1719\ttest's hr_err: 15.4823\n",
      "[110]\ttrain's hr_err: 12.252\ttest's hr_err: 15.9324\n",
      "[115]\ttrain's hr_err: 14.9489\ttest's hr_err: 16.5742\n",
      "[120]\ttrain's hr_err: 6.6132\ttest's hr_err: 17.5328\n",
      "[125]\ttrain's hr_err: 6.7367\ttest's hr_err: 18.7638\n",
      "[130]\ttrain's hr_err: 6.7367\ttest's hr_err: 18.3846\n",
      "[135]\ttrain's hr_err: 5.53292\ttest's hr_err: 19.9773\n",
      "[140]\ttrain's hr_err: 5.82615\ttest's hr_err: 21.6354\n",
      "[145]\ttrain's hr_err: 5.56724\ttest's hr_err: 20.1663\n",
      "[150]\ttrain's hr_err: 7.67765\ttest's hr_err: 22.1522\n",
      "Early stopping, best iteration is:\n",
      "[101]\ttrain's hr_err: 12.1719\ttest's hr_err: 12.7734\n",
      "Before fine-tuning: MSE = 0.08853088344490996, HR error = 15.389309540777045, HR error (squared) = 461.2763457924654\n",
      "\n",
      "\n",
      "Fine-tuning...\n"
     ]
    },
    {
     "name": "stderr",
     "output_type": "stream",
     "text": [
      "/Users/samuelhmorton/opt/anaconda3/lib/python3.7/site-packages/lightgbm/engine.py:260: UserWarning: 'evals_result' argument is deprecated and will be removed in a future release of LightGBM. Pass 'record_evaluation()' callback via 'callbacks' argument instead.\n",
      "  _log_warning(\"'evals_result' argument is deprecated and will be removed in a future release of LightGBM. \"\n"
     ]
    },
    {
     "name": "stdout",
     "output_type": "stream",
     "text": [
      "Training until validation scores don't improve for 25 rounds\n",
      "[105]\ttrain's hr_err: 50.8785\ttest's hr_err: 13.537\n",
      "[110]\ttrain's hr_err: 48.1628\ttest's hr_err: 15.7524\n",
      "[115]\ttrain's hr_err: 48.1628\ttest's hr_err: 16.1959\n",
      "[120]\ttrain's hr_err: 45.4471\ttest's hr_err: 17.9821\n",
      "[125]\ttrain's hr_err: 45.4017\ttest's hr_err: 19.0343\n",
      "Early stopping, best iteration is:\n",
      "[102]\ttrain's hr_err: 50.8785\ttest's hr_err: 12.7734\n"
     ]
    },
    {
     "name": "stderr",
     "output_type": "stream",
     "text": [
      "/Users/samuelhmorton/opt/anaconda3/lib/python3.7/site-packages/lightgbm/engine.py:260: UserWarning: 'evals_result' argument is deprecated and will be removed in a future release of LightGBM. Pass 'record_evaluation()' callback via 'callbacks' argument instead.\n",
      "  _log_warning(\"'evals_result' argument is deprecated and will be removed in a future release of LightGBM. \"\n"
     ]
    },
    {
     "name": "stdout",
     "output_type": "stream",
     "text": [
      "Training until validation scores don't improve for 50 rounds\n",
      "[105]\ttrain's hr_err: 13.304\ttest's hr_err: 14.7771\n",
      "[110]\ttrain's hr_err: 9.78578\ttest's hr_err: 15.57\n",
      "[115]\ttrain's hr_err: 9.75011\ttest's hr_err: 18.1248\n",
      "[120]\ttrain's hr_err: 9.71435\ttest's hr_err: 18.2004\n",
      "[125]\ttrain's hr_err: 12.932\ttest's hr_err: 19.2947\n",
      "[130]\ttrain's hr_err: 11.8904\ttest's hr_err: 19.9705\n",
      "[135]\ttrain's hr_err: 11.457\ttest's hr_err: 19.3666\n",
      "[140]\ttrain's hr_err: 3.23408\ttest's hr_err: 21.357\n",
      "[145]\ttrain's hr_err: 5.16301\ttest's hr_err: 20.6124\n",
      "[150]\ttrain's hr_err: 5.68253\ttest's hr_err: 22.3478\n",
      "Early stopping, best iteration is:\n",
      "[103]\ttrain's hr_err: 10.913\ttest's hr_err: 13.0988\n",
      "Before fine-tuning: MSE = 0.08892900727927486, HR error = 16.852202762216212, HR error (squared) = 543.8643808553314\n",
      "\n",
      "\n",
      "Fine-tuning...\n"
     ]
    },
    {
     "name": "stderr",
     "output_type": "stream",
     "text": [
      "/Users/samuelhmorton/opt/anaconda3/lib/python3.7/site-packages/lightgbm/engine.py:260: UserWarning: 'evals_result' argument is deprecated and will be removed in a future release of LightGBM. Pass 'record_evaluation()' callback via 'callbacks' argument instead.\n",
      "  _log_warning(\"'evals_result' argument is deprecated and will be removed in a future release of LightGBM. \"\n"
     ]
    },
    {
     "name": "stdout",
     "output_type": "stream",
     "text": [
      "Training until validation scores don't improve for 25 rounds\n",
      "[105]\ttrain's hr_err: 56.5077\ttest's hr_err: 13.7961\n",
      "[110]\ttrain's hr_err: 57.968\ttest's hr_err: 16.1279\n",
      "[115]\ttrain's hr_err: 57.968\ttest's hr_err: 18.2067\n",
      "[120]\ttrain's hr_err: 57.895\ttest's hr_err: 20.1027\n",
      "[125]\ttrain's hr_err: 60.3853\ttest's hr_err: 19.5363\n",
      "[130]\ttrain's hr_err: 64.7184\ttest's hr_err: 19.5363\n",
      "Early stopping, best iteration is:\n",
      "[105]\ttrain's hr_err: 56.5077\ttest's hr_err: 13.7961\n"
     ]
    },
    {
     "name": "stderr",
     "output_type": "stream",
     "text": [
      "/Users/samuelhmorton/opt/anaconda3/lib/python3.7/site-packages/lightgbm/engine.py:260: UserWarning: 'evals_result' argument is deprecated and will be removed in a future release of LightGBM. Pass 'record_evaluation()' callback via 'callbacks' argument instead.\n",
      "  _log_warning(\"'evals_result' argument is deprecated and will be removed in a future release of LightGBM. \"\n"
     ]
    },
    {
     "name": "stdout",
     "output_type": "stream",
     "text": [
      "Training until validation scores don't improve for 50 rounds\n",
      "[110]\ttrain's hr_err: 7.62241\ttest's hr_err: 19.4524\n",
      "[115]\ttrain's hr_err: 12.7393\ttest's hr_err: 22.9454\n",
      "[120]\ttrain's hr_err: 14.038\ttest's hr_err: 21.774\n",
      "[125]\ttrain's hr_err: 7.94289\ttest's hr_err: 23.4305\n",
      "[130]\ttrain's hr_err: 9.81451\ttest's hr_err: 24.3024\n",
      "[135]\ttrain's hr_err: 9.82631\ttest's hr_err: 24.1289\n",
      "[140]\ttrain's hr_err: 9.82631\ttest's hr_err: 25.5909\n",
      "[145]\ttrain's hr_err: 10.0517\ttest's hr_err: 25.0617\n",
      "[150]\ttrain's hr_err: 13.6504\ttest's hr_err: 24.0943\n",
      "[155]\ttrain's hr_err: 14.0881\ttest's hr_err: 23.5272\n",
      "Early stopping, best iteration is:\n",
      "[106]\ttrain's hr_err: 4.12705\ttest's hr_err: 15.4207\n",
      "Before fine-tuning: MSE = 0.08785934694514128, HR error = 17.17185935983411, HR error (squared) = 563.4361390470775\n",
      "\n",
      "\n",
      "Fine-tuning...\n"
     ]
    },
    {
     "name": "stderr",
     "output_type": "stream",
     "text": [
      "/Users/samuelhmorton/opt/anaconda3/lib/python3.7/site-packages/lightgbm/engine.py:260: UserWarning: 'evals_result' argument is deprecated and will be removed in a future release of LightGBM. Pass 'record_evaluation()' callback via 'callbacks' argument instead.\n",
      "  _log_warning(\"'evals_result' argument is deprecated and will be removed in a future release of LightGBM. \"\n"
     ]
    },
    {
     "name": "stdout",
     "output_type": "stream",
     "text": [
      "Training until validation scores don't improve for 25 rounds\n",
      "[110]\ttrain's hr_err: 62.942\ttest's hr_err: 17.7909\n",
      "[115]\ttrain's hr_err: 62.9802\ttest's hr_err: 19.0656\n",
      "[120]\ttrain's hr_err: 61.9456\ttest's hr_err: 19.8642\n",
      "[125]\ttrain's hr_err: 59.2306\ttest's hr_err: 19.3008\n",
      "[130]\ttrain's hr_err: 59.2306\ttest's hr_err: 20.9914\n",
      "Early stopping, best iteration is:\n",
      "[108]\ttrain's hr_err: 62.942\ttest's hr_err: 16.0539\n"
     ]
    },
    {
     "name": "stderr",
     "output_type": "stream",
     "text": [
      "/Users/samuelhmorton/opt/anaconda3/lib/python3.7/site-packages/lightgbm/engine.py:260: UserWarning: 'evals_result' argument is deprecated and will be removed in a future release of LightGBM. Pass 'record_evaluation()' callback via 'callbacks' argument instead.\n",
      "  _log_warning(\"'evals_result' argument is deprecated and will be removed in a future release of LightGBM. \"\n"
     ]
    },
    {
     "name": "stdout",
     "output_type": "stream",
     "text": [
      "Training until validation scores don't improve for 50 rounds\n",
      "[110]\ttrain's hr_err: 21.114\ttest's hr_err: 16.3314\n",
      "[115]\ttrain's hr_err: 18.3033\ttest's hr_err: 14.7973\n",
      "[120]\ttrain's hr_err: 18.2675\ttest's hr_err: 14.363\n",
      "[125]\ttrain's hr_err: 15.9546\ttest's hr_err: 14.1788\n",
      "[130]\ttrain's hr_err: 20.4772\ttest's hr_err: 14.3702\n",
      "[135]\ttrain's hr_err: 19.0229\ttest's hr_err: 17.2936\n",
      "[140]\ttrain's hr_err: 24.7583\ttest's hr_err: 17.5645\n",
      "[145]\ttrain's hr_err: 22.2025\ttest's hr_err: 16.0566\n",
      "[150]\ttrain's hr_err: 22.1771\ttest's hr_err: 16.7639\n",
      "[155]\ttrain's hr_err: 24.7101\ttest's hr_err: 18.4266\n",
      "[160]\ttrain's hr_err: 23.0936\ttest's hr_err: 16.4965\n",
      "[165]\ttrain's hr_err: 20.7635\ttest's hr_err: 17.9837\n",
      "[170]\ttrain's hr_err: 20.7323\ttest's hr_err: 17.5424\n",
      "[175]\ttrain's hr_err: 20.7918\ttest's hr_err: 21.7005\n",
      "Early stopping, best iteration is:\n",
      "[125]\ttrain's hr_err: 15.9546\ttest's hr_err: 14.1788\n",
      "Before fine-tuning: MSE = 0.08123149786867878, HR error = 19.193147128802828, HR error (squared) = 559.7556157275611\n",
      "\n",
      "\n",
      "Fine-tuning...\n"
     ]
    },
    {
     "name": "stderr",
     "output_type": "stream",
     "text": [
      "/Users/samuelhmorton/opt/anaconda3/lib/python3.7/site-packages/lightgbm/engine.py:260: UserWarning: 'evals_result' argument is deprecated and will be removed in a future release of LightGBM. Pass 'record_evaluation()' callback via 'callbacks' argument instead.\n",
      "  _log_warning(\"'evals_result' argument is deprecated and will be removed in a future release of LightGBM. \"\n"
     ]
    },
    {
     "name": "stdout",
     "output_type": "stream",
     "text": [
      "Training until validation scores don't improve for 25 rounds\n",
      "[130]\ttrain's hr_err: 47.7018\ttest's hr_err: 16.6879\n",
      "[135]\ttrain's hr_err: 47.7018\ttest's hr_err: 17.9915\n",
      "[140]\ttrain's hr_err: 45.4134\ttest's hr_err: 18.588\n",
      "[145]\ttrain's hr_err: 43.125\ttest's hr_err: 18.6024\n",
      "[150]\ttrain's hr_err: 40.8852\ttest's hr_err: 20.0694\n",
      "Early stopping, best iteration is:\n",
      "[126]\ttrain's hr_err: 47.7018\ttest's hr_err: 16.0299\n",
      "Finished training in 0:04:13.991148\n",
      "\n",
      "\n",
      "Training excluding subject 7...\n",
      "\n",
      "Rows per batch: 1792\n"
     ]
    },
    {
     "name": "stderr",
     "output_type": "stream",
     "text": [
      "/Users/samuelhmorton/opt/anaconda3/lib/python3.7/site-packages/lightgbm/engine.py:260: UserWarning: 'evals_result' argument is deprecated and will be removed in a future release of LightGBM. Pass 'record_evaluation()' callback via 'callbacks' argument instead.\n",
      "  _log_warning(\"'evals_result' argument is deprecated and will be removed in a future release of LightGBM. \"\n"
     ]
    },
    {
     "name": "stdout",
     "output_type": "stream",
     "text": [
      "Training until validation scores don't improve for 50 rounds\n",
      "[5]\ttrain's hr_err: 10.2344\ttest's hr_err: 25.8462\n",
      "[10]\ttrain's hr_err: 14.9651\ttest's hr_err: 26.989\n",
      "[15]\ttrain's hr_err: 14.969\ttest's hr_err: 30.3682\n",
      "[20]\ttrain's hr_err: 15.1008\ttest's hr_err: 29.6193\n",
      "[25]\ttrain's hr_err: 12.4706\ttest's hr_err: 28.0052\n",
      "[30]\ttrain's hr_err: 12.5027\ttest's hr_err: 26.4779\n",
      "[35]\ttrain's hr_err: 12.464\ttest's hr_err: 27.3387\n",
      "[40]\ttrain's hr_err: 12.496\ttest's hr_err: 29.4847\n",
      "[45]\ttrain's hr_err: 12.5347\ttest's hr_err: 28.2123\n",
      "[50]\ttrain's hr_err: 12.4319\ttest's hr_err: 29.0731\n",
      "Early stopping, best iteration is:\n",
      "[3]\ttrain's hr_err: 7.76662\ttest's hr_err: 17.175\n",
      "Before fine-tuning: MSE = 0.08849742199186394, HR error = 15.910540328894259, HR error (squared) = 519.0358986789478\n",
      "\n",
      "\n",
      "Fine-tuning...\n"
     ]
    },
    {
     "name": "stderr",
     "output_type": "stream",
     "text": [
      "/Users/samuelhmorton/opt/anaconda3/lib/python3.7/site-packages/lightgbm/engine.py:260: UserWarning: 'evals_result' argument is deprecated and will be removed in a future release of LightGBM. Pass 'record_evaluation()' callback via 'callbacks' argument instead.\n",
      "  _log_warning(\"'evals_result' argument is deprecated and will be removed in a future release of LightGBM. \"\n"
     ]
    },
    {
     "name": "stdout",
     "output_type": "stream",
     "text": [
      "Training until validation scores don't improve for 25 rounds\n",
      "[5]\ttrain's hr_err: 56.8575\ttest's hr_err: 17.8077\n",
      "[10]\ttrain's hr_err: 54.2179\ttest's hr_err: 19.0455\n",
      "[15]\ttrain's hr_err: 54.18\ttest's hr_err: 17.08\n",
      "[20]\ttrain's hr_err: 51.3062\ttest's hr_err: 17.1363\n",
      "[25]\ttrain's hr_err: 48.4995\ttest's hr_err: 17.8986\n",
      "[30]\ttrain's hr_err: 48.4995\ttest's hr_err: 18.8436\n",
      "[35]\ttrain's hr_err: 45.8979\ttest's hr_err: 18.8466\n",
      "[40]\ttrain's hr_err: 45.8979\ttest's hr_err: 20.4882\n",
      "[45]\ttrain's hr_err: 43.6711\ttest's hr_err: 20.8015\n",
      "Early stopping, best iteration is:\n",
      "[21]\ttrain's hr_err: 48.4702\ttest's hr_err: 16.5153\n"
     ]
    },
    {
     "name": "stderr",
     "output_type": "stream",
     "text": [
      "/Users/samuelhmorton/opt/anaconda3/lib/python3.7/site-packages/lightgbm/engine.py:260: UserWarning: 'evals_result' argument is deprecated and will be removed in a future release of LightGBM. Pass 'record_evaluation()' callback via 'callbacks' argument instead.\n",
      "  _log_warning(\"'evals_result' argument is deprecated and will be removed in a future release of LightGBM. \"\n"
     ]
    },
    {
     "name": "stdout",
     "output_type": "stream",
     "text": [
      "Training until validation scores don't improve for 50 rounds\n",
      "[25]\ttrain's hr_err: 15.9002\ttest's hr_err: 22.2736\n",
      "[30]\ttrain's hr_err: 14.098\ttest's hr_err: 26.2861\n",
      "[35]\ttrain's hr_err: 14.2714\ttest's hr_err: 29.9299\n",
      "[40]\ttrain's hr_err: 14.1439\ttest's hr_err: 28.9659\n",
      "[45]\ttrain's hr_err: 14.0802\ttest's hr_err: 25.32\n",
      "[50]\ttrain's hr_err: 13.3494\ttest's hr_err: 27.528\n",
      "[55]\ttrain's hr_err: 13.2826\ttest's hr_err: 26.4073\n",
      "[60]\ttrain's hr_err: 15.814\ttest's hr_err: 25.1837\n",
      "[65]\ttrain's hr_err: 18.2276\ttest's hr_err: 22.8582\n",
      "[70]\ttrain's hr_err: 22.2316\ttest's hr_err: 19.0478\n",
      "[75]\ttrain's hr_err: 22.2316\ttest's hr_err: 17.6828\n",
      "[80]\ttrain's hr_err: 22.2316\ttest's hr_err: 15.6798\n",
      "[85]\ttrain's hr_err: 22.2316\ttest's hr_err: 15.6594\n",
      "[90]\ttrain's hr_err: 22.2693\ttest's hr_err: 15.4368\n",
      "[95]\ttrain's hr_err: 26.5171\ttest's hr_err: 16.4213\n",
      "[100]\ttrain's hr_err: 26.5171\ttest's hr_err: 15.9905\n",
      "[105]\ttrain's hr_err: 26.4888\ttest's hr_err: 15.6291\n",
      "[110]\ttrain's hr_err: 26.4786\ttest's hr_err: 16.4407\n",
      "[115]\ttrain's hr_err: 26.4786\ttest's hr_err: 17.5717\n",
      "[120]\ttrain's hr_err: 26.4222\ttest's hr_err: 17.7906\n",
      "[125]\ttrain's hr_err: 26.4222\ttest's hr_err: 16.2402\n",
      "[130]\ttrain's hr_err: 26.4222\ttest's hr_err: 15.6755\n",
      "Early stopping, best iteration is:\n",
      "[81]\ttrain's hr_err: 22.2316\ttest's hr_err: 15.1335\n",
      "Before fine-tuning: MSE = 0.09008470180180507, HR error = 21.851975573677425, HR error (squared) = 677.1611471270878\n",
      "\n",
      "\n",
      "Fine-tuning...\n"
     ]
    },
    {
     "name": "stderr",
     "output_type": "stream",
     "text": [
      "/Users/samuelhmorton/opt/anaconda3/lib/python3.7/site-packages/lightgbm/engine.py:260: UserWarning: 'evals_result' argument is deprecated and will be removed in a future release of LightGBM. Pass 'record_evaluation()' callback via 'callbacks' argument instead.\n",
      "  _log_warning(\"'evals_result' argument is deprecated and will be removed in a future release of LightGBM. \"\n"
     ]
    },
    {
     "name": "stdout",
     "output_type": "stream",
     "text": [
      "Training until validation scores don't improve for 25 rounds\n",
      "[85]\ttrain's hr_err: 76.4513\ttest's hr_err: 15.9885\n",
      "[90]\ttrain's hr_err: 76.3846\ttest's hr_err: 18.8159\n",
      "[95]\ttrain's hr_err: 76.3846\ttest's hr_err: 16.5854\n",
      "[100]\ttrain's hr_err: 76.3846\ttest's hr_err: 17.2408\n",
      "[105]\ttrain's hr_err: 76.2259\ttest's hr_err: 18.1406\n",
      "Early stopping, best iteration is:\n",
      "[82]\ttrain's hr_err: 72.4801\ttest's hr_err: 15.1335\n"
     ]
    },
    {
     "name": "stderr",
     "output_type": "stream",
     "text": [
      "/Users/samuelhmorton/opt/anaconda3/lib/python3.7/site-packages/lightgbm/engine.py:260: UserWarning: 'evals_result' argument is deprecated and will be removed in a future release of LightGBM. Pass 'record_evaluation()' callback via 'callbacks' argument instead.\n",
      "  _log_warning(\"'evals_result' argument is deprecated and will be removed in a future release of LightGBM. \"\n"
     ]
    },
    {
     "name": "stdout",
     "output_type": "stream",
     "text": [
      "Training until validation scores don't improve for 50 rounds\n",
      "[85]\ttrain's hr_err: 3.71214\ttest's hr_err: 15.7418\n",
      "[90]\ttrain's hr_err: 6.71778\ttest's hr_err: 19.8517\n",
      "[95]\ttrain's hr_err: 4.29081\ttest's hr_err: 19.7213\n",
      "[100]\ttrain's hr_err: 4.95494\ttest's hr_err: 26.2602\n",
      "[105]\ttrain's hr_err: 6.36073\ttest's hr_err: 25.9723\n",
      "[110]\ttrain's hr_err: 9.67167\ttest's hr_err: 29.6637\n",
      "[115]\ttrain's hr_err: 15.2756\ttest's hr_err: 29.1663\n",
      "[120]\ttrain's hr_err: 8.78765\ttest's hr_err: 28.6459\n",
      "[125]\ttrain's hr_err: 9.71719\ttest's hr_err: 30.2078\n",
      "[130]\ttrain's hr_err: 6.45188\ttest's hr_err: 31.9267\n",
      "[135]\ttrain's hr_err: 5.79264\ttest's hr_err: 29.6423\n",
      "Early stopping, best iteration is:\n",
      "[86]\ttrain's hr_err: 4.37345\ttest's hr_err: 13.3917\n",
      "Before fine-tuning: MSE = 0.09291158124035921, HR error = 16.097003535690803, HR error (squared) = 327.88150400903453\n",
      "\n",
      "\n",
      "Fine-tuning...\n"
     ]
    },
    {
     "name": "stderr",
     "output_type": "stream",
     "text": [
      "/Users/samuelhmorton/opt/anaconda3/lib/python3.7/site-packages/lightgbm/engine.py:260: UserWarning: 'evals_result' argument is deprecated and will be removed in a future release of LightGBM. Pass 'record_evaluation()' callback via 'callbacks' argument instead.\n",
      "  _log_warning(\"'evals_result' argument is deprecated and will be removed in a future release of LightGBM. \"\n"
     ]
    },
    {
     "name": "stdout",
     "output_type": "stream",
     "text": [
      "Training until validation scores don't improve for 25 rounds\n",
      "[90]\ttrain's hr_err: 1.00656\ttest's hr_err: 50.3642\n",
      "[95]\ttrain's hr_err: 1.00656\ttest's hr_err: 59.7357\n",
      "[100]\ttrain's hr_err: 1.00656\ttest's hr_err: 60.4459\n",
      "[105]\ttrain's hr_err: 0.960699\ttest's hr_err: 62.1257\n",
      "[110]\ttrain's hr_err: 1.00656\ttest's hr_err: 49.8811\n",
      "[115]\ttrain's hr_err: 0.960699\ttest's hr_err: 54.1432\n",
      "[120]\ttrain's hr_err: 0.915033\ttest's hr_err: 54.2367\n",
      "[125]\ttrain's hr_err: 0.915033\ttest's hr_err: 52.3211\n",
      "[130]\ttrain's hr_err: 0.915033\ttest's hr_err: 52.9501\n",
      "[135]\ttrain's hr_err: 0.915033\ttest's hr_err: 52.5925\n",
      "Early stopping, best iteration is:\n",
      "[113]\ttrain's hr_err: 0.915033\ttest's hr_err: 49.7366\n"
     ]
    },
    {
     "name": "stderr",
     "output_type": "stream",
     "text": [
      "/Users/samuelhmorton/opt/anaconda3/lib/python3.7/site-packages/lightgbm/engine.py:260: UserWarning: 'evals_result' argument is deprecated and will be removed in a future release of LightGBM. Pass 'record_evaluation()' callback via 'callbacks' argument instead.\n",
      "  _log_warning(\"'evals_result' argument is deprecated and will be removed in a future release of LightGBM. \"\n"
     ]
    },
    {
     "name": "stdout",
     "output_type": "stream",
     "text": [
      "Training until validation scores don't improve for 50 rounds\n",
      "[115]\ttrain's hr_err: 54.5473\ttest's hr_err: 53.6009\n",
      "[120]\ttrain's hr_err: 58.2901\ttest's hr_err: 47.5965\n",
      "[125]\ttrain's hr_err: 62.9767\ttest's hr_err: 49.9553\n",
      "[130]\ttrain's hr_err: 69.4523\ttest's hr_err: 49.6357\n",
      "[135]\ttrain's hr_err: 71.6586\ttest's hr_err: 45.8548\n",
      "[140]\ttrain's hr_err: 71.3835\ttest's hr_err: 48.3148\n",
      "[145]\ttrain's hr_err: 71.3835\ttest's hr_err: 47.8936\n",
      "[150]\ttrain's hr_err: 70.7049\ttest's hr_err: 48.3713\n",
      "[155]\ttrain's hr_err: 59.9087\ttest's hr_err: 49.7256\n",
      "[160]\ttrain's hr_err: 59.589\ttest's hr_err: 49.2911\n",
      "[165]\ttrain's hr_err: 59.9087\ttest's hr_err: 50.3153\n",
      "[170]\ttrain's hr_err: 59.589\ttest's hr_err: 50.3153\n",
      "[175]\ttrain's hr_err: 59.589\ttest's hr_err: 49.2128\n",
      "[180]\ttrain's hr_err: 59.589\ttest's hr_err: 49.2269\n",
      "[185]\ttrain's hr_err: 59.589\ttest's hr_err: 49.21\n",
      "Early stopping, best iteration is:\n",
      "[135]\ttrain's hr_err: 71.6586\ttest's hr_err: 45.8548\n",
      "Before fine-tuning: MSE = 0.08287374431175643, HR error = 42.1656961931722, HR error (squared) = 1923.1390568841753\n",
      "\n",
      "\n",
      "Fine-tuning...\n"
     ]
    },
    {
     "name": "stderr",
     "output_type": "stream",
     "text": [
      "/Users/samuelhmorton/opt/anaconda3/lib/python3.7/site-packages/lightgbm/engine.py:260: UserWarning: 'evals_result' argument is deprecated and will be removed in a future release of LightGBM. Pass 'record_evaluation()' callback via 'callbacks' argument instead.\n",
      "  _log_warning(\"'evals_result' argument is deprecated and will be removed in a future release of LightGBM. \"\n"
     ]
    },
    {
     "name": "stdout",
     "output_type": "stream",
     "text": [
      "Training until validation scores don't improve for 25 rounds\n",
      "[140]\ttrain's hr_err: 19.1345\ttest's hr_err: 35.4494\n",
      "[145]\ttrain's hr_err: 19.61\ttest's hr_err: 34.7503\n",
      "[150]\ttrain's hr_err: 23.2326\ttest's hr_err: 28.7461\n",
      "[155]\ttrain's hr_err: 26.5697\ttest's hr_err: 29.2348\n",
      "[160]\ttrain's hr_err: 26.1083\ttest's hr_err: 28.9186\n",
      "[165]\ttrain's hr_err: 28.6784\ttest's hr_err: 30.1881\n",
      "[170]\ttrain's hr_err: 33.5139\ttest's hr_err: 29.0359\n",
      "[175]\ttrain's hr_err: 33.5139\ttest's hr_err: 35.286\n",
      "[180]\ttrain's hr_err: 33.5139\ttest's hr_err: 32.3178\n",
      "[185]\ttrain's hr_err: 31.4388\ttest's hr_err: 34.627\n",
      "[190]\ttrain's hr_err: 31.4388\ttest's hr_err: 34.0549\n",
      "Early stopping, best iteration is:\n",
      "[166]\ttrain's hr_err: 28.6784\ttest's hr_err: 27.9209\n"
     ]
    },
    {
     "name": "stderr",
     "output_type": "stream",
     "text": [
      "/Users/samuelhmorton/opt/anaconda3/lib/python3.7/site-packages/lightgbm/engine.py:260: UserWarning: 'evals_result' argument is deprecated and will be removed in a future release of LightGBM. Pass 'record_evaluation()' callback via 'callbacks' argument instead.\n",
      "  _log_warning(\"'evals_result' argument is deprecated and will be removed in a future release of LightGBM. \"\n"
     ]
    },
    {
     "name": "stdout",
     "output_type": "stream",
     "text": [
      "Training until validation scores don't improve for 50 rounds\n",
      "[170]\ttrain's hr_err: 57.4816\ttest's hr_err: 31.3177\n",
      "[175]\ttrain's hr_err: 57.4816\ttest's hr_err: 30.567\n",
      "[180]\ttrain's hr_err: 57.4816\ttest's hr_err: 29.5878\n",
      "[185]\ttrain's hr_err: 57.4816\ttest's hr_err: 30.0211\n",
      "[190]\ttrain's hr_err: 60.7359\ttest's hr_err: 35.4079\n",
      "[195]\ttrain's hr_err: 60.7359\ttest's hr_err: 35.4152\n",
      "[200]\ttrain's hr_err: 60.7359\ttest's hr_err: 35.0299\n",
      "[205]\ttrain's hr_err: 60.7359\ttest's hr_err: 36.3056\n",
      "[210]\ttrain's hr_err: 60.7359\ttest's hr_err: 37.9763\n",
      "[215]\ttrain's hr_err: 59.55\ttest's hr_err: 36.9613\n",
      "Early stopping, best iteration is:\n",
      "[167]\ttrain's hr_err: 57.4816\ttest's hr_err: 27.9209\n",
      "Before fine-tuning: MSE = 0.0851087649676595, HR error = 33.5864417358624, HR error (squared) = 1619.2156657864361\n",
      "\n",
      "\n",
      "Fine-tuning...\n"
     ]
    },
    {
     "name": "stderr",
     "output_type": "stream",
     "text": [
      "/Users/samuelhmorton/opt/anaconda3/lib/python3.7/site-packages/lightgbm/engine.py:260: UserWarning: 'evals_result' argument is deprecated and will be removed in a future release of LightGBM. Pass 'record_evaluation()' callback via 'callbacks' argument instead.\n",
      "  _log_warning(\"'evals_result' argument is deprecated and will be removed in a future release of LightGBM. \"\n"
     ]
    },
    {
     "name": "stdout",
     "output_type": "stream",
     "text": [
      "Training until validation scores don't improve for 25 rounds\n",
      "[170]\ttrain's hr_err: 32.1004\ttest's hr_err: 29.053\n",
      "[175]\ttrain's hr_err: 32.1004\ttest's hr_err: 30.6615\n",
      "[180]\ttrain's hr_err: 32.0672\ttest's hr_err: 31.8339\n",
      "[185]\ttrain's hr_err: 32.0672\ttest's hr_err: 30.0692\n",
      "[190]\ttrain's hr_err: 32.0672\ttest's hr_err: 29.4846\n",
      "Early stopping, best iteration is:\n",
      "[168]\ttrain's hr_err: 32.1004\ttest's hr_err: 27.9209\n"
     ]
    },
    {
     "name": "stderr",
     "output_type": "stream",
     "text": [
      "/Users/samuelhmorton/opt/anaconda3/lib/python3.7/site-packages/lightgbm/engine.py:260: UserWarning: 'evals_result' argument is deprecated and will be removed in a future release of LightGBM. Pass 'record_evaluation()' callback via 'callbacks' argument instead.\n",
      "  _log_warning(\"'evals_result' argument is deprecated and will be removed in a future release of LightGBM. \"\n"
     ]
    },
    {
     "name": "stdout",
     "output_type": "stream",
     "text": [
      "Training until validation scores don't improve for 50 rounds\n",
      "[170]\ttrain's hr_err: 42.6708\ttest's hr_err: 31.3177\n",
      "[175]\ttrain's hr_err: 42.6954\ttest's hr_err: 30.0543\n",
      "[180]\ttrain's hr_err: 39.9909\ttest's hr_err: 28.9496\n",
      "[185]\ttrain's hr_err: 39.9909\ttest's hr_err: 28.9584\n",
      "[190]\ttrain's hr_err: 39.9909\ttest's hr_err: 28.9486\n",
      "[195]\ttrain's hr_err: 39.9909\ttest's hr_err: 29.3104\n",
      "[200]\ttrain's hr_err: 39.9909\ttest's hr_err: 28.3309\n",
      "[205]\ttrain's hr_err: 39.9909\ttest's hr_err: 28.3309\n",
      "[210]\ttrain's hr_err: 39.9909\ttest's hr_err: 29.3477\n",
      "[215]\ttrain's hr_err: 39.9909\ttest's hr_err: 29.3434\n",
      "[220]\ttrain's hr_err: 39.9909\ttest's hr_err: 29.3434\n",
      "[225]\ttrain's hr_err: 41.7574\ttest's hr_err: 29.9091\n",
      "[230]\ttrain's hr_err: 41.7574\ttest's hr_err: 28.6741\n",
      "[235]\ttrain's hr_err: 41.7284\ttest's hr_err: 30.1493\n",
      "[240]\ttrain's hr_err: 41.7284\ttest's hr_err: 28.9675\n",
      "[245]\ttrain's hr_err: 38.2937\ttest's hr_err: 28.96\n",
      "[250]\ttrain's hr_err: 38.2937\ttest's hr_err: 27.5786\n",
      "[255]\ttrain's hr_err: 38.2937\ttest's hr_err: 26.1627\n",
      "[260]\ttrain's hr_err: 38.2937\ttest's hr_err: 24.6615\n",
      "[265]\ttrain's hr_err: 38.2645\ttest's hr_err: 24.6562\n",
      "[270]\ttrain's hr_err: 38.2645\ttest's hr_err: 24.6562\n",
      "[275]\ttrain's hr_err: 35.2072\ttest's hr_err: 24.6562\n",
      "[280]\ttrain's hr_err: 35.173\ttest's hr_err: 25.0014\n",
      "[285]\ttrain's hr_err: 35.173\ttest's hr_err: 25.602\n",
      "[290]\ttrain's hr_err: 33.8496\ttest's hr_err: 25.5307\n",
      "[295]\ttrain's hr_err: 33.8646\ttest's hr_err: 26.8411\n",
      "[300]\ttrain's hr_err: 33.8496\ttest's hr_err: 29.4468\n",
      "[305]\ttrain's hr_err: 33.8496\ttest's hr_err: 29.4468\n",
      "[310]\ttrain's hr_err: 33.8105\ttest's hr_err: 29.4575\n",
      "Early stopping, best iteration is:\n",
      "[261]\ttrain's hr_err: 38.2937\ttest's hr_err: 24.6562\n",
      "Before fine-tuning: MSE = 0.08173234032739526, HR error = 24.655479542901602, HR error (squared) = 980.8375065697003\n",
      "\n",
      "\n",
      "Fine-tuning...\n"
     ]
    },
    {
     "name": "stderr",
     "output_type": "stream",
     "text": [
      "/Users/samuelhmorton/opt/anaconda3/lib/python3.7/site-packages/lightgbm/engine.py:260: UserWarning: 'evals_result' argument is deprecated and will be removed in a future release of LightGBM. Pass 'record_evaluation()' callback via 'callbacks' argument instead.\n",
      "  _log_warning(\"'evals_result' argument is deprecated and will be removed in a future release of LightGBM. \"\n"
     ]
    },
    {
     "name": "stdout",
     "output_type": "stream",
     "text": [
      "Training until validation scores don't improve for 25 rounds\n",
      "[265]\ttrain's hr_err: 9.81665\ttest's hr_err: 28.1793\n",
      "[270]\ttrain's hr_err: 10.0528\ttest's hr_err: 28.6206\n",
      "[275]\ttrain's hr_err: 3.07203\ttest's hr_err: 29.5225\n",
      "[280]\ttrain's hr_err: 3.55962\ttest's hr_err: 31.2977\n",
      "[285]\ttrain's hr_err: 8.44512\ttest's hr_err: 33.116\n",
      "[290]\ttrain's hr_err: 9.83265\ttest's hr_err: 34.9833\n",
      "Early stopping, best iteration is:\n",
      "[268]\ttrain's hr_err: 9.79133\ttest's hr_err: 26.7807\n"
     ]
    },
    {
     "name": "stderr",
     "output_type": "stream",
     "text": [
      "/Users/samuelhmorton/opt/anaconda3/lib/python3.7/site-packages/lightgbm/engine.py:260: UserWarning: 'evals_result' argument is deprecated and will be removed in a future release of LightGBM. Pass 'record_evaluation()' callback via 'callbacks' argument instead.\n",
      "  _log_warning(\"'evals_result' argument is deprecated and will be removed in a future release of LightGBM. \"\n"
     ]
    },
    {
     "name": "stdout",
     "output_type": "stream",
     "text": [
      "Training until validation scores don't improve for 50 rounds\n",
      "[270]\ttrain's hr_err: 42.4109\ttest's hr_err: 26.7841\n",
      "[275]\ttrain's hr_err: 42.4357\ttest's hr_err: 26.7683\n",
      "[280]\ttrain's hr_err: 40.0358\ttest's hr_err: 25.9159\n",
      "[285]\ttrain's hr_err: 40.0571\ttest's hr_err: 23.6128\n",
      "[290]\ttrain's hr_err: 37.6073\ttest's hr_err: 21.5531\n",
      "[295]\ttrain's hr_err: 35.1614\ttest's hr_err: 21.5786\n",
      "[300]\ttrain's hr_err: 35.1953\ttest's hr_err: 21.2074\n",
      "[305]\ttrain's hr_err: 32.8376\ttest's hr_err: 19.4133\n",
      "[310]\ttrain's hr_err: 32.8647\ttest's hr_err: 18.2315\n",
      "[315]\ttrain's hr_err: 29.1033\ttest's hr_err: 18.7499\n",
      "[320]\ttrain's hr_err: 29.1452\ttest's hr_err: 19.2596\n",
      "[325]\ttrain's hr_err: 29.3739\ttest's hr_err: 19.8488\n",
      "[330]\ttrain's hr_err: 28.1349\ttest's hr_err: 22.1034\n",
      "[335]\ttrain's hr_err: 31.0934\ttest's hr_err: 20.2875\n",
      "[340]\ttrain's hr_err: 29.2152\ttest's hr_err: 20.7457\n",
      "[345]\ttrain's hr_err: 20.3697\ttest's hr_err: 22.2698\n",
      "[350]\ttrain's hr_err: 20.2367\ttest's hr_err: 22.0712\n",
      "Early stopping, best iteration is:\n",
      "[302]\ttrain's hr_err: 32.8104\ttest's hr_err: 17.9239\n",
      "Before fine-tuning: MSE = 0.08585839566278863, HR error = 19.6282809575305, HR error (squared) = 478.9009821046293\n",
      "\n",
      "\n",
      "Fine-tuning...\n"
     ]
    },
    {
     "name": "stderr",
     "output_type": "stream",
     "text": [
      "/Users/samuelhmorton/opt/anaconda3/lib/python3.7/site-packages/lightgbm/engine.py:260: UserWarning: 'evals_result' argument is deprecated and will be removed in a future release of LightGBM. Pass 'record_evaluation()' callback via 'callbacks' argument instead.\n",
      "  _log_warning(\"'evals_result' argument is deprecated and will be removed in a future release of LightGBM. \"\n"
     ]
    },
    {
     "name": "stdout",
     "output_type": "stream",
     "text": [
      "Training until validation scores don't improve for 25 rounds\n",
      "[305]\ttrain's hr_err: 13.59\ttest's hr_err: 17.4721\n",
      "[310]\ttrain's hr_err: 13.59\ttest's hr_err: 16.2047\n",
      "[315]\ttrain's hr_err: 13.59\ttest's hr_err: 16.7342\n",
      "[320]\ttrain's hr_err: 13.5628\ttest's hr_err: 15.6218\n",
      "[325]\ttrain's hr_err: 13.5628\ttest's hr_err: 14.9333\n",
      "[330]\ttrain's hr_err: 14.3997\ttest's hr_err: 15.5245\n",
      "[335]\ttrain's hr_err: 7.17548\ttest's hr_err: 15.5106\n",
      "[340]\ttrain's hr_err: 7.17548\ttest's hr_err: 15.0627\n",
      "[345]\ttrain's hr_err: 9.5815\ttest's hr_err: 15.0627\n",
      "[350]\ttrain's hr_err: 14.4086\ttest's hr_err: 14.4599\n",
      "[355]\ttrain's hr_err: 9.31893\ttest's hr_err: 15.6275\n",
      "[360]\ttrain's hr_err: 9.31893\ttest's hr_err: 17.0433\n",
      "[365]\ttrain's hr_err: 9.31893\ttest's hr_err: 18.227\n",
      "Early stopping, best iteration is:\n",
      "[342]\ttrain's hr_err: 7.17548\ttest's hr_err: 14.4512\n"
     ]
    },
    {
     "name": "stderr",
     "output_type": "stream",
     "text": [
      "/Users/samuelhmorton/opt/anaconda3/lib/python3.7/site-packages/lightgbm/engine.py:260: UserWarning: 'evals_result' argument is deprecated and will be removed in a future release of LightGBM. Pass 'record_evaluation()' callback via 'callbacks' argument instead.\n",
      "  _log_warning(\"'evals_result' argument is deprecated and will be removed in a future release of LightGBM. \"\n"
     ]
    },
    {
     "name": "stdout",
     "output_type": "stream",
     "text": [
      "Training until validation scores don't improve for 50 rounds\n",
      "[345]\ttrain's hr_err: 34.7206\ttest's hr_err: 15.6625\n",
      "[350]\ttrain's hr_err: 34.7206\ttest's hr_err: 15.5056\n",
      "[355]\ttrain's hr_err: 35.8224\ttest's hr_err: 15.516\n",
      "[360]\ttrain's hr_err: 38.303\ttest's hr_err: 14.895\n",
      "[365]\ttrain's hr_err: 40.7836\ttest's hr_err: 14.895\n",
      "[370]\ttrain's hr_err: 40.7836\ttest's hr_err: 14.882\n",
      "[375]\ttrain's hr_err: 40.7836\ttest's hr_err: 16.1896\n",
      "[380]\ttrain's hr_err: 43.214\ttest's hr_err: 18.6332\n",
      "[385]\ttrain's hr_err: 43.214\ttest's hr_err: 18.4464\n",
      "[390]\ttrain's hr_err: 43.214\ttest's hr_err: 19.4811\n",
      "[395]\ttrain's hr_err: 43.2325\ttest's hr_err: 18.1226\n",
      "[400]\ttrain's hr_err: 43.2677\ttest's hr_err: 18.6876\n",
      "[405]\ttrain's hr_err: 43.2677\ttest's hr_err: 18.6876\n",
      "[410]\ttrain's hr_err: 43.2677\ttest's hr_err: 18.0755\n",
      "[415]\ttrain's hr_err: 45.7451\ttest's hr_err: 18.0647\n",
      "[420]\ttrain's hr_err: 45.7451\ttest's hr_err: 18.0647\n",
      "Early stopping, best iteration is:\n",
      "[370]\ttrain's hr_err: 40.7836\ttest's hr_err: 14.882\n",
      "Before fine-tuning: MSE = 0.08995052835317523, HR error = 15.59128248792889, HR error (squared) = 367.90499531192245\n",
      "\n",
      "\n",
      "Fine-tuning...\n"
     ]
    },
    {
     "name": "stderr",
     "output_type": "stream",
     "text": [
      "/Users/samuelhmorton/opt/anaconda3/lib/python3.7/site-packages/lightgbm/engine.py:260: UserWarning: 'evals_result' argument is deprecated and will be removed in a future release of LightGBM. Pass 'record_evaluation()' callback via 'callbacks' argument instead.\n",
      "  _log_warning(\"'evals_result' argument is deprecated and will be removed in a future release of LightGBM. \"\n"
     ]
    },
    {
     "name": "stdout",
     "output_type": "stream",
     "text": [
      "Training until validation scores don't improve for 25 rounds\n",
      "[375]\ttrain's hr_err: 25.5019\ttest's hr_err: 16.8262\n",
      "[380]\ttrain's hr_err: 25.5204\ttest's hr_err: 16.8238\n",
      "[385]\ttrain's hr_err: 25.5204\ttest's hr_err: 17.4131\n",
      "[390]\ttrain's hr_err: 25.5204\ttest's hr_err: 18.5859\n",
      "[395]\ttrain's hr_err: 25.5204\ttest's hr_err: 18.5538\n",
      "Early stopping, best iteration is:\n",
      "[371]\ttrain's hr_err: 23.0716\ttest's hr_err: 15.4629\n",
      "Finished training in 0:05:14.337842\n",
      "Iteration No: 2 ended. Evaluation done at random point.\n",
      "Time taken: 1998.4637\n",
      "Function value obtained: 20.8423\n",
      "Current minimum: 20.8423\n",
      "Iteration No: 3 started. Evaluating function at random point.\n",
      "\n",
      "\n",
      "Training excluding subject 1...\n",
      "\n",
      "Rows per batch: 5385\n"
     ]
    },
    {
     "name": "stderr",
     "output_type": "stream",
     "text": [
      "/Users/samuelhmorton/opt/anaconda3/lib/python3.7/site-packages/lightgbm/engine.py:260: UserWarning: 'evals_result' argument is deprecated and will be removed in a future release of LightGBM. Pass 'record_evaluation()' callback via 'callbacks' argument instead.\n",
      "  _log_warning(\"'evals_result' argument is deprecated and will be removed in a future release of LightGBM. \"\n"
     ]
    },
    {
     "name": "stdout",
     "output_type": "stream",
     "text": [
      "Training until validation scores don't improve for 50 rounds\n",
      "[5]\ttrain's hr_err: 41.4835\ttest's hr_err: 43.2795\n",
      "[10]\ttrain's hr_err: 56.0831\ttest's hr_err: 41.025\n",
      "[15]\ttrain's hr_err: 62.2082\ttest's hr_err: 45.5624\n",
      "[20]\ttrain's hr_err: 53.9296\ttest's hr_err: 49.9114\n",
      "[25]\ttrain's hr_err: 54.307\ttest's hr_err: 49.798\n",
      "[30]\ttrain's hr_err: 49.8658\ttest's hr_err: 46.2771\n",
      "[35]\ttrain's hr_err: 61.3052\ttest's hr_err: 50.2394\n",
      "[40]\ttrain's hr_err: 63.8179\ttest's hr_err: 54.9281\n",
      "[45]\ttrain's hr_err: 64.6618\ttest's hr_err: 60.9112\n",
      "[50]\ttrain's hr_err: 48.2465\ttest's hr_err: 59.7224\n",
      "Early stopping, best iteration is:\n",
      "[4]\ttrain's hr_err: 50.8917\ttest's hr_err: 36.7222\n",
      "Before fine-tuning: MSE = 0.095305940241603, HR error = 38.880116407661426, HR error (squared) = 1739.9271589281568\n",
      "\n",
      "\n",
      "Fine-tuning...\n"
     ]
    },
    {
     "name": "stderr",
     "output_type": "stream",
     "text": [
      "/Users/samuelhmorton/opt/anaconda3/lib/python3.7/site-packages/lightgbm/engine.py:260: UserWarning: 'evals_result' argument is deprecated and will be removed in a future release of LightGBM. Pass 'record_evaluation()' callback via 'callbacks' argument instead.\n",
      "  _log_warning(\"'evals_result' argument is deprecated and will be removed in a future release of LightGBM. \"\n"
     ]
    },
    {
     "name": "stdout",
     "output_type": "stream",
     "text": [
      "[5]\ttrain's hr_err: 13.8869\ttest's hr_err: 38.9947\n",
      "Training until validation scores don't improve for 25 rounds\n",
      "[10]\ttrain's hr_err: 12.6984\ttest's hr_err: 41.958\n",
      "[15]\ttrain's hr_err: 4.9086\ttest's hr_err: 51.8722\n",
      "[20]\ttrain's hr_err: 13.4715\ttest's hr_err: 49.7884\n",
      "[25]\ttrain's hr_err: 23.1179\ttest's hr_err: 51.3882\n",
      "[30]\ttrain's hr_err: 21.4718\ttest's hr_err: 41.6721\n",
      "Early stopping, best iteration is:\n",
      "[5]\ttrain's hr_err: 13.8869\ttest's hr_err: 38.9947\n"
     ]
    },
    {
     "name": "stderr",
     "output_type": "stream",
     "text": [
      "/Users/samuelhmorton/opt/anaconda3/lib/python3.7/site-packages/lightgbm/engine.py:260: UserWarning: 'evals_result' argument is deprecated and will be removed in a future release of LightGBM. Pass 'record_evaluation()' callback via 'callbacks' argument instead.\n",
      "  _log_warning(\"'evals_result' argument is deprecated and will be removed in a future release of LightGBM. \"\n"
     ]
    },
    {
     "name": "stdout",
     "output_type": "stream",
     "text": [
      "Training until validation scores don't improve for 50 rounds\n",
      "[10]\ttrain's hr_err: 43.259\ttest's hr_err: 45.5856\n",
      "[15]\ttrain's hr_err: 60.5388\ttest's hr_err: 47.0072\n",
      "[20]\ttrain's hr_err: 48.2683\ttest's hr_err: 52.7249\n",
      "[25]\ttrain's hr_err: 62.6698\ttest's hr_err: 52.829\n",
      "[30]\ttrain's hr_err: 68.3542\ttest's hr_err: 54.2293\n",
      "[35]\ttrain's hr_err: 61.4905\ttest's hr_err: 57.7112\n",
      "[40]\ttrain's hr_err: 57.8784\ttest's hr_err: 54.7868\n",
      "[45]\ttrain's hr_err: 53.123\ttest's hr_err: 53.1972\n",
      "[50]\ttrain's hr_err: 55.4861\ttest's hr_err: 51.6425\n",
      "[55]\ttrain's hr_err: 47.8697\ttest's hr_err: 53.4245\n",
      "Early stopping, best iteration is:\n",
      "[6]\ttrain's hr_err: 37.1526\ttest's hr_err: 43.0453\n",
      "Before fine-tuning: MSE = 0.09812978727710622, HR error = 43.1492105199007, HR error (squared) = 2136.159420344634\n",
      "\n",
      "\n",
      "Fine-tuning...\n"
     ]
    },
    {
     "name": "stderr",
     "output_type": "stream",
     "text": [
      "/Users/samuelhmorton/opt/anaconda3/lib/python3.7/site-packages/lightgbm/engine.py:260: UserWarning: 'evals_result' argument is deprecated and will be removed in a future release of LightGBM. Pass 'record_evaluation()' callback via 'callbacks' argument instead.\n",
      "  _log_warning(\"'evals_result' argument is deprecated and will be removed in a future release of LightGBM. \"\n"
     ]
    },
    {
     "name": "stdout",
     "output_type": "stream",
     "text": [
      "Training until validation scores don't improve for 25 rounds\n",
      "[10]\ttrain's hr_err: 28.7619\ttest's hr_err: 53.6297\n",
      "[15]\ttrain's hr_err: 5.71032\ttest's hr_err: 56.5115\n",
      "[20]\ttrain's hr_err: 26.9553\ttest's hr_err: 54.9539\n",
      "[25]\ttrain's hr_err: 26.0278\ttest's hr_err: 56.3402\n",
      "[30]\ttrain's hr_err: 26.0278\ttest's hr_err: 56.3427\n",
      "Early stopping, best iteration is:\n",
      "[8]\ttrain's hr_err: 9.41533\ttest's hr_err: 52.5044\n"
     ]
    },
    {
     "name": "stderr",
     "output_type": "stream",
     "text": [
      "/Users/samuelhmorton/opt/anaconda3/lib/python3.7/site-packages/lightgbm/engine.py:260: UserWarning: 'evals_result' argument is deprecated and will be removed in a future release of LightGBM. Pass 'record_evaluation()' callback via 'callbacks' argument instead.\n",
      "  _log_warning(\"'evals_result' argument is deprecated and will be removed in a future release of LightGBM. \"\n"
     ]
    },
    {
     "name": "stdout",
     "output_type": "stream",
     "text": [
      "Training until validation scores don't improve for 50 rounds\n",
      "[10]\ttrain's hr_err: 72.6704\ttest's hr_err: 49.4098\n",
      "[15]\ttrain's hr_err: 75.6015\ttest's hr_err: 52.8524\n",
      "[20]\ttrain's hr_err: 47.8761\ttest's hr_err: 53.7905\n",
      "[25]\ttrain's hr_err: 74.8215\ttest's hr_err: 53.2708\n",
      "[30]\ttrain's hr_err: 75.3235\ttest's hr_err: 52.8447\n",
      "[35]\ttrain's hr_err: 83.7338\ttest's hr_err: 65.8445\n",
      "[40]\ttrain's hr_err: 76.9489\ttest's hr_err: 60.8459\n",
      "[45]\ttrain's hr_err: 78.4146\ttest's hr_err: 62.2073\n",
      "[50]\ttrain's hr_err: 69.6033\ttest's hr_err: 58.9397\n",
      "[55]\ttrain's hr_err: 52.2824\ttest's hr_err: 58.2435\n",
      "[60]\ttrain's hr_err: 52.2824\ttest's hr_err: 58.2435\n",
      "Early stopping, best iteration is:\n",
      "[10]\ttrain's hr_err: 72.6704\ttest's hr_err: 49.4098\n",
      "Before fine-tuning: MSE = 0.10164903147166404, HR error = 50.948408260392895, HR error (squared) = 3161.346434089725\n",
      "\n",
      "\n",
      "Fine-tuning...\n"
     ]
    },
    {
     "name": "stderr",
     "output_type": "stream",
     "text": [
      "/Users/samuelhmorton/opt/anaconda3/lib/python3.7/site-packages/lightgbm/engine.py:260: UserWarning: 'evals_result' argument is deprecated and will be removed in a future release of LightGBM. Pass 'record_evaluation()' callback via 'callbacks' argument instead.\n",
      "  _log_warning(\"'evals_result' argument is deprecated and will be removed in a future release of LightGBM. \"\n"
     ]
    },
    {
     "name": "stdout",
     "output_type": "stream",
     "text": [
      "Training until validation scores don't improve for 25 rounds\n",
      "[15]\ttrain's hr_err: 21.5478\ttest's hr_err: 42.659\n",
      "[20]\ttrain's hr_err: 19.5104\ttest's hr_err: 41.3515\n",
      "[25]\ttrain's hr_err: 19.5069\ttest's hr_err: 39.7842\n",
      "[30]\ttrain's hr_err: 20.6345\ttest's hr_err: 41.1175\n",
      "[35]\ttrain's hr_err: 15.6297\ttest's hr_err: 33.6027\n",
      "[40]\ttrain's hr_err: 39.2696\ttest's hr_err: 45.5535\n",
      "[45]\ttrain's hr_err: 39.2696\ttest's hr_err: 45.5535\n",
      "[50]\ttrain's hr_err: 39.2696\ttest's hr_err: 45.5535\n",
      "[55]\ttrain's hr_err: 39.2696\ttest's hr_err: 45.5535\n",
      "[60]\ttrain's hr_err: 39.2696\ttest's hr_err: 45.5535\n",
      "Early stopping, best iteration is:\n",
      "[35]\ttrain's hr_err: 15.6297\ttest's hr_err: 33.6027\n"
     ]
    },
    {
     "name": "stderr",
     "output_type": "stream",
     "text": [
      "/Users/samuelhmorton/opt/anaconda3/lib/python3.7/site-packages/lightgbm/engine.py:260: UserWarning: 'evals_result' argument is deprecated and will be removed in a future release of LightGBM. Pass 'record_evaluation()' callback via 'callbacks' argument instead.\n",
      "  _log_warning(\"'evals_result' argument is deprecated and will be removed in a future release of LightGBM. \"\n"
     ]
    },
    {
     "name": "stdout",
     "output_type": "stream",
     "text": [
      "Training until validation scores don't improve for 50 rounds\n",
      "[40]\ttrain's hr_err: 62.7673\ttest's hr_err: 43.9318\n",
      "[45]\ttrain's hr_err: 62.7673\ttest's hr_err: 43.9318\n",
      "[50]\ttrain's hr_err: 62.7673\ttest's hr_err: 43.9318\n",
      "[55]\ttrain's hr_err: 62.7673\ttest's hr_err: 43.9318\n",
      "[60]\ttrain's hr_err: 62.7673\ttest's hr_err: 43.9318\n",
      "[65]\ttrain's hr_err: 62.7673\ttest's hr_err: 43.9318\n",
      "[70]\ttrain's hr_err: 62.7673\ttest's hr_err: 43.9318\n",
      "[75]\ttrain's hr_err: 62.7673\ttest's hr_err: 43.9318\n",
      "[80]\ttrain's hr_err: 62.7673\ttest's hr_err: 43.9318\n",
      "[85]\ttrain's hr_err: 62.7673\ttest's hr_err: 43.9318\n",
      "Early stopping, best iteration is:\n",
      "[36]\ttrain's hr_err: 67.2058\ttest's hr_err: 29.7319\n",
      "Before fine-tuning: MSE = 0.08995886492148363, HR error = 33.94661948749434, HR error (squared) = 1418.8002216180619\n",
      "\n",
      "\n",
      "Fine-tuning...\n"
     ]
    },
    {
     "name": "stderr",
     "output_type": "stream",
     "text": [
      "/Users/samuelhmorton/opt/anaconda3/lib/python3.7/site-packages/lightgbm/engine.py:260: UserWarning: 'evals_result' argument is deprecated and will be removed in a future release of LightGBM. Pass 'record_evaluation()' callback via 'callbacks' argument instead.\n",
      "  _log_warning(\"'evals_result' argument is deprecated and will be removed in a future release of LightGBM. \"\n"
     ]
    },
    {
     "name": "stdout",
     "output_type": "stream",
     "text": [
      "Training until validation scores don't improve for 25 rounds\n",
      "[40]\ttrain's hr_err: 18.768\ttest's hr_err: 45.5995\n",
      "[45]\ttrain's hr_err: 4.04336\ttest's hr_err: 57.0588\n",
      "[50]\ttrain's hr_err: 4.04336\ttest's hr_err: 57.0588\n",
      "[55]\ttrain's hr_err: 4.04336\ttest's hr_err: 57.0588\n",
      "[60]\ttrain's hr_err: 4.04336\ttest's hr_err: 57.0588\n",
      "Early stopping, best iteration is:\n",
      "[38]\ttrain's hr_err: 9.78507\ttest's hr_err: 37.4538\n",
      "Finished training in 0:04:35.831438\n",
      "\n",
      "\n",
      "Training excluding subject 2...\n",
      "\n",
      "Rows per batch: 5385\n"
     ]
    },
    {
     "name": "stderr",
     "output_type": "stream",
     "text": [
      "/Users/samuelhmorton/opt/anaconda3/lib/python3.7/site-packages/lightgbm/engine.py:260: UserWarning: 'evals_result' argument is deprecated and will be removed in a future release of LightGBM. Pass 'record_evaluation()' callback via 'callbacks' argument instead.\n",
      "  _log_warning(\"'evals_result' argument is deprecated and will be removed in a future release of LightGBM. \"\n"
     ]
    },
    {
     "name": "stdout",
     "output_type": "stream",
     "text": [
      "Training until validation scores don't improve for 50 rounds\n",
      "[5]\ttrain's hr_err: 49.9039\ttest's hr_err: 52.0887\n",
      "[10]\ttrain's hr_err: 63.3203\ttest's hr_err: 59.1143\n",
      "[15]\ttrain's hr_err: 63.4484\ttest's hr_err: 60.2698\n",
      "[20]\ttrain's hr_err: 59.7516\ttest's hr_err: 53.0522\n",
      "[25]\ttrain's hr_err: 56.7307\ttest's hr_err: 48.1344\n",
      "[30]\ttrain's hr_err: 45.1205\ttest's hr_err: 47.8467\n",
      "[35]\ttrain's hr_err: 52.6253\ttest's hr_err: 46.176\n",
      "[40]\ttrain's hr_err: 49.7937\ttest's hr_err: 47.6163\n",
      "[45]\ttrain's hr_err: 47.1454\ttest's hr_err: 47.7317\n",
      "[50]\ttrain's hr_err: 49.0186\ttest's hr_err: 47.2438\n",
      "[55]\ttrain's hr_err: 49.0186\ttest's hr_err: 47.2438\n",
      "[60]\ttrain's hr_err: 49.0297\ttest's hr_err: 47.2438\n",
      "[65]\ttrain's hr_err: 49.0297\ttest's hr_err: 47.2385\n",
      "[70]\ttrain's hr_err: 49.0434\ttest's hr_err: 47.2385\n",
      "[75]\ttrain's hr_err: 49.0434\ttest's hr_err: 47.2385\n",
      "[80]\ttrain's hr_err: 49.0297\ttest's hr_err: 47.2385\n",
      "[85]\ttrain's hr_err: 49.0434\ttest's hr_err: 49.673\n",
      "Early stopping, best iteration is:\n",
      "[35]\ttrain's hr_err: 52.6253\ttest's hr_err: 46.176\n",
      "Before fine-tuning: MSE = 0.09920767476159525, HR error = 49.114381267659596, HR error (squared) = 3029.211674522586\n",
      "\n",
      "\n",
      "Fine-tuning...\n"
     ]
    },
    {
     "name": "stderr",
     "output_type": "stream",
     "text": [
      "/Users/samuelhmorton/opt/anaconda3/lib/python3.7/site-packages/lightgbm/engine.py:260: UserWarning: 'evals_result' argument is deprecated and will be removed in a future release of LightGBM. Pass 'record_evaluation()' callback via 'callbacks' argument instead.\n",
      "  _log_warning(\"'evals_result' argument is deprecated and will be removed in a future release of LightGBM. \"\n"
     ]
    },
    {
     "name": "stdout",
     "output_type": "stream",
     "text": [
      "Training until validation scores don't improve for 25 rounds\n",
      "[40]\ttrain's hr_err: 28.858\ttest's hr_err: 48.6226\n",
      "[45]\ttrain's hr_err: 28.858\ttest's hr_err: 48.6226\n",
      "[50]\ttrain's hr_err: 28.0719\ttest's hr_err: 50.9353\n",
      "[55]\ttrain's hr_err: 28.0364\ttest's hr_err: 50.9275\n",
      "[60]\ttrain's hr_err: 20.9323\ttest's hr_err: 48.117\n",
      "[65]\ttrain's hr_err: 31.6115\ttest's hr_err: 69.1837\n",
      "[70]\ttrain's hr_err: 31.6115\ttest's hr_err: 69.1837\n",
      "[75]\ttrain's hr_err: 31.6115\ttest's hr_err: 69.1837\n",
      "[80]\ttrain's hr_err: 31.6115\ttest's hr_err: 69.1837\n",
      "[85]\ttrain's hr_err: 31.6115\ttest's hr_err: 69.1837\n",
      "Early stopping, best iteration is:\n",
      "[61]\ttrain's hr_err: 19.1172\ttest's hr_err: 46.0141\n"
     ]
    },
    {
     "name": "stderr",
     "output_type": "stream",
     "text": [
      "/Users/samuelhmorton/opt/anaconda3/lib/python3.7/site-packages/lightgbm/engine.py:260: UserWarning: 'evals_result' argument is deprecated and will be removed in a future release of LightGBM. Pass 'record_evaluation()' callback via 'callbacks' argument instead.\n",
      "  _log_warning(\"'evals_result' argument is deprecated and will be removed in a future release of LightGBM. \"\n"
     ]
    },
    {
     "name": "stdout",
     "output_type": "stream",
     "text": [
      "Training until validation scores don't improve for 50 rounds\n",
      "[65]\ttrain's hr_err: 63.3365\ttest's hr_err: 44.7737\n",
      "[70]\ttrain's hr_err: 63.3365\ttest's hr_err: 44.7737\n",
      "[75]\ttrain's hr_err: 63.3365\ttest's hr_err: 44.7737\n",
      "[80]\ttrain's hr_err: 63.3365\ttest's hr_err: 44.7737\n",
      "[85]\ttrain's hr_err: 63.3365\ttest's hr_err: 44.7737\n",
      "[90]\ttrain's hr_err: 63.3365\ttest's hr_err: 44.7737\n",
      "[95]\ttrain's hr_err: 63.3365\ttest's hr_err: 44.7737\n",
      "[100]\ttrain's hr_err: 63.3365\ttest's hr_err: 44.7737\n",
      "[105]\ttrain's hr_err: 63.3365\ttest's hr_err: 44.7737\n",
      "[110]\ttrain's hr_err: 63.3365\ttest's hr_err: 44.7737\n",
      "[115]\ttrain's hr_err: 63.3365\ttest's hr_err: 44.7737\n",
      "Early stopping, best iteration is:\n",
      "[65]\ttrain's hr_err: 63.3365\ttest's hr_err: 44.7737\n",
      "Before fine-tuning: MSE = 0.1072324334232926, HR error = 47.939696307930305, HR error (squared) = 3160.0070720982317\n",
      "\n",
      "\n",
      "Fine-tuning...\n"
     ]
    },
    {
     "name": "stderr",
     "output_type": "stream",
     "text": [
      "/Users/samuelhmorton/opt/anaconda3/lib/python3.7/site-packages/lightgbm/engine.py:260: UserWarning: 'evals_result' argument is deprecated and will be removed in a future release of LightGBM. Pass 'record_evaluation()' callback via 'callbacks' argument instead.\n",
      "  _log_warning(\"'evals_result' argument is deprecated and will be removed in a future release of LightGBM. \"\n"
     ]
    },
    {
     "name": "stdout",
     "output_type": "stream",
     "text": [
      "Training until validation scores don't improve for 25 rounds\n",
      "[70]\ttrain's hr_err: 17.4545\ttest's hr_err: 44.7737\n",
      "[75]\ttrain's hr_err: 17.4545\ttest's hr_err: 44.7737\n",
      "[80]\ttrain's hr_err: 17.4545\ttest's hr_err: 44.7737\n",
      "[85]\ttrain's hr_err: 17.4545\ttest's hr_err: 44.7737\n",
      "[90]\ttrain's hr_err: 17.4545\ttest's hr_err: 44.7737\n",
      "Early stopping, best iteration is:\n",
      "[66]\ttrain's hr_err: 17.4545\ttest's hr_err: 44.7737\n"
     ]
    },
    {
     "name": "stderr",
     "output_type": "stream",
     "text": [
      "/Users/samuelhmorton/opt/anaconda3/lib/python3.7/site-packages/lightgbm/engine.py:260: UserWarning: 'evals_result' argument is deprecated and will be removed in a future release of LightGBM. Pass 'record_evaluation()' callback via 'callbacks' argument instead.\n",
      "  _log_warning(\"'evals_result' argument is deprecated and will be removed in a future release of LightGBM. \"\n"
     ]
    },
    {
     "name": "stdout",
     "output_type": "stream",
     "text": [
      "Training until validation scores don't improve for 50 rounds\n",
      "[70]\ttrain's hr_err: 50.9463\ttest's hr_err: 44.7737\n",
      "[75]\ttrain's hr_err: 50.9463\ttest's hr_err: 44.7737\n",
      "[80]\ttrain's hr_err: 50.9463\ttest's hr_err: 44.7737\n",
      "[85]\ttrain's hr_err: 50.9463\ttest's hr_err: 44.7737\n",
      "[90]\ttrain's hr_err: 50.9463\ttest's hr_err: 44.7737\n",
      "[95]\ttrain's hr_err: 50.9463\ttest's hr_err: 44.7737\n",
      "[100]\ttrain's hr_err: 50.9463\ttest's hr_err: 44.7737\n",
      "[105]\ttrain's hr_err: 50.9463\ttest's hr_err: 44.7737\n",
      "[110]\ttrain's hr_err: 50.9463\ttest's hr_err: 44.7737\n",
      "[115]\ttrain's hr_err: 50.9463\ttest's hr_err: 44.7737\n",
      "Early stopping, best iteration is:\n",
      "[66]\ttrain's hr_err: 50.9463\ttest's hr_err: 44.7737\n",
      "Before fine-tuning: MSE = 0.1072324334232926, HR error = 47.939696307930305, HR error (squared) = 3160.0070720982317\n",
      "\n",
      "\n",
      "Fine-tuning...\n"
     ]
    },
    {
     "name": "stderr",
     "output_type": "stream",
     "text": [
      "/Users/samuelhmorton/opt/anaconda3/lib/python3.7/site-packages/lightgbm/engine.py:260: UserWarning: 'evals_result' argument is deprecated and will be removed in a future release of LightGBM. Pass 'record_evaluation()' callback via 'callbacks' argument instead.\n",
      "  _log_warning(\"'evals_result' argument is deprecated and will be removed in a future release of LightGBM. \"\n"
     ]
    },
    {
     "name": "stdout",
     "output_type": "stream",
     "text": [
      "Training until validation scores don't improve for 25 rounds\n",
      "[70]\ttrain's hr_err: 15.3084\ttest's hr_err: 44.7737\n",
      "[75]\ttrain's hr_err: 15.3084\ttest's hr_err: 44.7737\n",
      "[80]\ttrain's hr_err: 15.3084\ttest's hr_err: 44.7737\n",
      "[85]\ttrain's hr_err: 15.3084\ttest's hr_err: 44.7737\n",
      "[90]\ttrain's hr_err: 15.3084\ttest's hr_err: 44.7737\n",
      "Early stopping, best iteration is:\n",
      "[66]\ttrain's hr_err: 15.3084\ttest's hr_err: 44.7737\n"
     ]
    },
    {
     "name": "stderr",
     "output_type": "stream",
     "text": [
      "/Users/samuelhmorton/opt/anaconda3/lib/python3.7/site-packages/lightgbm/engine.py:260: UserWarning: 'evals_result' argument is deprecated and will be removed in a future release of LightGBM. Pass 'record_evaluation()' callback via 'callbacks' argument instead.\n",
      "  _log_warning(\"'evals_result' argument is deprecated and will be removed in a future release of LightGBM. \"\n"
     ]
    },
    {
     "name": "stdout",
     "output_type": "stream",
     "text": [
      "Training until validation scores don't improve for 50 rounds\n",
      "[70]\ttrain's hr_err: 68.2984\ttest's hr_err: 44.7737\n",
      "[75]\ttrain's hr_err: 68.2984\ttest's hr_err: 44.7737\n",
      "[80]\ttrain's hr_err: 68.2984\ttest's hr_err: 44.7737\n",
      "[85]\ttrain's hr_err: 68.2984\ttest's hr_err: 44.7737\n",
      "[90]\ttrain's hr_err: 68.2984\ttest's hr_err: 44.7737\n",
      "[95]\ttrain's hr_err: 68.2984\ttest's hr_err: 44.7737\n",
      "[100]\ttrain's hr_err: 68.2984\ttest's hr_err: 44.7737\n",
      "[105]\ttrain's hr_err: 68.2984\ttest's hr_err: 44.7737\n",
      "[110]\ttrain's hr_err: 68.2984\ttest's hr_err: 44.7737\n",
      "[115]\ttrain's hr_err: 68.2984\ttest's hr_err: 44.7737\n",
      "Early stopping, best iteration is:\n",
      "[66]\ttrain's hr_err: 68.2984\ttest's hr_err: 44.7737\n",
      "Before fine-tuning: MSE = 0.1072324334232926, HR error = 47.939696307930305, HR error (squared) = 3160.0070720982317\n",
      "\n",
      "\n",
      "Fine-tuning...\n"
     ]
    },
    {
     "name": "stderr",
     "output_type": "stream",
     "text": [
      "/Users/samuelhmorton/opt/anaconda3/lib/python3.7/site-packages/lightgbm/engine.py:260: UserWarning: 'evals_result' argument is deprecated and will be removed in a future release of LightGBM. Pass 'record_evaluation()' callback via 'callbacks' argument instead.\n",
      "  _log_warning(\"'evals_result' argument is deprecated and will be removed in a future release of LightGBM. \"\n"
     ]
    },
    {
     "name": "stdout",
     "output_type": "stream",
     "text": [
      "Training until validation scores don't improve for 25 rounds\n",
      "[70]\ttrain's hr_err: 16.9731\ttest's hr_err: 44.7737\n",
      "[75]\ttrain's hr_err: 16.9731\ttest's hr_err: 44.7737\n",
      "[80]\ttrain's hr_err: 16.9731\ttest's hr_err: 44.7737\n",
      "[85]\ttrain's hr_err: 16.9731\ttest's hr_err: 44.7737\n",
      "[90]\ttrain's hr_err: 16.9731\ttest's hr_err: 44.7737\n",
      "Early stopping, best iteration is:\n",
      "[66]\ttrain's hr_err: 16.9731\ttest's hr_err: 44.7737\n",
      "Finished training in 0:04:32.142565\n",
      "\n",
      "\n",
      "Training excluding subject 3...\n",
      "\n",
      "Rows per batch: 5385\n"
     ]
    },
    {
     "name": "stderr",
     "output_type": "stream",
     "text": [
      "/Users/samuelhmorton/opt/anaconda3/lib/python3.7/site-packages/lightgbm/engine.py:260: UserWarning: 'evals_result' argument is deprecated and will be removed in a future release of LightGBM. Pass 'record_evaluation()' callback via 'callbacks' argument instead.\n",
      "  _log_warning(\"'evals_result' argument is deprecated and will be removed in a future release of LightGBM. \"\n"
     ]
    },
    {
     "name": "stdout",
     "output_type": "stream",
     "text": [
      "Training until validation scores don't improve for 50 rounds\n",
      "[5]\ttrain's hr_err: 55.5518\ttest's hr_err: 40.4045\n",
      "[10]\ttrain's hr_err: 53.5212\ttest's hr_err: 47.5827\n",
      "[15]\ttrain's hr_err: 56.3987\ttest's hr_err: 54.8544\n",
      "[20]\ttrain's hr_err: 60.8941\ttest's hr_err: 40.6902\n",
      "[25]\ttrain's hr_err: 61.7082\ttest's hr_err: 53.547\n",
      "[30]\ttrain's hr_err: 56.4368\ttest's hr_err: 53.7342\n",
      "[35]\ttrain's hr_err: 54.4928\ttest's hr_err: 52.8236\n",
      "[40]\ttrain's hr_err: 53.3844\ttest's hr_err: 52.8356\n",
      "[45]\ttrain's hr_err: 54.1027\ttest's hr_err: 52.834\n",
      "[50]\ttrain's hr_err: 54.1027\ttest's hr_err: 53.4494\n",
      "[55]\ttrain's hr_err: 54.1117\ttest's hr_err: 53.4494\n",
      "Early stopping, best iteration is:\n",
      "[9]\ttrain's hr_err: 51.4658\ttest's hr_err: 39.5406\n",
      "Before fine-tuning: MSE = 0.08593315009619623, HR error = 49.79364967849597, HR error (squared) = 3022.0724524807115\n",
      "\n",
      "\n",
      "Fine-tuning...\n"
     ]
    },
    {
     "name": "stderr",
     "output_type": "stream",
     "text": [
      "/Users/samuelhmorton/opt/anaconda3/lib/python3.7/site-packages/lightgbm/engine.py:260: UserWarning: 'evals_result' argument is deprecated and will be removed in a future release of LightGBM. Pass 'record_evaluation()' callback via 'callbacks' argument instead.\n",
      "  _log_warning(\"'evals_result' argument is deprecated and will be removed in a future release of LightGBM. \"\n"
     ]
    },
    {
     "name": "stdout",
     "output_type": "stream",
     "text": [
      "[10]\ttrain's hr_err: 17.2158\ttest's hr_err: 49.4766\n",
      "Training until validation scores don't improve for 25 rounds\n",
      "[15]\ttrain's hr_err: 10.4431\ttest's hr_err: 53.9511\n",
      "[20]\ttrain's hr_err: 14.8111\ttest's hr_err: 55.4702\n",
      "[25]\ttrain's hr_err: 14.8036\ttest's hr_err: 52.5513\n",
      "[30]\ttrain's hr_err: 14.8036\ttest's hr_err: 52.5513\n",
      "[35]\ttrain's hr_err: 15.8387\ttest's hr_err: 52.9133\n",
      "Early stopping, best iteration is:\n",
      "[10]\ttrain's hr_err: 17.2158\ttest's hr_err: 49.4766\n"
     ]
    },
    {
     "name": "stderr",
     "output_type": "stream",
     "text": [
      "/Users/samuelhmorton/opt/anaconda3/lib/python3.7/site-packages/lightgbm/engine.py:260: UserWarning: 'evals_result' argument is deprecated and will be removed in a future release of LightGBM. Pass 'record_evaluation()' callback via 'callbacks' argument instead.\n",
      "  _log_warning(\"'evals_result' argument is deprecated and will be removed in a future release of LightGBM. \"\n"
     ]
    },
    {
     "name": "stdout",
     "output_type": "stream",
     "text": [
      "Training until validation scores don't improve for 50 rounds\n",
      "[15]\ttrain's hr_err: 78.6079\ttest's hr_err: 59.4614\n",
      "[20]\ttrain's hr_err: 78.6079\ttest's hr_err: 45.5102\n",
      "[25]\ttrain's hr_err: 78.6079\ttest's hr_err: 48.3577\n",
      "[30]\ttrain's hr_err: 70.0746\ttest's hr_err: 47.8193\n",
      "[35]\ttrain's hr_err: 68.0915\ttest's hr_err: 49.6405\n",
      "[40]\ttrain's hr_err: 68.0915\ttest's hr_err: 49.6405\n",
      "[45]\ttrain's hr_err: 68.0915\ttest's hr_err: 49.6405\n",
      "[50]\ttrain's hr_err: 68.0915\ttest's hr_err: 49.6342\n",
      "[55]\ttrain's hr_err: 64.8563\ttest's hr_err: 54.7849\n",
      "[60]\ttrain's hr_err: 64.8563\ttest's hr_err: 54.7849\n",
      "[65]\ttrain's hr_err: 64.8563\ttest's hr_err: 54.7849\n",
      "[70]\ttrain's hr_err: 64.8563\ttest's hr_err: 54.7849\n",
      "Early stopping, best iteration is:\n",
      "[22]\ttrain's hr_err: 78.6079\ttest's hr_err: 44.5591\n",
      "Before fine-tuning: MSE = 0.10179915108264771, HR error = 48.74667826795045, HR error (squared) = 3016.691120135032\n",
      "\n",
      "\n",
      "Fine-tuning...\n"
     ]
    },
    {
     "name": "stderr",
     "output_type": "stream",
     "text": [
      "/Users/samuelhmorton/opt/anaconda3/lib/python3.7/site-packages/lightgbm/engine.py:260: UserWarning: 'evals_result' argument is deprecated and will be removed in a future release of LightGBM. Pass 'record_evaluation()' callback via 'callbacks' argument instead.\n",
      "  _log_warning(\"'evals_result' argument is deprecated and will be removed in a future release of LightGBM. \"\n"
     ]
    },
    {
     "name": "stdout",
     "output_type": "stream",
     "text": [
      "Training until validation scores don't improve for 25 rounds\n",
      "[25]\ttrain's hr_err: 26.4828\ttest's hr_err: 48.3577\n",
      "[30]\ttrain's hr_err: 35.0161\ttest's hr_err: 47.8193\n",
      "[35]\ttrain's hr_err: 37.2997\ttest's hr_err: 49.6405\n",
      "[40]\ttrain's hr_err: 37.2997\ttest's hr_err: 49.6405\n",
      "[45]\ttrain's hr_err: 37.2997\ttest's hr_err: 49.6405\n",
      "Early stopping, best iteration is:\n",
      "[24]\ttrain's hr_err: 26.4828\ttest's hr_err: 47.0981\n"
     ]
    },
    {
     "name": "stderr",
     "output_type": "stream",
     "text": [
      "/Users/samuelhmorton/opt/anaconda3/lib/python3.7/site-packages/lightgbm/engine.py:260: UserWarning: 'evals_result' argument is deprecated and will be removed in a future release of LightGBM. Pass 'record_evaluation()' callback via 'callbacks' argument instead.\n",
      "  _log_warning(\"'evals_result' argument is deprecated and will be removed in a future release of LightGBM. \"\n"
     ]
    },
    {
     "name": "stdout",
     "output_type": "stream",
     "text": [
      "[25]\ttrain's hr_err: 67.7959\ttest's hr_err: 49.1638\n",
      "Training until validation scores don't improve for 50 rounds\n",
      "[30]\ttrain's hr_err: 67.7959\ttest's hr_err: 48.6644\n",
      "[35]\ttrain's hr_err: 67.7991\ttest's hr_err: 48.2841\n",
      "[40]\ttrain's hr_err: 67.7991\ttest's hr_err: 37.4066\n",
      "[45]\ttrain's hr_err: 67.7991\ttest's hr_err: 37.4066\n",
      "[50]\ttrain's hr_err: 67.7991\ttest's hr_err: 48.2673\n",
      "[55]\ttrain's hr_err: 70.9491\ttest's hr_err: 52.0115\n",
      "[60]\ttrain's hr_err: 47.3779\ttest's hr_err: 54.9879\n",
      "[65]\ttrain's hr_err: 47.3779\ttest's hr_err: 54.9879\n",
      "[70]\ttrain's hr_err: 47.3779\ttest's hr_err: 54.9879\n",
      "[75]\ttrain's hr_err: 47.3779\ttest's hr_err: 54.9879\n",
      "[80]\ttrain's hr_err: 47.3779\ttest's hr_err: 54.9879\n",
      "[85]\ttrain's hr_err: 47.3779\ttest's hr_err: 54.9879\n",
      "[90]\ttrain's hr_err: 47.3779\ttest's hr_err: 54.9879\n",
      "[95]\ttrain's hr_err: 47.3779\ttest's hr_err: 54.9879\n",
      "Early stopping, best iteration is:\n",
      "[48]\ttrain's hr_err: 67.7991\ttest's hr_err: 37.4002\n",
      "Before fine-tuning: MSE = 0.1007782038339594, HR error = 46.22220331318782, HR error (squared) = 2518.8446240255466\n",
      "\n",
      "\n",
      "Fine-tuning...\n"
     ]
    },
    {
     "name": "stderr",
     "output_type": "stream",
     "text": [
      "/Users/samuelhmorton/opt/anaconda3/lib/python3.7/site-packages/lightgbm/engine.py:260: UserWarning: 'evals_result' argument is deprecated and will be removed in a future release of LightGBM. Pass 'record_evaluation()' callback via 'callbacks' argument instead.\n",
      "  _log_warning(\"'evals_result' argument is deprecated and will be removed in a future release of LightGBM. \"\n"
     ]
    },
    {
     "name": "stdout",
     "output_type": "stream",
     "text": [
      "Training until validation scores don't improve for 25 rounds\n",
      "[50]\ttrain's hr_err: 1.87383\ttest's hr_err: 47.7861\n",
      "[55]\ttrain's hr_err: 7.39251\ttest's hr_err: 55.3743\n",
      "[60]\ttrain's hr_err: 7.39251\ttest's hr_err: 55.3743\n",
      "[65]\ttrain's hr_err: 7.39251\ttest's hr_err: 55.3743\n",
      "[70]\ttrain's hr_err: 7.39251\ttest's hr_err: 55.3743\n",
      "[75]\ttrain's hr_err: 7.39251\ttest's hr_err: 55.3743\n",
      "Early stopping, best iteration is:\n",
      "[50]\ttrain's hr_err: 1.87383\ttest's hr_err: 47.7861\n"
     ]
    },
    {
     "name": "stderr",
     "output_type": "stream",
     "text": [
      "/Users/samuelhmorton/opt/anaconda3/lib/python3.7/site-packages/lightgbm/engine.py:260: UserWarning: 'evals_result' argument is deprecated and will be removed in a future release of LightGBM. Pass 'record_evaluation()' callback via 'callbacks' argument instead.\n",
      "  _log_warning(\"'evals_result' argument is deprecated and will be removed in a future release of LightGBM. \"\n"
     ]
    },
    {
     "name": "stdout",
     "output_type": "stream",
     "text": [
      "Training until validation scores don't improve for 50 rounds\n",
      "[55]\ttrain's hr_err: 63.7149\ttest's hr_err: 67.3981\n",
      "[60]\ttrain's hr_err: 63.7149\ttest's hr_err: 67.3981\n",
      "[65]\ttrain's hr_err: 63.7149\ttest's hr_err: 67.3981\n",
      "[70]\ttrain's hr_err: 63.7149\ttest's hr_err: 67.3981\n",
      "[75]\ttrain's hr_err: 63.7149\ttest's hr_err: 67.3981\n",
      "[80]\ttrain's hr_err: 63.7149\ttest's hr_err: 67.3981\n",
      "[85]\ttrain's hr_err: 63.7149\ttest's hr_err: 67.3981\n",
      "[90]\ttrain's hr_err: 63.7149\ttest's hr_err: 67.3981\n",
      "[95]\ttrain's hr_err: 63.7149\ttest's hr_err: 67.3981\n",
      "[100]\ttrain's hr_err: 63.7149\ttest's hr_err: 67.3981\n",
      "Early stopping, best iteration is:\n",
      "[51]\ttrain's hr_err: 59.6656\ttest's hr_err: 38.9659\n",
      "Before fine-tuning: MSE = 0.10121389772939184, HR error = 39.22513004712569, HR error (squared) = 1931.3890833983\n",
      "\n",
      "\n",
      "Fine-tuning...\n"
     ]
    },
    {
     "name": "stderr",
     "output_type": "stream",
     "text": [
      "/Users/samuelhmorton/opt/anaconda3/lib/python3.7/site-packages/lightgbm/engine.py:260: UserWarning: 'evals_result' argument is deprecated and will be removed in a future release of LightGBM. Pass 'record_evaluation()' callback via 'callbacks' argument instead.\n",
      "  _log_warning(\"'evals_result' argument is deprecated and will be removed in a future release of LightGBM. \"\n"
     ]
    },
    {
     "name": "stdout",
     "output_type": "stream",
     "text": [
      "Training until validation scores don't improve for 25 rounds\n",
      "[55]\ttrain's hr_err: 20.6811\ttest's hr_err: 51.4754\n",
      "[60]\ttrain's hr_err: 20.6811\ttest's hr_err: 51.4754\n",
      "[65]\ttrain's hr_err: 20.6811\ttest's hr_err: 51.4754\n",
      "[70]\ttrain's hr_err: 20.6811\ttest's hr_err: 51.4754\n",
      "[75]\ttrain's hr_err: 20.6811\ttest's hr_err: 51.4754\n",
      "Early stopping, best iteration is:\n",
      "[52]\ttrain's hr_err: 23.791\ttest's hr_err: 47.7648\n",
      "Finished training in 0:04:19.539918\n",
      "\n",
      "\n",
      "Training excluding subject 4...\n",
      "\n",
      "Rows per batch: 6462\n"
     ]
    },
    {
     "name": "stderr",
     "output_type": "stream",
     "text": [
      "/Users/samuelhmorton/opt/anaconda3/lib/python3.7/site-packages/lightgbm/engine.py:260: UserWarning: 'evals_result' argument is deprecated and will be removed in a future release of LightGBM. Pass 'record_evaluation()' callback via 'callbacks' argument instead.\n",
      "  _log_warning(\"'evals_result' argument is deprecated and will be removed in a future release of LightGBM. \"\n"
     ]
    },
    {
     "name": "stdout",
     "output_type": "stream",
     "text": [
      "Training until validation scores don't improve for 50 rounds\n",
      "[5]\ttrain's hr_err: 57.8614\ttest's hr_err: 52.7087\n",
      "[10]\ttrain's hr_err: 67.8434\ttest's hr_err: 54.5284\n",
      "[15]\ttrain's hr_err: 59.6453\ttest's hr_err: 46.3471\n",
      "[20]\ttrain's hr_err: 52.9641\ttest's hr_err: 49.7573\n",
      "[25]\ttrain's hr_err: 43.7566\ttest's hr_err: 44.2273\n",
      "[30]\ttrain's hr_err: 66.5849\ttest's hr_err: 57.6592\n",
      "[35]\ttrain's hr_err: 67.1192\ttest's hr_err: 55.8523\n",
      "[40]\ttrain's hr_err: 73.0669\ttest's hr_err: 54.5075\n",
      "[45]\ttrain's hr_err: 66.9199\ttest's hr_err: 52.1249\n",
      "[50]\ttrain's hr_err: 75.2169\ttest's hr_err: 49.6304\n",
      "[55]\ttrain's hr_err: 72.9164\ttest's hr_err: 56.2527\n",
      "[60]\ttrain's hr_err: 72.5195\ttest's hr_err: 54.2532\n",
      "[65]\ttrain's hr_err: 74.1216\ttest's hr_err: 58.0858\n",
      "[70]\ttrain's hr_err: 69.8989\ttest's hr_err: 55.9099\n",
      "[75]\ttrain's hr_err: 69.8639\ttest's hr_err: 47.8769\n",
      "Early stopping, best iteration is:\n",
      "[25]\ttrain's hr_err: 43.7566\ttest's hr_err: 44.2273\n",
      "Before fine-tuning: MSE = 0.0840222213136868, HR error = 48.293474084145146, HR error (squared) = 3003.6464349998296\n",
      "\n",
      "\n",
      "Fine-tuning...\n"
     ]
    },
    {
     "name": "stderr",
     "output_type": "stream",
     "text": [
      "/Users/samuelhmorton/opt/anaconda3/lib/python3.7/site-packages/lightgbm/engine.py:260: UserWarning: 'evals_result' argument is deprecated and will be removed in a future release of LightGBM. Pass 'record_evaluation()' callback via 'callbacks' argument instead.\n",
      "  _log_warning(\"'evals_result' argument is deprecated and will be removed in a future release of LightGBM. \"\n"
     ]
    },
    {
     "name": "stdout",
     "output_type": "stream",
     "text": [
      "Training until validation scores don't improve for 25 rounds\n",
      "[30]\ttrain's hr_err: 20.4602\ttest's hr_err: 45.3262\n",
      "[35]\ttrain's hr_err: 20.4602\ttest's hr_err: 45.3262\n",
      "[40]\ttrain's hr_err: 20.4602\ttest's hr_err: 45.3262\n",
      "[45]\ttrain's hr_err: 33.0788\ttest's hr_err: 47.9738\n",
      "[50]\ttrain's hr_err: 26.2168\ttest's hr_err: 49.7004\n",
      "Early stopping, best iteration is:\n",
      "[26]\ttrain's hr_err: 20.4602\ttest's hr_err: 45.0824\n"
     ]
    },
    {
     "name": "stderr",
     "output_type": "stream",
     "text": [
      "/Users/samuelhmorton/opt/anaconda3/lib/python3.7/site-packages/lightgbm/engine.py:260: UserWarning: 'evals_result' argument is deprecated and will be removed in a future release of LightGBM. Pass 'record_evaluation()' callback via 'callbacks' argument instead.\n",
      "  _log_warning(\"'evals_result' argument is deprecated and will be removed in a future release of LightGBM. \"\n"
     ]
    },
    {
     "name": "stdout",
     "output_type": "stream",
     "text": [
      "Training until validation scores don't improve for 50 rounds\n",
      "[30]\ttrain's hr_err: 44.5672\ttest's hr_err: 45.6631\n",
      "[35]\ttrain's hr_err: 41.9727\ttest's hr_err: 41.4384\n",
      "[40]\ttrain's hr_err: 44.5982\ttest's hr_err: 42.3458\n",
      "[45]\ttrain's hr_err: 44.394\ttest's hr_err: 40.2077\n",
      "[50]\ttrain's hr_err: 45.1893\ttest's hr_err: 42.0944\n",
      "[55]\ttrain's hr_err: 45.0242\ttest's hr_err: 41.0125\n",
      "[60]\ttrain's hr_err: 41.0219\ttest's hr_err: 45.6645\n",
      "[65]\ttrain's hr_err: 53.953\ttest's hr_err: 48.7687\n",
      "[70]\ttrain's hr_err: 63.5459\ttest's hr_err: 63.8372\n",
      "[75]\ttrain's hr_err: 63.5459\ttest's hr_err: 63.8372\n",
      "[80]\ttrain's hr_err: 63.5459\ttest's hr_err: 63.8372\n",
      "[85]\ttrain's hr_err: 63.5459\ttest's hr_err: 63.8372\n",
      "[90]\ttrain's hr_err: 63.5459\ttest's hr_err: 63.8372\n",
      "[95]\ttrain's hr_err: 63.5459\ttest's hr_err: 63.8372\n",
      "[100]\ttrain's hr_err: 63.5459\ttest's hr_err: 63.8372\n",
      "[105]\ttrain's hr_err: 63.5459\ttest's hr_err: 63.8372\n",
      "[110]\ttrain's hr_err: 63.5459\ttest's hr_err: 63.8372\n",
      "Early stopping, best iteration is:\n",
      "[62]\ttrain's hr_err: 46.2639\ttest's hr_err: 36.7668\n",
      "Before fine-tuning: MSE = 0.08219803487416699, HR error = 37.120429007002116, HR error (squared) = 1945.7537293354426\n",
      "\n",
      "\n",
      "Fine-tuning...\n"
     ]
    },
    {
     "name": "stderr",
     "output_type": "stream",
     "text": [
      "/Users/samuelhmorton/opt/anaconda3/lib/python3.7/site-packages/lightgbm/engine.py:260: UserWarning: 'evals_result' argument is deprecated and will be removed in a future release of LightGBM. Pass 'record_evaluation()' callback via 'callbacks' argument instead.\n",
      "  _log_warning(\"'evals_result' argument is deprecated and will be removed in a future release of LightGBM. \"\n"
     ]
    },
    {
     "name": "stdout",
     "output_type": "stream",
     "text": [
      "Training until validation scores don't improve for 25 rounds\n",
      "[65]\ttrain's hr_err: 28.5976\ttest's hr_err: 48.0243\n",
      "[70]\ttrain's hr_err: 9.91823\ttest's hr_err: 53.6999\n",
      "[75]\ttrain's hr_err: 9.91823\ttest's hr_err: 53.6999\n",
      "[80]\ttrain's hr_err: 9.91823\ttest's hr_err: 53.6999\n",
      "[85]\ttrain's hr_err: 9.91823\ttest's hr_err: 53.6999\n",
      "Early stopping, best iteration is:\n",
      "[63]\ttrain's hr_err: 24.154\ttest's hr_err: 42.7708\n"
     ]
    },
    {
     "name": "stderr",
     "output_type": "stream",
     "text": [
      "/Users/samuelhmorton/opt/anaconda3/lib/python3.7/site-packages/lightgbm/engine.py:260: UserWarning: 'evals_result' argument is deprecated and will be removed in a future release of LightGBM. Pass 'record_evaluation()' callback via 'callbacks' argument instead.\n",
      "  _log_warning(\"'evals_result' argument is deprecated and will be removed in a future release of LightGBM. \"\n"
     ]
    },
    {
     "name": "stdout",
     "output_type": "stream",
     "text": [
      "Training until validation scores don't improve for 50 rounds\n",
      "[65]\ttrain's hr_err: 56.6761\ttest's hr_err: 43.6343\n",
      "[70]\ttrain's hr_err: 57.5757\ttest's hr_err: 56.719\n",
      "[75]\ttrain's hr_err: 57.5757\ttest's hr_err: 56.719\n",
      "[80]\ttrain's hr_err: 57.5757\ttest's hr_err: 56.719\n",
      "[85]\ttrain's hr_err: 57.5757\ttest's hr_err: 56.719\n",
      "[90]\ttrain's hr_err: 57.5757\ttest's hr_err: 56.719\n",
      "[95]\ttrain's hr_err: 57.5757\ttest's hr_err: 56.719\n",
      "[100]\ttrain's hr_err: 57.5757\ttest's hr_err: 56.719\n",
      "[105]\ttrain's hr_err: 57.5757\ttest's hr_err: 56.719\n",
      "[110]\ttrain's hr_err: 57.5757\ttest's hr_err: 56.719\n",
      "[115]\ttrain's hr_err: 57.5757\ttest's hr_err: 56.719\n",
      "Early stopping, best iteration is:\n",
      "[65]\ttrain's hr_err: 56.6761\ttest's hr_err: 43.6343\n",
      "Before fine-tuning: MSE = 0.09062626244157605, HR error = 43.346382081376255, HR error (squared) = 2720.5040351989605\n",
      "\n",
      "\n",
      "Fine-tuning...\n"
     ]
    },
    {
     "name": "stderr",
     "output_type": "stream",
     "text": [
      "/Users/samuelhmorton/opt/anaconda3/lib/python3.7/site-packages/lightgbm/engine.py:260: UserWarning: 'evals_result' argument is deprecated and will be removed in a future release of LightGBM. Pass 'record_evaluation()' callback via 'callbacks' argument instead.\n",
      "  _log_warning(\"'evals_result' argument is deprecated and will be removed in a future release of LightGBM. \"\n"
     ]
    },
    {
     "name": "stdout",
     "output_type": "stream",
     "text": [
      "Training until validation scores don't improve for 25 rounds\n",
      "[70]\ttrain's hr_err: 36.5176\ttest's hr_err: 50.9643\n",
      "[75]\ttrain's hr_err: 36.5176\ttest's hr_err: 50.9643\n",
      "[80]\ttrain's hr_err: 36.5176\ttest's hr_err: 50.9643\n",
      "[85]\ttrain's hr_err: 36.5176\ttest's hr_err: 50.9643\n",
      "[90]\ttrain's hr_err: 36.5176\ttest's hr_err: 50.9643\n",
      "Early stopping, best iteration is:\n",
      "[66]\ttrain's hr_err: 12.2742\ttest's hr_err: 50.7429\n"
     ]
    },
    {
     "name": "stderr",
     "output_type": "stream",
     "text": [
      "/Users/samuelhmorton/opt/anaconda3/lib/python3.7/site-packages/lightgbm/engine.py:260: UserWarning: 'evals_result' argument is deprecated and will be removed in a future release of LightGBM. Pass 'record_evaluation()' callback via 'callbacks' argument instead.\n",
      "  _log_warning(\"'evals_result' argument is deprecated and will be removed in a future release of LightGBM. \"\n"
     ]
    },
    {
     "name": "stdout",
     "output_type": "stream",
     "text": [
      "Training until validation scores don't improve for 50 rounds\n",
      "[70]\ttrain's hr_err: 34.3551\ttest's hr_err: 42.9394\n",
      "[75]\ttrain's hr_err: 34.3551\ttest's hr_err: 42.9394\n",
      "[80]\ttrain's hr_err: 34.3551\ttest's hr_err: 42.9394\n",
      "[85]\ttrain's hr_err: 34.3551\ttest's hr_err: 42.9394\n",
      "[90]\ttrain's hr_err: 34.3551\ttest's hr_err: 42.9394\n",
      "[95]\ttrain's hr_err: 34.3551\ttest's hr_err: 42.9394\n",
      "[100]\ttrain's hr_err: 34.3551\ttest's hr_err: 42.9394\n",
      "[105]\ttrain's hr_err: 34.3551\ttest's hr_err: 42.9394\n",
      "[110]\ttrain's hr_err: 34.3551\ttest's hr_err: 42.9394\n",
      "[115]\ttrain's hr_err: 34.3551\ttest's hr_err: 42.9394\n",
      "Early stopping, best iteration is:\n",
      "[67]\ttrain's hr_err: 34.3551\ttest's hr_err: 42.9394\n",
      "Before fine-tuning: MSE = 0.09762570581066639, HR error = 47.82071472559714, HR error (squared) = 3543.5359775961015\n",
      "\n",
      "\n",
      "Fine-tuning...\n"
     ]
    },
    {
     "name": "stderr",
     "output_type": "stream",
     "text": [
      "/Users/samuelhmorton/opt/anaconda3/lib/python3.7/site-packages/lightgbm/engine.py:260: UserWarning: 'evals_result' argument is deprecated and will be removed in a future release of LightGBM. Pass 'record_evaluation()' callback via 'callbacks' argument instead.\n",
      "  _log_warning(\"'evals_result' argument is deprecated and will be removed in a future release of LightGBM. \"\n"
     ]
    },
    {
     "name": "stdout",
     "output_type": "stream",
     "text": [
      "Training until validation scores don't improve for 25 rounds\n",
      "[70]\ttrain's hr_err: 3.01572\ttest's hr_err: 51.1777\n",
      "[75]\ttrain's hr_err: 3.01572\ttest's hr_err: 51.1777\n",
      "[80]\ttrain's hr_err: 3.01572\ttest's hr_err: 51.1777\n",
      "[85]\ttrain's hr_err: 3.01572\ttest's hr_err: 51.1777\n",
      "[90]\ttrain's hr_err: 3.01572\ttest's hr_err: 51.1777\n",
      "Early stopping, best iteration is:\n",
      "[68]\ttrain's hr_err: 3.01572\ttest's hr_err: 51.1777\n",
      "Finished training in 0:05:25.957082\n",
      "\n",
      "\n",
      "Training excluding subject 5...\n",
      "\n",
      "Rows per batch: 5385\n"
     ]
    },
    {
     "name": "stderr",
     "output_type": "stream",
     "text": [
      "/Users/samuelhmorton/opt/anaconda3/lib/python3.7/site-packages/lightgbm/engine.py:260: UserWarning: 'evals_result' argument is deprecated and will be removed in a future release of LightGBM. Pass 'record_evaluation()' callback via 'callbacks' argument instead.\n",
      "  _log_warning(\"'evals_result' argument is deprecated and will be removed in a future release of LightGBM. \"\n"
     ]
    },
    {
     "name": "stdout",
     "output_type": "stream",
     "text": [
      "Training until validation scores don't improve for 50 rounds\n",
      "[5]\ttrain's hr_err: 56.3151\ttest's hr_err: 42.4685\n",
      "[10]\ttrain's hr_err: 56.5762\ttest's hr_err: 46.8755\n",
      "[15]\ttrain's hr_err: 52.7446\ttest's hr_err: 37.3443\n",
      "[20]\ttrain's hr_err: 57.4518\ttest's hr_err: 42.0849\n",
      "[25]\ttrain's hr_err: 65.7311\ttest's hr_err: 40.7837\n",
      "[30]\ttrain's hr_err: 51.062\ttest's hr_err: 53.7067\n",
      "[35]\ttrain's hr_err: 60.3176\ttest's hr_err: 53.1688\n",
      "[40]\ttrain's hr_err: 57.9101\ttest's hr_err: 50.0763\n"
     ]
    },
    {
     "ename": "KeyboardInterrupt",
     "evalue": "",
     "output_type": "error",
     "traceback": [
      "\u001b[0;31m---------------------------------------------------------------------------\u001b[0m",
      "\u001b[0;31mKeyboardInterrupt\u001b[0m                         Traceback (most recent call last)",
      "\u001b[0;32m/var/folders/rg/h0swnf611kvgnhnj7mb2m6300000gn/T/ipykernel_17230/948276150.py\u001b[0m in \u001b[0;36m<module>\u001b[0;34m\u001b[0m\n\u001b[1;32m      1\u001b[0m \u001b[0moptimizer\u001b[0m \u001b[0;34m=\u001b[0m \u001b[0mLonePineOptimizer\u001b[0m\u001b[0;34m(\u001b[0m\u001b[0mtruths\u001b[0m\u001b[0;34m)\u001b[0m\u001b[0;34m\u001b[0m\u001b[0;34m\u001b[0m\u001b[0m\n\u001b[0;32m----> 2\u001b[0;31m \u001b[0mresult\u001b[0m \u001b[0;34m=\u001b[0m \u001b[0moptimizer\u001b[0m\u001b[0;34m.\u001b[0m\u001b[0moptimize\u001b[0m\u001b[0;34m(\u001b[0m\u001b[0mn_calls\u001b[0m \u001b[0;34m=\u001b[0m \u001b[0;36m25\u001b[0m\u001b[0;34m)\u001b[0m\u001b[0;34m\u001b[0m\u001b[0;34m\u001b[0m\u001b[0m\n\u001b[0m",
      "\u001b[0;32m/var/folders/rg/h0swnf611kvgnhnj7mb2m6300000gn/T/ipykernel_17230/1964277497.py\u001b[0m in \u001b[0;36moptimize\u001b[0;34m(self, n_calls)\u001b[0m\n\u001b[1;32m    123\u001b[0m \u001b[0;34m\u001b[0m\u001b[0m\n\u001b[1;32m    124\u001b[0m         result = gp_minimize(\n\u001b[0;32m--> 125\u001b[0;31m             \u001b[0mwrapped_objective\u001b[0m\u001b[0;34m,\u001b[0m \u001b[0mspace\u001b[0m\u001b[0;34m,\u001b[0m \u001b[0mn_calls\u001b[0m\u001b[0;34m=\u001b[0m\u001b[0mn_calls\u001b[0m\u001b[0;34m,\u001b[0m \u001b[0mrandom_state\u001b[0m\u001b[0;34m=\u001b[0m\u001b[0;36m42\u001b[0m\u001b[0;34m,\u001b[0m \u001b[0mverbose\u001b[0m\u001b[0;34m=\u001b[0m\u001b[0;36m1\u001b[0m\u001b[0;34m\u001b[0m\u001b[0;34m\u001b[0m\u001b[0m\n\u001b[0m\u001b[1;32m    126\u001b[0m         )\n\u001b[1;32m    127\u001b[0m \u001b[0;34m\u001b[0m\u001b[0m\n",
      "\u001b[0;32m~/opt/anaconda3/lib/python3.7/site-packages/skopt/optimizer/gp.py\u001b[0m in \u001b[0;36mgp_minimize\u001b[0;34m(func, dimensions, base_estimator, n_calls, n_random_starts, n_initial_points, initial_point_generator, acq_func, acq_optimizer, x0, y0, random_state, verbose, callback, n_points, n_restarts_optimizer, xi, kappa, noise, n_jobs, model_queue_size)\u001b[0m\n\u001b[1;32m    266\u001b[0m         \u001b[0mn_restarts_optimizer\u001b[0m\u001b[0;34m=\u001b[0m\u001b[0mn_restarts_optimizer\u001b[0m\u001b[0;34m,\u001b[0m\u001b[0;34m\u001b[0m\u001b[0;34m\u001b[0m\u001b[0m\n\u001b[1;32m    267\u001b[0m         \u001b[0mx0\u001b[0m\u001b[0;34m=\u001b[0m\u001b[0mx0\u001b[0m\u001b[0;34m,\u001b[0m \u001b[0my0\u001b[0m\u001b[0;34m=\u001b[0m\u001b[0my0\u001b[0m\u001b[0;34m,\u001b[0m \u001b[0mrandom_state\u001b[0m\u001b[0;34m=\u001b[0m\u001b[0mrng\u001b[0m\u001b[0;34m,\u001b[0m \u001b[0mverbose\u001b[0m\u001b[0;34m=\u001b[0m\u001b[0mverbose\u001b[0m\u001b[0;34m,\u001b[0m\u001b[0;34m\u001b[0m\u001b[0;34m\u001b[0m\u001b[0m\n\u001b[0;32m--> 268\u001b[0;31m         callback=callback, n_jobs=n_jobs, model_queue_size=model_queue_size)\n\u001b[0m",
      "\u001b[0;32m~/opt/anaconda3/lib/python3.7/site-packages/skopt/optimizer/base.py\u001b[0m in \u001b[0;36mbase_minimize\u001b[0;34m(func, dimensions, base_estimator, n_calls, n_random_starts, n_initial_points, initial_point_generator, acq_func, acq_optimizer, x0, y0, random_state, verbose, callback, n_points, n_restarts_optimizer, xi, kappa, n_jobs, model_queue_size)\u001b[0m\n\u001b[1;32m    297\u001b[0m     \u001b[0;32mfor\u001b[0m \u001b[0mn\u001b[0m \u001b[0;32min\u001b[0m \u001b[0mrange\u001b[0m\u001b[0;34m(\u001b[0m\u001b[0mn_calls\u001b[0m\u001b[0;34m)\u001b[0m\u001b[0;34m:\u001b[0m\u001b[0;34m\u001b[0m\u001b[0;34m\u001b[0m\u001b[0m\n\u001b[1;32m    298\u001b[0m         \u001b[0mnext_x\u001b[0m \u001b[0;34m=\u001b[0m \u001b[0moptimizer\u001b[0m\u001b[0;34m.\u001b[0m\u001b[0mask\u001b[0m\u001b[0;34m(\u001b[0m\u001b[0;34m)\u001b[0m\u001b[0;34m\u001b[0m\u001b[0;34m\u001b[0m\u001b[0m\n\u001b[0;32m--> 299\u001b[0;31m         \u001b[0mnext_y\u001b[0m \u001b[0;34m=\u001b[0m \u001b[0mfunc\u001b[0m\u001b[0;34m(\u001b[0m\u001b[0mnext_x\u001b[0m\u001b[0;34m)\u001b[0m\u001b[0;34m\u001b[0m\u001b[0;34m\u001b[0m\u001b[0m\n\u001b[0m\u001b[1;32m    300\u001b[0m         \u001b[0mresult\u001b[0m \u001b[0;34m=\u001b[0m \u001b[0moptimizer\u001b[0m\u001b[0;34m.\u001b[0m\u001b[0mtell\u001b[0m\u001b[0;34m(\u001b[0m\u001b[0mnext_x\u001b[0m\u001b[0;34m,\u001b[0m \u001b[0mnext_y\u001b[0m\u001b[0;34m)\u001b[0m\u001b[0;34m\u001b[0m\u001b[0;34m\u001b[0m\u001b[0m\n\u001b[1;32m    301\u001b[0m         \u001b[0mresult\u001b[0m\u001b[0;34m.\u001b[0m\u001b[0mspecs\u001b[0m \u001b[0;34m=\u001b[0m \u001b[0mspecs\u001b[0m\u001b[0;34m\u001b[0m\u001b[0;34m\u001b[0m\u001b[0m\n",
      "\u001b[0;32m~/opt/anaconda3/lib/python3.7/site-packages/skopt/utils.py\u001b[0m in \u001b[0;36mwrapper\u001b[0;34m(x)\u001b[0m\n\u001b[1;32m    787\u001b[0m \u001b[0;34m\u001b[0m\u001b[0m\n\u001b[1;32m    788\u001b[0m             \u001b[0;31m# Call the wrapped objective function with the named arguments.\u001b[0m\u001b[0;34m\u001b[0m\u001b[0;34m\u001b[0m\u001b[0;34m\u001b[0m\u001b[0m\n\u001b[0;32m--> 789\u001b[0;31m             \u001b[0mobjective_value\u001b[0m \u001b[0;34m=\u001b[0m \u001b[0mfunc\u001b[0m\u001b[0;34m(\u001b[0m\u001b[0;34m**\u001b[0m\u001b[0marg_dict\u001b[0m\u001b[0;34m)\u001b[0m\u001b[0;34m\u001b[0m\u001b[0;34m\u001b[0m\u001b[0m\n\u001b[0m\u001b[1;32m    790\u001b[0m \u001b[0;34m\u001b[0m\u001b[0m\n\u001b[1;32m    791\u001b[0m             \u001b[0;32mreturn\u001b[0m \u001b[0mobjective_value\u001b[0m\u001b[0;34m\u001b[0m\u001b[0;34m\u001b[0m\u001b[0m\n",
      "\u001b[0;32m/var/folders/rg/h0swnf611kvgnhnj7mb2m6300000gn/T/ipykernel_17230/1964277497.py\u001b[0m in \u001b[0;36mwrapped_objective\u001b[0;34m(**params)\u001b[0m\n\u001b[1;32m    120\u001b[0m         \u001b[0;34m@\u001b[0m\u001b[0muse_named_args\u001b[0m\u001b[0;34m(\u001b[0m\u001b[0mspace\u001b[0m\u001b[0;34m)\u001b[0m\u001b[0;34m\u001b[0m\u001b[0;34m\u001b[0m\u001b[0m\n\u001b[1;32m    121\u001b[0m         \u001b[0;32mdef\u001b[0m \u001b[0mwrapped_objective\u001b[0m\u001b[0;34m(\u001b[0m\u001b[0;34m**\u001b[0m\u001b[0mparams\u001b[0m\u001b[0;34m)\u001b[0m\u001b[0;34m:\u001b[0m\u001b[0;34m\u001b[0m\u001b[0;34m\u001b[0m\u001b[0m\n\u001b[0;32m--> 122\u001b[0;31m             \u001b[0;32mreturn\u001b[0m \u001b[0mself\u001b[0m\u001b[0;34m.\u001b[0m\u001b[0mobjective\u001b[0m\u001b[0;34m(\u001b[0m\u001b[0;34m**\u001b[0m\u001b[0mparams\u001b[0m\u001b[0;34m)\u001b[0m\u001b[0;34m\u001b[0m\u001b[0;34m\u001b[0m\u001b[0m\n\u001b[0m\u001b[1;32m    123\u001b[0m \u001b[0;34m\u001b[0m\u001b[0m\n\u001b[1;32m    124\u001b[0m         result = gp_minimize(\n",
      "\u001b[0;32m/var/folders/rg/h0swnf611kvgnhnj7mb2m6300000gn/T/ipykernel_17230/1964277497.py\u001b[0m in \u001b[0;36mobjective\u001b[0;34m(self, n_estimators, split_size, learning_rate, test_size, early_stopping_rounds, mse_weight, dtw_weight, data_beg, data_end, batches, finetune, min_bandpass_freq, max_bandpass_freq, bandpass_order, predicted_peaks_prominence, true_peaks_prominence, max_depth, num_leaves, max_bin, num_feats_per_channel, skip_amount)\u001b[0m\n\u001b[1;32m     90\u001b[0m             \u001b[0mmax_bin\u001b[0m \u001b[0;34m=\u001b[0m \u001b[0mmax_bin\u001b[0m\u001b[0;34m,\u001b[0m\u001b[0;34m\u001b[0m\u001b[0;34m\u001b[0m\u001b[0m\n\u001b[1;32m     91\u001b[0m             \u001b[0mnum_feats_per_channel\u001b[0m \u001b[0;34m=\u001b[0m \u001b[0mnum_feats_per_channel\u001b[0m\u001b[0;34m,\u001b[0m\u001b[0;34m\u001b[0m\u001b[0;34m\u001b[0m\u001b[0m\n\u001b[0;32m---> 92\u001b[0;31m             \u001b[0mskip_amount\u001b[0m \u001b[0;34m=\u001b[0m \u001b[0mskip_amount\u001b[0m\u001b[0;34m,\u001b[0m\u001b[0;34m\u001b[0m\u001b[0;34m\u001b[0m\u001b[0m\n\u001b[0m\u001b[1;32m     93\u001b[0m         )\n\u001b[1;32m     94\u001b[0m         \u001b[0;32mreturn\u001b[0m \u001b[0mhr_score\u001b[0m\u001b[0;34m\u001b[0m\u001b[0;34m\u001b[0m\u001b[0m\n",
      "\u001b[0;32m/var/folders/rg/h0swnf611kvgnhnj7mb2m6300000gn/T/ipykernel_17230/1964277497.py\u001b[0m in \u001b[0;36msubjectwise_kfold\u001b[0;34m(truths, model_type, random_state, loss_type, n_estimators, split_size, learning_rate, test_size, early_stopping_rounds, mse_weight, dtw_weight, data_beg, data_end, batches, finetune, min_bandpass_freq, max_bandpass_freq, bandpass_order, predicted_peaks_prominence, true_peaks_prominence, max_depth, num_leaves, max_bin, num_feats_per_channel, skip_amount, rounds_per_model)\u001b[0m\n\u001b[1;32m     41\u001b[0m                     \u001b[0mexcluded_subject\u001b[0m \u001b[0;34m=\u001b[0m \u001b[0msubj_idx\u001b[0m \u001b[0;34m+\u001b[0m \u001b[0;36m1\u001b[0m\u001b[0;34m\u001b[0m\u001b[0;34m\u001b[0m\u001b[0m\n\u001b[1;32m     42\u001b[0m                 )\n\u001b[0;32m---> 43\u001b[0;31m                 \u001b[0mmod\u001b[0m\u001b[0;34m.\u001b[0m\u001b[0mfit\u001b[0m\u001b[0;34m(\u001b[0m\u001b[0;34m)\u001b[0m\u001b[0;34m\u001b[0m\u001b[0;34m\u001b[0m\u001b[0m\n\u001b[0m\u001b[1;32m     44\u001b[0m                 \u001b[0mmodels\u001b[0m\u001b[0;34m[\u001b[0m\u001b[0msubj_idx\u001b[0m \u001b[0;34m+\u001b[0m \u001b[0;36m1\u001b[0m\u001b[0;34m]\u001b[0m\u001b[0;34m.\u001b[0m\u001b[0mappend\u001b[0m\u001b[0;34m(\u001b[0m\u001b[0mmod\u001b[0m\u001b[0;34m)\u001b[0m\u001b[0;34m\u001b[0m\u001b[0;34m\u001b[0m\u001b[0m\n\u001b[1;32m     45\u001b[0m \u001b[0;34m\u001b[0m\u001b[0m\n",
      "\u001b[0;32m/var/folders/rg/h0swnf611kvgnhnj7mb2m6300000gn/T/ipykernel_17230/2538266654.py\u001b[0m in \u001b[0;36mfit\u001b[0;34m(self)\u001b[0m\n\u001b[1;32m    148\u001b[0m                     ],\n\u001b[1;32m    149\u001b[0m                     \u001b[0mevals_result\u001b[0m \u001b[0;34m=\u001b[0m \u001b[0mtraining_meta\u001b[0m\u001b[0;34m,\u001b[0m\u001b[0;34m\u001b[0m\u001b[0;34m\u001b[0m\u001b[0m\n\u001b[0;32m--> 150\u001b[0;31m                     \u001b[0minit_model\u001b[0m \u001b[0;34m=\u001b[0m \u001b[0mself\u001b[0m\u001b[0;34m.\u001b[0m\u001b[0mgbm\u001b[0m\u001b[0;34m\u001b[0m\u001b[0;34m\u001b[0m\u001b[0m\n\u001b[0m\u001b[1;32m    151\u001b[0m                 )\n\u001b[1;32m    152\u001b[0m             \u001b[0;32melse\u001b[0m\u001b[0;34m:\u001b[0m\u001b[0;34m\u001b[0m\u001b[0;34m\u001b[0m\u001b[0m\n",
      "\u001b[0;32m~/opt/anaconda3/lib/python3.7/site-packages/lightgbm/engine.py\u001b[0m in \u001b[0;36mtrain\u001b[0;34m(params, train_set, num_boost_round, valid_sets, valid_names, fobj, feval, init_model, feature_name, categorical_feature, early_stopping_rounds, evals_result, verbose_eval, learning_rates, keep_training_booster, callbacks)\u001b[0m\n\u001b[1;32m    290\u001b[0m                                     evaluation_result_list=None))\n\u001b[1;32m    291\u001b[0m \u001b[0;34m\u001b[0m\u001b[0m\n\u001b[0;32m--> 292\u001b[0;31m         \u001b[0mbooster\u001b[0m\u001b[0;34m.\u001b[0m\u001b[0mupdate\u001b[0m\u001b[0;34m(\u001b[0m\u001b[0mfobj\u001b[0m\u001b[0;34m=\u001b[0m\u001b[0mfobj\u001b[0m\u001b[0;34m)\u001b[0m\u001b[0;34m\u001b[0m\u001b[0;34m\u001b[0m\u001b[0m\n\u001b[0m\u001b[1;32m    293\u001b[0m \u001b[0;34m\u001b[0m\u001b[0m\n\u001b[1;32m    294\u001b[0m         \u001b[0mevaluation_result_list\u001b[0m \u001b[0;34m=\u001b[0m \u001b[0;34m[\u001b[0m\u001b[0;34m]\u001b[0m\u001b[0;34m\u001b[0m\u001b[0;34m\u001b[0m\u001b[0m\n",
      "\u001b[0;32m~/opt/anaconda3/lib/python3.7/site-packages/lightgbm/basic.py\u001b[0m in \u001b[0;36mupdate\u001b[0;34m(self, train_set, fobj)\u001b[0m\n\u001b[1;32m   3027\u001b[0m             \u001b[0;32mif\u001b[0m \u001b[0;32mnot\u001b[0m \u001b[0mself\u001b[0m\u001b[0;34m.\u001b[0m\u001b[0m__set_objective_to_none\u001b[0m\u001b[0;34m:\u001b[0m\u001b[0;34m\u001b[0m\u001b[0;34m\u001b[0m\u001b[0m\n\u001b[1;32m   3028\u001b[0m                 \u001b[0mself\u001b[0m\u001b[0;34m.\u001b[0m\u001b[0mreset_parameter\u001b[0m\u001b[0;34m(\u001b[0m\u001b[0;34m{\u001b[0m\u001b[0;34m\"objective\"\u001b[0m\u001b[0;34m:\u001b[0m \u001b[0;34m\"none\"\u001b[0m\u001b[0;34m}\u001b[0m\u001b[0;34m)\u001b[0m\u001b[0;34m.\u001b[0m\u001b[0m__set_objective_to_none\u001b[0m \u001b[0;34m=\u001b[0m \u001b[0;32mTrue\u001b[0m\u001b[0;34m\u001b[0m\u001b[0;34m\u001b[0m\u001b[0m\n\u001b[0;32m-> 3029\u001b[0;31m             \u001b[0mgrad\u001b[0m\u001b[0;34m,\u001b[0m \u001b[0mhess\u001b[0m \u001b[0;34m=\u001b[0m \u001b[0mfobj\u001b[0m\u001b[0;34m(\u001b[0m\u001b[0mself\u001b[0m\u001b[0;34m.\u001b[0m\u001b[0m__inner_predict\u001b[0m\u001b[0;34m(\u001b[0m\u001b[0;36m0\u001b[0m\u001b[0;34m)\u001b[0m\u001b[0;34m,\u001b[0m \u001b[0mself\u001b[0m\u001b[0;34m.\u001b[0m\u001b[0mtrain_set\u001b[0m\u001b[0;34m)\u001b[0m\u001b[0;34m\u001b[0m\u001b[0;34m\u001b[0m\u001b[0m\n\u001b[0m\u001b[1;32m   3030\u001b[0m             \u001b[0;32mreturn\u001b[0m \u001b[0mself\u001b[0m\u001b[0;34m.\u001b[0m\u001b[0m__boost\u001b[0m\u001b[0;34m(\u001b[0m\u001b[0mgrad\u001b[0m\u001b[0;34m,\u001b[0m \u001b[0mhess\u001b[0m\u001b[0;34m)\u001b[0m\u001b[0;34m\u001b[0m\u001b[0;34m\u001b[0m\u001b[0m\n\u001b[1;32m   3031\u001b[0m \u001b[0;34m\u001b[0m\u001b[0m\n",
      "\u001b[0;32m/var/folders/rg/h0swnf611kvgnhnj7mb2m6300000gn/T/ipykernel_17230/1740378157.py\u001b[0m in \u001b[0;36m__call__\u001b[0;34m(self, y_pred, data)\u001b[0m\n\u001b[1;32m     19\u001b[0m \u001b[0;34m\u001b[0m\u001b[0m\n\u001b[1;32m     20\u001b[0m     \u001b[0;32mdef\u001b[0m \u001b[0m__call__\u001b[0m\u001b[0;34m(\u001b[0m\u001b[0mself\u001b[0m\u001b[0;34m,\u001b[0m \u001b[0my_pred\u001b[0m\u001b[0;34m,\u001b[0m \u001b[0mdata\u001b[0m\u001b[0;34m)\u001b[0m\u001b[0;34m:\u001b[0m\u001b[0;34m\u001b[0m\u001b[0;34m\u001b[0m\u001b[0m\n\u001b[0;32m---> 21\u001b[0;31m         \u001b[0;32mreturn\u001b[0m \u001b[0mself\u001b[0m\u001b[0;34m.\u001b[0m\u001b[0mloss_function\u001b[0m\u001b[0;34m(\u001b[0m\u001b[0my_pred\u001b[0m\u001b[0;34m,\u001b[0m \u001b[0mdata\u001b[0m\u001b[0;34m)\u001b[0m\u001b[0;34m\u001b[0m\u001b[0;34m\u001b[0m\u001b[0m\n\u001b[0m\u001b[1;32m     22\u001b[0m \u001b[0;34m\u001b[0m\u001b[0m\n\u001b[1;32m     23\u001b[0m     \u001b[0;32mdef\u001b[0m \u001b[0mmse_loss\u001b[0m\u001b[0;34m(\u001b[0m\u001b[0mself\u001b[0m\u001b[0;34m,\u001b[0m \u001b[0my_pred\u001b[0m\u001b[0;34m,\u001b[0m \u001b[0mdata\u001b[0m\u001b[0;34m)\u001b[0m\u001b[0;34m:\u001b[0m\u001b[0;34m\u001b[0m\u001b[0;34m\u001b[0m\u001b[0m\n",
      "\u001b[0;32m/var/folders/rg/h0swnf611kvgnhnj7mb2m6300000gn/T/ipykernel_17230/1740378157.py\u001b[0m in \u001b[0;36mcombined_loss\u001b[0;34m(self, y_pred, data)\u001b[0m\n\u001b[1;32m     76\u001b[0m \u001b[0;34m\u001b[0m\u001b[0m\n\u001b[1;32m     77\u001b[0m         \u001b[0mmse_grads\u001b[0m\u001b[0;34m,\u001b[0m \u001b[0mmse_hesses\u001b[0m \u001b[0;34m=\u001b[0m \u001b[0mself\u001b[0m\u001b[0;34m.\u001b[0m\u001b[0mmse_loss\u001b[0m\u001b[0;34m(\u001b[0m\u001b[0my_pred\u001b[0m\u001b[0;34m,\u001b[0m \u001b[0mdata\u001b[0m\u001b[0;34m)\u001b[0m\u001b[0;34m\u001b[0m\u001b[0;34m\u001b[0m\u001b[0m\n\u001b[0;32m---> 78\u001b[0;31m         \u001b[0mdtw_grads\u001b[0m\u001b[0;34m,\u001b[0m \u001b[0mdtw_hesses\u001b[0m \u001b[0;34m=\u001b[0m \u001b[0mself\u001b[0m\u001b[0;34m.\u001b[0m\u001b[0msoft_dtw_loss\u001b[0m\u001b[0;34m(\u001b[0m\u001b[0my_pred\u001b[0m\u001b[0;34m,\u001b[0m \u001b[0mdata\u001b[0m\u001b[0;34m)\u001b[0m\u001b[0;34m\u001b[0m\u001b[0;34m\u001b[0m\u001b[0m\n\u001b[0m\u001b[1;32m     79\u001b[0m \u001b[0;34m\u001b[0m\u001b[0m\n\u001b[1;32m     80\u001b[0m         \u001b[0mcombined_grad\u001b[0m \u001b[0;34m=\u001b[0m \u001b[0mself\u001b[0m\u001b[0;34m.\u001b[0m\u001b[0mmse_weight\u001b[0m \u001b[0;34m*\u001b[0m \u001b[0mmse_grads\u001b[0m \u001b[0;34m+\u001b[0m \u001b[0mself\u001b[0m\u001b[0;34m.\u001b[0m\u001b[0mdtw_weight\u001b[0m \u001b[0;34m*\u001b[0m \u001b[0mdtw_grads\u001b[0m\u001b[0;34m\u001b[0m\u001b[0;34m\u001b[0m\u001b[0m\n",
      "\u001b[0;32m/var/folders/rg/h0swnf611kvgnhnj7mb2m6300000gn/T/ipykernel_17230/1740378157.py\u001b[0m in \u001b[0;36msoft_dtw_loss\u001b[0;34m(self, y_pred, data)\u001b[0m\n\u001b[1;32m     51\u001b[0m             \u001b[0my_pred_curr\u001b[0m \u001b[0;34m=\u001b[0m \u001b[0my_pred\u001b[0m\u001b[0;34m[\u001b[0m\u001b[0mi\u001b[0m \u001b[0;34m*\u001b[0m \u001b[0mself\u001b[0m\u001b[0;34m.\u001b[0m\u001b[0msplit_size\u001b[0m\u001b[0;34m:\u001b[0m \u001b[0;34m(\u001b[0m\u001b[0mi\u001b[0m \u001b[0;34m+\u001b[0m \u001b[0;36m1\u001b[0m\u001b[0;34m)\u001b[0m \u001b[0;34m*\u001b[0m \u001b[0mself\u001b[0m\u001b[0;34m.\u001b[0m\u001b[0msplit_size\u001b[0m\u001b[0;34m]\u001b[0m\u001b[0;34m\u001b[0m\u001b[0;34m\u001b[0m\u001b[0m\n\u001b[1;32m     52\u001b[0m \u001b[0;34m\u001b[0m\u001b[0m\n\u001b[0;32m---> 53\u001b[0;31m             \u001b[0mgrad_curr\u001b[0m\u001b[0;34m,\u001b[0m \u001b[0mhess_curr\u001b[0m \u001b[0;34m=\u001b[0m \u001b[0mself\u001b[0m\u001b[0;34m.\u001b[0m\u001b[0msoft_dtw_loss_helper\u001b[0m\u001b[0;34m(\u001b[0m\u001b[0my_true_curr\u001b[0m\u001b[0;34m,\u001b[0m \u001b[0my_pred_curr\u001b[0m\u001b[0;34m)\u001b[0m\u001b[0;34m\u001b[0m\u001b[0;34m\u001b[0m\u001b[0m\n\u001b[0m\u001b[1;32m     54\u001b[0m             \u001b[0mgrad_curr\u001b[0m \u001b[0;34m=\u001b[0m \u001b[0mgrad_curr\u001b[0m\u001b[0;34m.\u001b[0m\u001b[0mflatten\u001b[0m\u001b[0;34m(\u001b[0m\u001b[0;34m)\u001b[0m\u001b[0;34m\u001b[0m\u001b[0;34m\u001b[0m\u001b[0m\n\u001b[1;32m     55\u001b[0m             \u001b[0mhess_curr\u001b[0m \u001b[0;34m=\u001b[0m \u001b[0mhess_curr\u001b[0m\u001b[0;34m.\u001b[0m\u001b[0mflatten\u001b[0m\u001b[0;34m(\u001b[0m\u001b[0;34m)\u001b[0m\u001b[0;34m\u001b[0m\u001b[0;34m\u001b[0m\u001b[0m\n",
      "\u001b[0;32m/var/folders/rg/h0swnf611kvgnhnj7mb2m6300000gn/T/ipykernel_17230/1740378157.py\u001b[0m in \u001b[0;36msoft_dtw_loss_helper\u001b[0;34m(self, y_true, y_pred)\u001b[0m\n\u001b[1;32m     66\u001b[0m         \u001b[0msdtw\u001b[0m \u001b[0;34m=\u001b[0m \u001b[0mSoftDTW\u001b[0m\u001b[0;34m(\u001b[0m\u001b[0mD\u001b[0m\u001b[0;34m,\u001b[0m \u001b[0mgamma\u001b[0m \u001b[0;34m=\u001b[0m \u001b[0mself\u001b[0m\u001b[0;34m.\u001b[0m\u001b[0mgamma\u001b[0m\u001b[0;34m)\u001b[0m\u001b[0;34m\u001b[0m\u001b[0;34m\u001b[0m\u001b[0m\n\u001b[1;32m     67\u001b[0m         \u001b[0msdtw\u001b[0m\u001b[0;34m.\u001b[0m\u001b[0mcompute\u001b[0m\u001b[0;34m(\u001b[0m\u001b[0;34m)\u001b[0m\u001b[0;34m\u001b[0m\u001b[0;34m\u001b[0m\u001b[0m\n\u001b[0;32m---> 68\u001b[0;31m         \u001b[0mE\u001b[0m \u001b[0;34m=\u001b[0m \u001b[0msdtw\u001b[0m\u001b[0;34m.\u001b[0m\u001b[0mgrad\u001b[0m\u001b[0;34m(\u001b[0m\u001b[0;34m)\u001b[0m\u001b[0;34m\u001b[0m\u001b[0;34m\u001b[0m\u001b[0m\n\u001b[0m\u001b[1;32m     69\u001b[0m         \u001b[0mG\u001b[0m \u001b[0;34m=\u001b[0m \u001b[0mD\u001b[0m\u001b[0;34m.\u001b[0m\u001b[0mjacobian_product\u001b[0m\u001b[0;34m(\u001b[0m\u001b[0mE\u001b[0m\u001b[0;34m)\u001b[0m\u001b[0;34m\u001b[0m\u001b[0;34m\u001b[0m\u001b[0m\n\u001b[1;32m     70\u001b[0m         \u001b[0;32mreturn\u001b[0m \u001b[0mG\u001b[0m\u001b[0;34m,\u001b[0m \u001b[0mnp\u001b[0m\u001b[0;34m.\u001b[0m\u001b[0mones\u001b[0m\u001b[0;34m(\u001b[0m\u001b[0mlen\u001b[0m\u001b[0;34m(\u001b[0m\u001b[0mG\u001b[0m\u001b[0;34m)\u001b[0m\u001b[0;34m)\u001b[0m\u001b[0;34m\u001b[0m\u001b[0;34m\u001b[0m\u001b[0m\n",
      "\u001b[0;32m~/opt/anaconda3/lib/python3.7/site-packages/soft_dtw-0.1.dev0-py3.7-macosx-10.9-x86_64.egg/sdtw/soft_dtw.py\u001b[0m in \u001b[0;36mgrad\u001b[0;34m(self)\u001b[0m\n\u001b[1;32m     79\u001b[0m         \u001b[0mE\u001b[0m \u001b[0;34m=\u001b[0m \u001b[0mnp\u001b[0m\u001b[0;34m.\u001b[0m\u001b[0mzeros\u001b[0m\u001b[0;34m(\u001b[0m\u001b[0;34m(\u001b[0m\u001b[0mm\u001b[0m\u001b[0;34m+\u001b[0m\u001b[0;36m2\u001b[0m\u001b[0;34m,\u001b[0m \u001b[0mn\u001b[0m\u001b[0;34m+\u001b[0m\u001b[0;36m2\u001b[0m\u001b[0;34m)\u001b[0m\u001b[0;34m)\u001b[0m\u001b[0;34m\u001b[0m\u001b[0;34m\u001b[0m\u001b[0m\n\u001b[1;32m     80\u001b[0m \u001b[0;34m\u001b[0m\u001b[0m\n\u001b[0;32m---> 81\u001b[0;31m         \u001b[0m_soft_dtw_grad\u001b[0m\u001b[0;34m(\u001b[0m\u001b[0mD\u001b[0m\u001b[0;34m,\u001b[0m \u001b[0mself\u001b[0m\u001b[0;34m.\u001b[0m\u001b[0mR_\u001b[0m\u001b[0;34m,\u001b[0m \u001b[0mE\u001b[0m\u001b[0;34m,\u001b[0m \u001b[0mgamma\u001b[0m\u001b[0;34m=\u001b[0m\u001b[0mself\u001b[0m\u001b[0;34m.\u001b[0m\u001b[0mgamma\u001b[0m\u001b[0;34m)\u001b[0m\u001b[0;34m\u001b[0m\u001b[0;34m\u001b[0m\u001b[0m\n\u001b[0m\u001b[1;32m     82\u001b[0m \u001b[0;34m\u001b[0m\u001b[0m\n\u001b[1;32m     83\u001b[0m         \u001b[0;32mreturn\u001b[0m \u001b[0mE\u001b[0m\u001b[0;34m[\u001b[0m\u001b[0;36m1\u001b[0m\u001b[0;34m:\u001b[0m\u001b[0;34m-\u001b[0m\u001b[0;36m1\u001b[0m\u001b[0;34m,\u001b[0m \u001b[0;36m1\u001b[0m\u001b[0;34m:\u001b[0m\u001b[0;34m-\u001b[0m\u001b[0;36m1\u001b[0m\u001b[0;34m]\u001b[0m\u001b[0;34m\u001b[0m\u001b[0;34m\u001b[0m\u001b[0m\n",
      "\u001b[0;31mKeyboardInterrupt\u001b[0m: "
     ]
    }
   ],
   "source": [
    "optimizer = LonePineOptimizer(truths)\n",
    "result = optimizer.optimize(n_calls = 25)"
   ]
  },
  {
   "cell_type": "code",
   "execution_count": null,
   "metadata": {},
   "outputs": [],
   "source": [
    "np.mean([model_performances[sub][i][1] for sub in model_performances for i in range(3)])"
   ]
  },
  {
   "cell_type": "code",
   "execution_count": null,
   "metadata": {},
   "outputs": [],
   "source": [
    "test_subject = 7\n",
    "test_subject_truth = truths[test_subject - 1]\n",
    "\n",
    "mod = LonePineGBM(\n",
    "    truths, n_estimators = 100, loss_type = 'combined', split_size = 1280,\n",
    "    excluded_subject = test_subject, model_type = 'gbdt', learning_rate = 0.005, early_stopping_rounds = 20,\n",
    "    mse_weight = 0.25, dtw_weight = 0.75, batches = 4, finetune = True, data_beg = 2000, data_end = 5000\n",
    ")\n",
    "mod.fit()"
   ]
  },
  {
   "cell_type": "code",
   "execution_count": null,
   "metadata": {},
   "outputs": [],
   "source": [
    "mse, hr_err, hr_err_sq = mod.eval()\n",
    "\n",
    "print(f'\\n\\nMSE: {mse}')\n",
    "print(f'HR error: {hr_err}')\n",
    "print(f'HR error squared: {hr_err_sq}\\n\\n')\n",
    "\n",
    "mod.get_model_stats()\n",
    "mod.plot_loss()"
   ]
  },
  {
   "cell_type": "code",
   "execution_count": null,
   "metadata": {},
   "outputs": [],
   "source": [
    "beg = 2000\n",
    "end = beg + 640\n",
    "\n",
    "model = mod\n",
    "\n",
    "data = truths[2].prepare_data_for_ml()\n",
    "x = data.drop(columns = ['bvp']).to_numpy()\n",
    "y = data['bvp'].to_numpy()\n",
    "\n",
    "targ = y[beg: end]\n",
    "pred = model.predict(x)[beg: end]\n",
    "targ, pred = mod.process_signal(targ, pred, use_bandpass=True)\n",
    "\n",
    "pred_peaks, _ = mod.get_predicted_peaks(pred)\n",
    "true_peaks, _ = mod.get_true_peaks(targ)\n",
    "\n",
    "plt.plot(targ)\n",
    "plt.plot(pred)\n",
    "plt.scatter(pred_peaks, pred[pred_peaks], c='r')\n",
    "plt.scatter(true_peaks, targ[true_peaks], c='g')\n",
    "\n",
    "pred_ibis = np.diff(pred_peaks) / 64\n",
    "true_ibis = np.diff(true_peaks) / 64\n",
    "pred_hr = get_hr(pred_ibis)\n",
    "true_hr = get_hr(true_ibis)\n",
    "print(f'True HR: {true_hr}; Pred HR: {pred_hr}')"
   ]
  }
 ],
 "metadata": {
  "kernelspec": {
   "display_name": "base",
   "language": "python",
   "name": "python3"
  },
  "language_info": {
   "codemirror_mode": {
    "name": "ipython",
    "version": 3
   },
   "file_extension": ".py",
   "mimetype": "text/x-python",
   "name": "python",
   "nbconvert_exporter": "python",
   "pygments_lexer": "ipython3",
   "version": "3.7.6"
  },
  "orig_nbformat": 4
 },
 "nbformat": 4,
 "nbformat_minor": 2
}
